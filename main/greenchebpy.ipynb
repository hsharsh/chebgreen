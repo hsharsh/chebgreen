{
 "cells": [
  {
   "cell_type": "code",
   "execution_count": 1,
   "id": "788aa495-0096-4ce0-81f0-91f196300999",
   "metadata": {},
   "outputs": [
    {
     "name": "stdout",
     "output_type": "stream",
     "text": [
      "env: TF_MLC_LOGGING=1\n",
      "env: TF_CPP_MIN_LOG_LEVEL=2\n"
     ]
    }
   ],
   "source": [
    "from greenlearning.utils import DataProcessor\n",
    "from greenlearning.model import *\n",
    "from chebpy2 import Chebfun2, cheb2prefs\n",
    "import matplotlib.pyplot as plt\n",
    "\n",
    "%env TF_MLC_LOGGING=1\n",
    "%env TF_CPP_MIN_LOG_LEVEL=2"
   ]
  },
  {
   "cell_type": "code",
   "execution_count": 2,
   "id": "0bcba4fa-dcfa-410a-b613-4aa472ea14b6",
   "metadata": {},
   "outputs": [
    {
     "name": "stdout",
     "output_type": "stream",
     "text": [
      "Metal device set to: Apple M1 Pro\n"
     ]
    }
   ],
   "source": [
    "model = Model(loadPath = \"savedmodel\")"
   ]
  },
  {
   "cell_type": "code",
   "execution_count": null,
   "id": "e6f7187e-89b5-4dfb-bdf9-3a8dc1921d9b",
   "metadata": {},
   "outputs": [],
   "source": [
    "%%time\n",
    "g = Chebfun2(model.evaluateG, domain = [0, 1, 0, 1], prefs = cheb2prefs)"
   ]
  },
  {
   "cell_type": "code",
   "execution_count": null,
   "id": "9e39c614-a39c-4cf4-9d9c-6500b9a6b6cb",
   "metadata": {},
   "outputs": [],
   "source": [
    "g"
   ]
  },
  {
   "cell_type": "code",
   "execution_count": null,
   "id": "87df13ef-0fd0-4bff-9097-559ded15aaad",
   "metadata": {},
   "outputs": [],
   "source": [
    "xx = np.linspace(0,1,2000)\n",
    "yy = np.linspace(0,1,2000)\n",
    "x, y = np.meshgrid(xx,yy)"
   ]
  },
  {
   "cell_type": "code",
   "execution_count": null,
   "id": "4fb42ea5-5d47-47ed-befa-24d76c9515ad",
   "metadata": {},
   "outputs": [],
   "source": [
    "%%time\n",
    "Gneural = model.evaluateG(x,y)"
   ]
  },
  {
   "cell_type": "code",
   "execution_count": null,
   "id": "3b6d2ff1-4d3e-4afc-a7ee-6b575c2eece7",
   "metadata": {},
   "outputs": [],
   "source": [
    "plt.contourf(x,y,Gneural, 50, cmap = 'turbo', vmin = np.min(Gneural), vmax = np.max(Gneural))\n",
    "plt.colorbar()"
   ]
  },
  {
   "cell_type": "code",
   "execution_count": null,
   "id": "1773f18f-d641-4948-b2d6-4520055a0304",
   "metadata": {},
   "outputs": [],
   "source": [
    "%%time\n",
    "G = g[x,y]"
   ]
  },
  {
   "cell_type": "code",
   "execution_count": null,
   "id": "8ed6d645-3c79-4f4d-bf36-0a63ded1c3a4",
   "metadata": {},
   "outputs": [],
   "source": [
    "plt.contourf(x,y,G, 50, cmap = 'turbo', vmin = np.min(G), vmax = np.max(G))\n",
    "plt.colorbar()"
   ]
  }
 ],
 "metadata": {
  "kernelspec": {
   "display_name": "Python 3 (ipykernel)",
   "language": "python",
   "name": "python3"
  },
  "language_info": {
   "codemirror_mode": {
    "name": "ipython",
    "version": 3
   },
   "file_extension": ".py",
   "mimetype": "text/x-python",
   "name": "python",
   "nbconvert_exporter": "python",
   "pygments_lexer": "ipython3",
   "version": "3.10.10"
  }
 },
 "nbformat": 4,
 "nbformat_minor": 5
}
