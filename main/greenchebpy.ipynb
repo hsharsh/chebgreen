{
 "cells": [
  {
   "cell_type": "code",
   "execution_count": 1,
   "id": "788aa495-0096-4ce0-81f0-91f196300999",
   "metadata": {},
   "outputs": [
    {
     "name": "stdout",
     "output_type": "stream",
     "text": [
      "env: TF_MLC_LOGGING=1\n",
      "env: TF_CPP_MIN_LOG_LEVEL=2\n"
     ]
    }
   ],
   "source": [
    "from chebGreen.greenlearning.model import *\n",
    "from chebGreen.chebpy2 import Chebfun2, cheb2prefs\n",
    "import matplotlib.pyplot as plt\n",
    "\n",
    "%env TF_MLC_LOGGING=1\n",
    "%env TF_CPP_MIN_LOG_LEVEL=2"
   ]
  },
  {
   "cell_type": "code",
   "execution_count": 2,
   "id": "0bcba4fa-dcfa-410a-b613-4aa472ea14b6",
   "metadata": {},
   "outputs": [
    {
     "name": "stdout",
     "output_type": "stream",
     "text": [
      "Metal device set to: Apple M1 Pro\n"
     ]
    }
   ],
   "source": [
    "model = GreenNN()\n",
    "model.build(loadPath = \"savedModels/laplace\")"
   ]
  },
  {
   "cell_type": "code",
   "execution_count": 3,
   "id": "e6f7187e-89b5-4dfb-bdf9-3a8dc1921d9b",
   "metadata": {},
   "outputs": [
    {
     "name": "stdout",
     "output_type": "stream",
     "text": [
      "CPU times: user 521 ms, sys: 117 ms, total: 637 ms\n",
      "Wall time: 526 ms\n"
     ]
    }
   ],
   "source": [
    "%%time\n",
    "g = Chebfun2(model.evaluateG, domain = [0, 1, 0, 1], prefs = cheb2prefs, simplify = False)"
   ]
  },
  {
   "cell_type": "code",
   "execution_count": 4,
   "id": "9e39c614-a39c-4cf4-9d9c-6500b9a6b6cb",
   "metadata": {},
   "outputs": [
    {
     "data": {
      "text/plain": [
       "chebfun2 object\n",
       "     domain       rank               corner values\n",
       "[0,1] x [0,1]     46       [0.005 0.002 -0.001 0.002]\n",
       "vertical scale = 0.005244"
      ]
     },
     "execution_count": 4,
     "metadata": {},
     "output_type": "execute_result"
    }
   ],
   "source": [
    "g"
   ]
  },
  {
   "cell_type": "code",
   "execution_count": null,
   "id": "3cba02f8-6af8-495f-a1eb-f6cd3e885939",
   "metadata": {},
   "outputs": [],
   "source": [
    "u,s,v = g.svd()"
   ]
  },
  {
   "cell_type": "code",
   "execution_count": null,
   "id": "a9b732f5-1213-40d9-9c16-16acc276ff11",
   "metadata": {},
   "outputs": [],
   "source": [
    "i = 30\n",
    "fig = plt.figure(figsize = (8,6))\n",
    "u[:,i].plot()\n",
    "plt.title(f'{i+1}th Left singular function for a Laplacian')\n",
    "plt.xlim([0,1])\n",
    "# fig.savefig(f'Laplace-{i+1}.png', dpi = fig.dpi)"
   ]
  },
  {
   "cell_type": "code",
   "execution_count": null,
   "id": "87df13ef-0fd0-4bff-9097-559ded15aaad",
   "metadata": {},
   "outputs": [],
   "source": [
    "xx = np.linspace(0,1,2000)\n",
    "yy = np.linspace(0,1,2000)\n",
    "x, y = np.meshgrid(xx,yy)"
   ]
  },
  {
   "cell_type": "code",
   "execution_count": null,
   "id": "4fb42ea5-5d47-47ed-befa-24d76c9515ad",
   "metadata": {},
   "outputs": [],
   "source": [
    "%%time\n",
    "Gneural = model.evaluateG(x,y)\n",
    "\n",
    "# plt.contourf(x,y,Gneural, 50, cmap = 'turbo', vmin = np.min(Gneural), vmax = np.max(Gneural))\n",
    "# plt.colorbar()"
   ]
  },
  {
   "cell_type": "code",
   "execution_count": null,
   "id": "1773f18f-d641-4948-b2d6-4520055a0304",
   "metadata": {},
   "outputs": [],
   "source": [
    "%%time\n",
    "G = g[x,y]\n",
    "\n",
    "plt.contourf(x,y,G, 50, cmap = 'turbo', vmin = np.min(G), vmax = np.max(G))\n",
    "plt.colorbar()"
   ]
  },
  {
   "cell_type": "code",
   "execution_count": null,
   "id": "5d0ce5d6-a3b7-4856-9c72-7a4b48a8558f",
   "metadata": {},
   "outputs": [],
   "source": []
  }
 ],
 "metadata": {
  "kernelspec": {
   "display_name": "Python 3 (ipykernel)",
   "language": "python",
   "name": "python3"
  },
  "language_info": {
   "codemirror_mode": {
    "name": "ipython",
    "version": 3
   },
   "file_extension": ".py",
   "mimetype": "text/x-python",
   "name": "python",
   "nbconvert_exporter": "python",
   "pygments_lexer": "ipython3",
   "version": "3.10.10"
  }
 },
 "nbformat": 4,
 "nbformat_minor": 5
}
