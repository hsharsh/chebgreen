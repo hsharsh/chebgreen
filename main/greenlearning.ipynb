{
 "cells": [
  {
   "cell_type": "code",
   "execution_count": 1,
   "id": "dad96881-11e0-4559-9387-322ddb8736fc",
   "metadata": {},
   "outputs": [],
   "source": [
    "from chebGreen.greenlearning.utils import DataProcessor\n",
    "from chebGreen.greenlearning.model import *\n",
    "import matplotlib.pyplot as plt\n",
    "\n",
    "# %env TF_MLC_LOGGING=1\n",
    "# %env TF_CPP_MIN_LOG_LEVEL=2"
   ]
  },
  {
   "cell_type": "code",
   "execution_count": 2,
   "id": "e7c9e53c-3626-4ac1-a5ed-82dfc584c556",
   "metadata": {},
   "outputs": [],
   "source": [
    "example = 'laplace'\n",
    "script = 'generate_example'"
   ]
  },
  {
   "cell_type": "code",
   "execution_count": 3,
   "id": "3ae332dc-7b17-46d5-9707-2c7719dba30e",
   "metadata": {
    "scrolled": true,
    "tags": []
   },
   "outputs": [
    {
     "name": "stdout",
     "output_type": "stream",
     "text": [
      "### Example = laplace ###\n",
      "Step = 1/100\n",
      "Step = 2/100\n",
      "Step = 3/100\n",
      "Step = 4/100\n",
      "Step = 5/100\n",
      "Step = 6/100\n",
      "Step = 7/100\n",
      "Step = 8/100\n",
      "Step = 9/100\n",
      "Step = 10/100\n",
      "Step = 11/100\n",
      "Step = 12/100\n",
      "Step = 13/100\n",
      "Step = 14/100\n",
      "Step = 15/100\n",
      "Step = 16/100\n",
      "Step = 17/100\n",
      "Step = 18/100\n",
      "Step = 19/100\n",
      "Step = 20/100\n",
      "Step = 21/100\n",
      "Step = 22/100\n",
      "Step = 23/100\n",
      "Step = 24/100\n",
      "Step = 25/100\n",
      "Step = 26/100\n",
      "Step = 27/100\n",
      "Step = 28/100\n",
      "Step = 29/100\n",
      "Step = 30/100\n",
      "Step = 31/100\n",
      "Step = 32/100\n",
      "Step = 33/100\n",
      "Step = 34/100\n",
      "Step = 35/100\n",
      "Step = 36/100\n",
      "Step = 37/100\n",
      "Step = 38/100\n",
      "Step = 39/100\n",
      "Step = 40/100\n",
      "Step = 41/100\n",
      "Step = 42/100\n",
      "Step = 43/100\n",
      "Step = 44/100\n",
      "Step = 45/100\n",
      "Step = 46/100\n",
      "Step = 47/100\n",
      "Step = 48/100\n",
      "Step = 49/100\n",
      "Step = 50/100\n",
      "Step = 51/100\n",
      "Step = 52/100\n",
      "Step = 53/100\n",
      "Step = 54/100\n",
      "Step = 55/100\n",
      "Step = 56/100\n",
      "Step = 57/100\n",
      "Step = 58/100\n",
      "Step = 59/100\n",
      "Step = 60/100\n",
      "Step = 61/100\n",
      "Step = 62/100\n",
      "Step = 63/100\n",
      "Step = 64/100\n",
      "Step = 65/100\n",
      "Step = 66/100\n",
      "Step = 67/100\n",
      "Step = 68/100\n",
      "Step = 69/100\n",
      "Step = 70/100\n",
      "Step = 71/100\n",
      "Step = 72/100\n",
      "Step = 73/100\n",
      "Step = 74/100\n",
      "Step = 75/100\n",
      "Step = 76/100\n",
      "Step = 77/100\n",
      "Step = 78/100\n",
      "Step = 79/100\n",
      "Step = 80/100\n",
      "Step = 81/100\n",
      "Step = 82/100\n",
      "Step = 83/100\n",
      "Step = 84/100\n",
      "Step = 85/100\n",
      "Step = 86/100\n",
      "Step = 87/100\n",
      "Step = 88/100\n",
      "Step = 89/100\n",
      "Step = 90/100\n",
      "Step = 91/100\n",
      "Step = 92/100\n",
      "Step = 93/100\n",
      "Step = 94/100\n",
      "Step = 95/100\n",
      "Step = 96/100\n",
      "Step = 97/100\n",
      "Step = 98/100\n",
      "Step = 99/100\n",
      "Step = 100/100\n"
     ]
    }
   ],
   "source": [
    "import os\n",
    "matlab_path = \"/Applications/MATLAB_R2023a.app/bin/matlab\"\n",
    "examplematlab = \"\\'\"+example+\"\\'\"\n",
    "matlabcmd = f\"{matlab_path} -nodisplay -nosplash -nodesktop -r \\\"{script}({examplematlab}); exit;\\\" | tail -n +11\"\n",
    "with open(\"temp.sh\", 'w') as f:\n",
    "    f.write(matlabcmd)\n",
    "    f.close()\n",
    "os.system(f\"bash temp.sh\")\n",
    "os.remove(\"temp.sh\")"
   ]
  },
  {
   "cell_type": "code",
   "execution_count": 4,
   "id": "32435d4c-1a0c-438d-ae89-3ca7fb4cfefd",
   "metadata": {},
   "outputs": [],
   "source": [
    "data = DataProcessor(\"datasets/laplace/data.mat\")\n",
    "data.generateDataset(trainRatio = 0.95, batch_size = 1024)"
   ]
  },
  {
   "cell_type": "code",
   "execution_count": 5,
   "id": "6992906b-ac12-49f1-8f98-2c734c75c2d6",
   "metadata": {},
   "outputs": [],
   "source": [
    "model = GreenNN()\n",
    "model.build()"
   ]
  },
  {
   "cell_type": "code",
   "execution_count": null,
   "id": "0e3647c1-af51-4065-82d0-a9629c7e1780",
   "metadata": {
    "scrolled": true,
    "tags": []
   },
   "outputs": [
    {
     "name": "stdout",
     "output_type": "stream",
     "text": [
      "Training with Adam:\n",
      "Loss at epoch 100: Training = 2.261E-02, Validation = 2.207E-02\n",
      "Loss at epoch 200: Training = 2.722E-03, Validation = 2.601E-03\n"
     ]
    }
   ],
   "source": [
    "lossHistory = model.train(data, epochs = {'adam':int(2000), 'lbfgs':int(200)})"
   ]
  },
  {
   "cell_type": "code",
   "execution_count": null,
   "id": "b46b57a2-42d7-4e6c-b202-8ff225b1a77f",
   "metadata": {},
   "outputs": [],
   "source": [
    "plt.figure()\n",
    "plt.semilogy(range(len(lossHistory['training'])), lossHistory['training'], 'b', alpha = 0.5)\n",
    "plt.semilogy(range(len(lossHistory['validation'])), lossHistory['validation'], 'r--', alpha = 0.5)\n",
    "plt.xlabel('Epoch')\n",
    "plt.ylabel('Loss')\n",
    "plt.legend(['Training','Validation'])"
   ]
  },
  {
   "cell_type": "code",
   "execution_count": null,
   "id": "9f681f69-f1e5-4e9b-b0e2-6aa86e1cbf3c",
   "metadata": {},
   "outputs": [],
   "source": [
    "xF, xU = data.xF, data.xU\n",
    "x, y = np.meshgrid(xU, xF)\n",
    "G = model.evaluateG(x,y)\n",
    "\n",
    "fig = plt.figure(figsize = (8,6))\n",
    "plt.contourf(x,y,G, 50, cmap = 'turbo', vmin = np.min(G), vmax = np.max(G))\n",
    "plt.colorbar()"
   ]
  },
  {
   "cell_type": "code",
   "execution_count": null,
   "id": "8473f468-a9a5-425b-b05e-0939fdbf3e42",
   "metadata": {},
   "outputs": [],
   "source": [
    "model.saveModels('savedModels/laplace')"
   ]
  },
  {
   "cell_type": "code",
   "execution_count": null,
   "id": "af4a5a24-8211-4394-a5e0-2f7a63ce5aca",
   "metadata": {},
   "outputs": [],
   "source": []
  }
 ],
 "metadata": {
  "kernelspec": {
   "display_name": "Python 3 (ipykernel)",
   "language": "python",
   "name": "python3"
  },
  "language_info": {
   "codemirror_mode": {
    "name": "ipython",
    "version": 3
   },
   "file_extension": ".py",
   "mimetype": "text/x-python",
   "name": "python",
   "nbconvert_exporter": "python",
   "pygments_lexer": "ipython3",
   "version": "3.11.0"
  }
 },
 "nbformat": 4,
 "nbformat_minor": 5
}
