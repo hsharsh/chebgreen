{
 "cells": [
  {
   "cell_type": "code",
   "execution_count": 1,
   "id": "6f244286-4c13-4dc8-959c-c9ec4a2f7f4d",
   "metadata": {},
   "outputs": [],
   "source": [
    "from chebpy2.chebfun2 import Chebfun2\n",
    "import chebpy as cp\n",
    "import numpy as np"
   ]
  },
  {
   "cell_type": "code",
   "execution_count": 2,
   "id": "ddae1c35-b370-41ff-8529-b8ec743eaace",
   "metadata": {},
   "outputs": [],
   "source": [
    "def green(x,s):\n",
    "    g = 0\n",
    "    g = (x <= s) * (x * (1-s)) + (x > s) * (s * (1-x))\n",
    "    return g"
   ]
  },
  {
   "cell_type": "code",
   "execution_count": 3,
   "id": "3b9232a2-fd73-450f-870e-3ac339575d9d",
   "metadata": {},
   "outputs": [],
   "source": [
    "prefx = cp.core.settings.ChebPreferences()\n",
    "prefy = cp.core.settings.ChebPreferences()\n",
    "prefx.eps = 1e-15\n",
    "prefy.eps = 1e-4"
   ]
  },
  {
   "cell_type": "code",
   "execution_count": 4,
   "id": "026e9cf5-f002-448c-b5e8-2baad2a73535",
   "metadata": {},
   "outputs": [],
   "source": [
    "c = Chebfun2(green, domain = [0, 1, 0, 1], prefx = prefx, prefy = prefy)"
   ]
  },
  {
   "cell_type": "code",
   "execution_count": 5,
   "id": "9bd39277-12dd-49de-a272-e6b8678faaa0",
   "metadata": {},
   "outputs": [
    {
     "data": {
      "text/plain": [
       "{'domain': array([0, 1, 0, 1]),\n",
       " 'cols': array([[chebfun column (1 smooth piece)\n",
       "                interval       length     endpoint values\n",
       "         [       0,       1]       17         0        0\n",
       "         vertical scale =   0                            ,\n",
       "         chebfun column (1 smooth piece)\n",
       "                interval       length     endpoint values\n",
       "         [       0,       1]       17         0        0\n",
       "         vertical scale =   0                            ,\n",
       "         chebfun column (1 smooth piece)\n",
       "                interval       length     endpoint values\n",
       "         [       0,       1]       17         0        0\n",
       "         vertical scale =   0                            ,\n",
       "         chebfun column (1 smooth piece)\n",
       "                interval       length     endpoint values\n",
       "         [       0,       1]       17         0        0\n",
       "         vertical scale =   0                            ,\n",
       "         chebfun column (1 smooth piece)\n",
       "                interval       length     endpoint values\n",
       "         [       0,       1]       17         0        0\n",
       "         vertical scale =   0                            ]], dtype=object),\n",
       " 'rows': array([[chebfun column (1 smooth piece)\n",
       "                interval       length     endpoint values\n",
       "         [       0,       1]       17         0        0\n",
       "         vertical scale =   0                            ,\n",
       "         chebfun column (1 smooth piece)\n",
       "                interval       length     endpoint values\n",
       "         [       0,       1]       17         0        0\n",
       "         vertical scale =   0                            ,\n",
       "         chebfun column (1 smooth piece)\n",
       "                interval       length     endpoint values\n",
       "         [       0,       1]       17         0        0\n",
       "         vertical scale =   0                            ,\n",
       "         chebfun column (1 smooth piece)\n",
       "                interval       length     endpoint values\n",
       "         [       0,       1]       17         0        0\n",
       "         vertical scale =   0                            ,\n",
       "         chebfun column (1 smooth piece)\n",
       "                interval       length     endpoint values\n",
       "         [       0,       1]       17         0        0\n",
       "         vertical scale =   0                            ]], dtype=object),\n",
       " 'pivotValues': array([0., 0., 0., 0., 0.]),\n",
       " 'pivotLocations': array([[0., 0.],\n",
       "        [0., 0.],\n",
       "        [0., 0.],\n",
       "        [0., 0.],\n",
       "        [0., 0.]]),\n",
       " 'rank': 5,\n",
       " 'vscale': 0,\n",
       " 'cornervalues': array([0, 0, 0, 0])}"
      ]
     },
     "execution_count": 5,
     "metadata": {},
     "output_type": "execute_result"
    }
   ],
   "source": [
    "vars(c)"
   ]
  }
 ],
 "metadata": {
  "kernelspec": {
   "display_name": "Python 3 (ipykernel)",
   "language": "python",
   "name": "python3"
  },
  "language_info": {
   "codemirror_mode": {
    "name": "ipython",
    "version": 3
   },
   "file_extension": ".py",
   "mimetype": "text/x-python",
   "name": "python",
   "nbconvert_exporter": "python",
   "pygments_lexer": "ipython3",
   "version": "3.10.10"
  }
 },
 "nbformat": 4,
 "nbformat_minor": 5
}
