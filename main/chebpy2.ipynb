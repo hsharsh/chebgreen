{
 "cells": [
  {
   "cell_type": "code",
   "execution_count": 1,
   "id": "6f244286-4c13-4dc8-959c-c9ec4a2f7f4d",
   "metadata": {},
   "outputs": [],
   "source": [
    "from chebpy2 import Chebfun2, Quasimatrix\n",
    "import matplotlib.pyplot as plt\n",
    "import chebpy as cp\n",
    "import numpy as np"
   ]
  },
  {
   "cell_type": "code",
   "execution_count": 2,
   "id": "ddae1c35-b370-41ff-8529-b8ec743eaace",
   "metadata": {},
   "outputs": [],
   "source": [
    "def green(x,s):\n",
    "    g = 0\n",
    "    g = (x <= s) * (x * (1-s)) + (x > s) * (s * (1-x))\n",
    "    return g"
   ]
  },
  {
   "cell_type": "code",
   "execution_count": 3,
   "id": "3b9232a2-fd73-450f-870e-3ac339575d9d",
   "metadata": {},
   "outputs": [],
   "source": [
    "prefx = cp.core.settings.ChebPreferences()\n",
    "prefy = cp.core.settings.ChebPreferences()\n",
    "prefx.eps = 1e-6\n",
    "prefy.eps = 1e-6"
   ]
  },
  {
   "cell_type": "code",
   "execution_count": 4,
   "id": "ccde9752-80ef-46a3-8030-f4f1deddc8cd",
   "metadata": {},
   "outputs": [],
   "source": [
    "from chebpy.core.algorithms import quadwts2"
   ]
  },
  {
   "cell_type": "code",
   "execution_count": 5,
   "id": "c67f0919-f13f-4a05-8736-5ca9f1ddd5e5",
   "metadata": {},
   "outputs": [
    {
     "name": "stdout",
     "output_type": "stream",
     "text": [
      "CPU times: user 8.75 s, sys: 3.18 s, total: 11.9 s\n",
      "Wall time: 11.9 s\n"
     ]
    }
   ],
   "source": [
    "%%time\n",
    "c = Chebfun2(green, domain = [0, 1, 0, 1], prefx = prefx, prefy = prefy)"
   ]
  },
  {
   "cell_type": "code",
   "execution_count": 6,
   "id": "91d8fe65-cef0-4587-8921-32608f94f521",
   "metadata": {},
   "outputs": [],
   "source": [
    "y = np.array([0,0.5,1])"
   ]
  },
  {
   "cell_type": "code",
   "execution_count": 7,
   "id": "5b947647-173d-4228-8f98-d14e036c8a03",
   "metadata": {},
   "outputs": [],
   "source": [
    "C,D,R = c.cdr"
   ]
  },
  {
   "cell_type": "code",
   "execution_count": 8,
   "id": "388da13f-4fd5-4941-a6cf-a2389a19e6d6",
   "metadata": {},
   "outputs": [],
   "source": [
    "y = y.reshape(-1)"
   ]
  },
  {
   "cell_type": "code",
   "execution_count": 9,
   "id": "51871fc9-59ee-416d-b8b2-743568ab47c3",
   "metadata": {},
   "outputs": [],
   "source": [
    "A = C[y,:] @ D"
   ]
  },
  {
   "cell_type": "code",
   "execution_count": 10,
   "id": "0fb5eb74-1b56-4675-a0ad-a4c871bde5bc",
   "metadata": {
    "scrolled": true,
    "tags": []
   },
   "outputs": [
    {
     "name": "stdout",
     "output_type": "stream",
     "text": [
      "CPU times: user 23.9 s, sys: 1.74 s, total: 25.6 s\n",
      "Wall time: 23.5 s\n"
     ]
    }
   ],
   "source": [
    "%%time\n",
    "C = A * R.T"
   ]
  },
  {
   "cell_type": "code",
   "execution_count": 14,
   "id": "4b719032-d7c8-43e4-a9c5-8a33c75277fe",
   "metadata": {},
   "outputs": [
    {
     "data": {
      "text/plain": [
       "Quasimatrix of shape (inf x 3) with rows:\n",
       "array([chebfun (1 smooth piece)\n",
       "              interval       length     endpoint values\n",
       "       [       0,       1]     2049  -1.7e-34 -1.2e-35\n",
       "       vertical scale = 2.2e-19                        ,\n",
       "       chebfun (1 smooth piece)\n",
       "              interval       length     endpoint values\n",
       "       [       0,       1]     2049         0  8.7e-19\n",
       "       vertical scale = 0.016                          ,\n",
       "       chebfun (1 smooth piece)\n",
       "              interval       length     endpoint values\n",
       "       [       0,       1]     2049   2.9e-34  4.3e-34\n",
       "       vertical scale = 8.7e-19                        ], dtype=object)"
      ]
     },
     "execution_count": 14,
     "metadata": {},
     "output_type": "execute_result"
    }
   ],
   "source": [
    "C.T"
   ]
  },
  {
   "cell_type": "code",
   "execution_count": 15,
   "id": "8ef3bec8-d237-4b68-bd9f-da57f6fb04bb",
   "metadata": {},
   "outputs": [
    {
     "data": {
      "text/plain": [
       "Quasimatrix of shape (3 x inf) with columns:\n",
       "array([chebfun (1 smooth piece)\n",
       "              interval       length     endpoint values\n",
       "       [       0,       1]     2049  -1.7e-34 -1.2e-35\n",
       "       vertical scale = 2.2e-19                        ,\n",
       "       chebfun (1 smooth piece)\n",
       "              interval       length     endpoint values\n",
       "       [       0,       1]     2049         0  8.7e-19\n",
       "       vertical scale = 0.016                          ,\n",
       "       chebfun (1 smooth piece)\n",
       "              interval       length     endpoint values\n",
       "       [       0,       1]     2049   2.9e-34  4.3e-34\n",
       "       vertical scale = 8.7e-19                        ], dtype=object)"
      ]
     },
     "execution_count": 15,
     "metadata": {},
     "output_type": "execute_result"
    }
   ],
   "source": [
    "C"
   ]
  },
  {
   "cell_type": "code",
   "execution_count": null,
   "id": "5a1a63b5-4b3c-4fd4-9a70-ed4b29728aed",
   "metadata": {},
   "outputs": [],
   "source": [
    "dom = [0,1]\n",
    "A = Quasimatrix([cp.chebfun(1, domain = dom), cp.chebfun(1, domain = dom), cp.chebfun(1, domain = dom)])"
   ]
  },
  {
   "cell_type": "code",
   "execution_count": null,
   "id": "41aecf61-d216-4c38-84a5-cad0d4229fc3",
   "metadata": {},
   "outputs": [],
   "source": [
    "B = np.array([[1,2,3], [4,5,6]])"
   ]
  },
  {
   "cell_type": "code",
   "execution_count": null,
   "id": "541a3a96-8a4d-4e52-aaf0-fd4586246cb8",
   "metadata": {},
   "outputs": [
    {
     "data": {
      "text/plain": [
       "Quasimatrix of shape (inf x 6) with columns:\n",
       "array([chebfun (1 smooth piece)\n",
       "              interval       length     endpoint values\n",
       "       [       0,       1]        1         1        1\n",
       "       vertical scale =   1                            ,\n",
       "       chebfun (1 smooth piece)\n",
       "              interval       length     endpoint values\n",
       "       [       0,       1]        1         2        2\n",
       "       vertical scale =   2                            ,\n",
       "       chebfun (1 smooth piece)\n",
       "              interval       length     endpoint values\n",
       "       [       0,       1]        1         3        3\n",
       "       vertical scale =   3                            ,\n",
       "       chebfun (1 smooth piece)\n",
       "              interval       length     endpoint values\n",
       "       [       0,       1]        1         4        4\n",
       "       vertical scale =   4                            ,\n",
       "       chebfun (1 smooth piece)\n",
       "              interval       length     endpoint values\n",
       "       [       0,       1]        1         5        5\n",
       "       vertical scale =   5                            ,\n",
       "       chebfun (1 smooth piece)\n",
       "              interval       length     endpoint values\n",
       "       [       0,       1]        1         6        6\n",
       "       vertical scale =   6                            ], dtype=object)"
      ]
     },
     "execution_count": 19,
     "metadata": {},
     "output_type": "execute_result"
    }
   ],
   "source": [
    "A * B"
   ]
  },
  {
   "cell_type": "code",
   "execution_count": 27,
   "id": "92c966f4-53bc-41ec-9c0c-756592caf244",
   "metadata": {},
   "outputs": [
    {
     "name": "stdout",
     "output_type": "stream",
     "text": [
      "CPU times: user 2.2 ms, sys: 438 µs, total: 2.64 ms\n",
      "Wall time: 2.58 ms\n"
     ]
    }
   ],
   "source": [
    "%%time\n",
    "B * A.data;"
   ]
  },
  {
   "cell_type": "code",
   "execution_count": 28,
   "id": "a610ba4e-00ae-47be-997e-f6b3dd1edc70",
   "metadata": {},
   "outputs": [
    {
     "name": "stdout",
     "output_type": "stream",
     "text": [
      "CPU times: user 2.39 ms, sys: 886 µs, total: 3.28 ms\n",
      "Wall time: 2.61 ms\n"
     ]
    }
   ],
   "source": [
    "%%time\n",
    "A.data * B;"
   ]
  },
  {
   "cell_type": "code",
   "execution_count": 26,
   "id": "3e9ca6fd-fc09-429a-9aaa-fa7ae2da9ea9",
   "metadata": {},
   "outputs": [
    {
     "data": {
      "text/plain": [
       "(inf, 3)"
      ]
     },
     "execution_count": 26,
     "metadata": {},
     "output_type": "execute_result"
    }
   ],
   "source": [
    "A.shape"
   ]
  },
  {
   "cell_type": "code",
   "execution_count": 27,
   "id": "4daa2423-3613-432a-91a6-a01b635e7971",
   "metadata": {},
   "outputs": [
    {
     "data": {
      "text/plain": [
       "(1, 3)"
      ]
     },
     "execution_count": 27,
     "metadata": {},
     "output_type": "execute_result"
    }
   ],
   "source": [
    "B.shape"
   ]
  },
  {
   "cell_type": "code",
   "execution_count": 25,
   "id": "094b0669-5b45-46b4-82cc-79b43d502392",
   "metadata": {},
   "outputs": [
    {
     "data": {
      "text/plain": [
       "Quasimatrix of shape (inf x 3) with columns:\n",
       "array([chebfun (1 smooth piece)\n",
       "              interval       length     endpoint values\n",
       "       [       0,       1]        1         1        1\n",
       "       vertical scale =   1                            ,\n",
       "       chebfun (1 smooth piece)\n",
       "              interval       length     endpoint values\n",
       "       [       0,       1]        1         2        2\n",
       "       vertical scale =   2                            ,\n",
       "       chebfun (1 smooth piece)\n",
       "              interval       length     endpoint values\n",
       "       [       0,       1]        1         3        3\n",
       "       vertical scale =   3                            ], dtype=object)"
      ]
     },
     "execution_count": 25,
     "metadata": {},
     "output_type": "execute_result"
    }
   ],
   "source": [
    "A * B"
   ]
  },
  {
   "cell_type": "code",
   "execution_count": null,
   "id": "9dab705e-6a39-43d0-87d1-27d41b402178",
   "metadata": {},
   "outputs": [],
   "source": []
  }
 ],
 "metadata": {
  "kernelspec": {
   "display_name": "Python 3 (ipykernel)",
   "language": "python",
   "name": "python3"
  },
  "language_info": {
   "codemirror_mode": {
    "name": "ipython",
    "version": 3
   },
   "file_extension": ".py",
   "mimetype": "text/x-python",
   "name": "python",
   "nbconvert_exporter": "python",
   "pygments_lexer": "ipython3",
   "version": "3.10.10"
  }
 },
 "nbformat": 4,
 "nbformat_minor": 5
}
