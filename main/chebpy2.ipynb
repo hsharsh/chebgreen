{
 "cells": [
  {
   "cell_type": "code",
   "execution_count": 1,
   "id": "6f244286-4c13-4dc8-959c-c9ec4a2f7f4d",
   "metadata": {},
   "outputs": [],
   "source": [
    "from chebpy2.chebfun2 import Chebfun2"
   ]
  },
  {
   "cell_type": "code",
   "execution_count": 2,
   "id": "026e9cf5-f002-448c-b5e8-2baad2a73535",
   "metadata": {},
   "outputs": [],
   "source": [
    "c = Chebfun2()"
   ]
  },
  {
   "cell_type": "code",
   "execution_count": 3,
   "id": "09e2e61d-e822-4b77-96eb-8f319e62592a",
   "metadata": {},
   "outputs": [
    {
     "data": {
      "text/plain": [
       "chebfun2 object\n",
       "     domain       rank     corner values\n",
       "[-1,1] x [-1,1]     0       [0 0 0 0]\n",
       "vertical scale = 0"
      ]
     },
     "execution_count": 3,
     "metadata": {},
     "output_type": "execute_result"
    }
   ],
   "source": [
    "c"
   ]
  },
  {
   "cell_type": "code",
   "execution_count": 4,
   "id": "9bd39277-12dd-49de-a272-e6b8678faaa0",
   "metadata": {},
   "outputs": [
    {
     "data": {
      "text/plain": [
       "{'domain': array([-1,  1, -1,  1]),\n",
       " 'cols': array([], dtype=float64),\n",
       " 'rows': array([], dtype=float64),\n",
       " 'pivotValues': array([], dtype=float64),\n",
       " 'rank': 0,\n",
       " 'vscale': 0,\n",
       " 'cornervalues': array([0, 0, 0, 0])}"
      ]
     },
     "execution_count": 4,
     "metadata": {},
     "output_type": "execute_result"
    }
   ],
   "source": [
    "vars(c)"
   ]
  },
  {
   "cell_type": "code",
   "execution_count": null,
   "id": "1aee9864-7d29-4ac8-b6de-12fe9a39fc94",
   "metadata": {},
   "outputs": [],
   "source": []
  }
 ],
 "metadata": {
  "kernelspec": {
   "display_name": "Python 3 (ipykernel)",
   "language": "python",
   "name": "python3"
  },
  "language_info": {
   "codemirror_mode": {
    "name": "ipython",
    "version": 3
   },
   "file_extension": ".py",
   "mimetype": "text/x-python",
   "name": "python",
   "nbconvert_exporter": "python",
   "pygments_lexer": "ipython3",
   "version": "3.10.10"
  }
 },
 "nbformat": 4,
 "nbformat_minor": 5
}
