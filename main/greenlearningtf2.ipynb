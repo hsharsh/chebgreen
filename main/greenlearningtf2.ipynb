{
 "cells": [
  {
   "cell_type": "code",
   "execution_count": null,
   "id": "dad96881-11e0-4559-9387-322ddb8736fc",
   "metadata": {},
   "outputs": [],
   "source": [
    "from greenlearning.utils import DataProcessor\n",
    "from greenlearning.model import *\n",
    "\n",
    "%env TF_MLC_LOGGING=1\n",
    "%env TF_CPP_MIN_LOG_LEVEL=2"
   ]
  },
  {
   "cell_type": "code",
   "execution_count": null,
   "id": "32435d4c-1a0c-438d-ae89-3ca7fb4cfefd",
   "metadata": {},
   "outputs": [],
   "source": [
    "data = DataProcessor(\"greenlearning/data/examples/datasets/laplace.mat\")\n",
    "data.generateDataset()"
   ]
  },
  {
   "cell_type": "code",
   "execution_count": null,
   "id": "6992906b-ac12-49f1-8f98-2c734c75c2d6",
   "metadata": {},
   "outputs": [],
   "source": [
    "model = Model()"
   ]
  },
  {
   "cell_type": "code",
   "execution_count": null,
   "id": "0e3647c1-af51-4065-82d0-a9629c7e1780",
   "metadata": {
    "scrolled": true,
    "tags": []
   },
   "outputs": [],
   "source": [
    "model.train(data)"
   ]
  },
  {
   "cell_type": "code",
   "execution_count": null,
   "id": "2fe53588-9a10-4c7f-9a6b-1d8f4ef9572c",
   "metadata": {},
   "outputs": [],
   "source": []
  }
 ],
 "metadata": {
  "kernelspec": {
   "display_name": "Python 3 (ipykernel)",
   "language": "python",
   "name": "python3"
  },
  "language_info": {
   "codemirror_mode": {
    "name": "ipython",
    "version": 3
   },
   "file_extension": ".py",
   "mimetype": "text/x-python",
   "name": "python",
   "nbconvert_exporter": "python",
   "pygments_lexer": "ipython3",
   "version": "3.10.10"
  }
 },
 "nbformat": 4,
 "nbformat_minor": 5
}
