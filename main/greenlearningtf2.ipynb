{
 "cells": [
  {
   "cell_type": "code",
   "execution_count": 1,
   "id": "dad96881-11e0-4559-9387-322ddb8736fc",
   "metadata": {},
   "outputs": [
    {
     "name": "stdout",
     "output_type": "stream",
     "text": [
      "env: TF_MLC_LOGGING=1\n",
      "env: TF_CPP_MIN_LOG_LEVEL=2\n"
     ]
    }
   ],
   "source": [
    "import tensorflow as tf\n",
    "from greenlearning.quadrature_weights import get_weights\n",
    "from greenlearning.utils import DataProcessor\n",
    "from greenlearning.model import Model\n",
    "import numpy as np\n",
    "import scipy\n",
    "\n",
    "%env TF_MLC_LOGGING=1\n",
    "%env TF_CPP_MIN_LOG_LEVEL=2"
   ]
  },
  {
   "cell_type": "code",
   "execution_count": 2,
   "id": "32435d4c-1a0c-438d-ae89-3ca7fb4cfefd",
   "metadata": {},
   "outputs": [
    {
     "name": "stdout",
     "output_type": "stream",
     "text": [
      "Metal device set to: Apple M1 Pro\n"
     ]
    }
   ],
   "source": [
    "data = DataProcessor(\"greenlearning/data/examples/datasets/laplace.mat\")\n",
    "data.generateDataset()"
   ]
  },
  {
   "cell_type": "code",
   "execution_count": 3,
   "id": "e62a9cba-7901-4f99-a1cf-a1ec60861b80",
   "metadata": {},
   "outputs": [],
   "source": [
    "from greenlearning.model import NN\n",
    "from greenlearning.activations import get_activation\n",
    "from greenlearning.loss import LossGreensFunction\n",
    "from abc import ABC"
   ]
  },
  {
   "cell_type": "code",
   "execution_count": 4,
   "id": "6992906b-ac12-49f1-8f98-2c734c75c2d6",
   "metadata": {},
   "outputs": [],
   "source": [
    "model = Model()"
   ]
  },
  {
   "cell_type": "code",
   "execution_count": null,
   "id": "0e3647c1-af51-4065-82d0-a9629c7e1780",
   "metadata": {},
   "outputs": [],
   "source": [
    "model.train(data)"
   ]
  }
 ],
 "metadata": {
  "kernelspec": {
   "display_name": "Python 3 (ipykernel)",
   "language": "python",
   "name": "python3"
  },
  "language_info": {
   "codemirror_mode": {
    "name": "ipython",
    "version": 3
   },
   "file_extension": ".py",
   "mimetype": "text/x-python",
   "name": "python",
   "nbconvert_exporter": "python",
   "pygments_lexer": "ipython3",
   "version": "3.10.10"
  }
 },
 "nbformat": 4,
 "nbformat_minor": 5
}
