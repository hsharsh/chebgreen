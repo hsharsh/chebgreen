{
 "cells": [
  {
   "cell_type": "code",
   "execution_count": 16,
   "id": "dad96881-11e0-4559-9387-322ddb8736fc",
   "metadata": {},
   "outputs": [],
   "source": [
    "import tensorflow as tf\n",
    "import numpy as np"
   ]
  },
  {
   "cell_type": "code",
   "execution_count": 68,
   "id": "2651eeba-2a74-4c47-8534-8e497501c944",
   "metadata": {},
   "outputs": [],
   "source": []
  },
  {
   "cell_type": "code",
   "execution_count": 38,
   "id": "40c9f903-d2e5-4c56-9b41-f9a83ca564f1",
   "metadata": {},
   "outputs": [
    {
     "data": {
      "text/plain": [
       "[<tf.Variable 'Numerator coeffs:0' shape=(4, 1) dtype=float32, numpy=\n",
       " array([[1.1915],\n",
       "        [1.5957],\n",
       "        [0.5   ],\n",
       "        [0.0218]], dtype=float32)>,\n",
       " <tf.Variable 'Denominator coeffs:0' shape=(3, 1) dtype=float32, numpy=\n",
       " array([[2.383],\n",
       "        [0.   ],\n",
       "        [1.   ]], dtype=float32)>]"
      ]
     },
     "execution_count": 38,
     "metadata": {},
     "output_type": "execute_result"
    }
   ],
   "source": [
    "layer.trainable_weights"
   ]
  },
  {
   "cell_type": "code",
   "execution_count": null,
   "id": "e044646b-9800-4b69-86ba-895a950b07e2",
   "metadata": {},
   "outputs": [],
   "source": []
  }
 ],
 "metadata": {
  "kernelspec": {
   "display_name": "Python 3 (ipykernel)",
   "language": "python",
   "name": "python3"
  },
  "language_info": {
   "codemirror_mode": {
    "name": "ipython",
    "version": 3
   },
   "file_extension": ".py",
   "mimetype": "text/x-python",
   "name": "python",
   "nbconvert_exporter": "python",
   "pygments_lexer": "ipython3",
   "version": "3.10.10"
  }
 },
 "nbformat": 4,
 "nbformat_minor": 5
}
