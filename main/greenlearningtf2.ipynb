{
 "cells": [
  {
   "cell_type": "code",
   "execution_count": 8,
   "id": "dad96881-11e0-4559-9387-322ddb8736fc",
   "metadata": {},
   "outputs": [
    {
     "name": "stdout",
     "output_type": "stream",
     "text": [
      "env: TF_MLC_LOGGING=1\n",
      "env: TF_CPP_MIN_LOG_LEVEL=2\n"
     ]
    }
   ],
   "source": [
    "import tensorflow as tf\n",
    "from greenlearning.activation import Rational\n",
    "import numpy as np\n",
    "import scipy\n",
    "\n",
    "%env TF_MLC_LOGGING=1\n",
    "%env TF_CPP_MIN_LOG_LEVEL=2"
   ]
  },
  {
   "cell_type": "code",
   "execution_count": 2,
   "id": "40c9f903-d2e5-4c56-9b41-f9a83ca564f1",
   "metadata": {},
   "outputs": [],
   "source": [
    "class GL(tf.keras.Model):\n",
    "    def __init__(self):\n",
    "        super().__init__()\n",
    "        self.inputlayer = tf.keras.Input(shape = (4,))\n",
    "        self.dense1 = tf.keras.layers.Dense(units = 50, activation = Rational())\n",
    "        self.dense2 = tf.keras.layers.Dense(units = 50, activation = Rational())\n",
    "        self.dense3 = tf.keras.layers.Dense(units = 50, activation = Rational())\n",
    "        self.dense4 = tf.keras.layers.Dense(units = 50, activation = Rational())\n",
    "        self.dense5 = tf.keras.layers.Dense(units = 50)\n",
    "        self.outputlayer = tf.keras.layers.Dense(units = 1, activation = None)\n",
    "    \n",
    "    def call(self, inputs, training=None, mask=None):\n",
    "        # x = self.inputlayer(inputs)\n",
    "        x = self.dense1(inputs)\n",
    "        x = self.dense2(x)\n",
    "        x = self.dense3(x)\n",
    "        x = self.dense4(x)\n",
    "        x = self.dense5(x)\n",
    "        out = self.outputlayer(x)\n",
    "        return out"
   ]
  },
  {
   "cell_type": "code",
   "execution_count": 3,
   "id": "6992906b-ac12-49f1-8f98-2c734c75c2d6",
   "metadata": {},
   "outputs": [
    {
     "name": "stdout",
     "output_type": "stream",
     "text": [
      "Metal device set to: Apple M1 Pro\n"
     ]
    }
   ],
   "source": [
    "model = GL()"
   ]
  },
  {
   "cell_type": "code",
   "execution_count": 4,
   "id": "8337bfae-129f-4b96-b258-47d022bf33cf",
   "metadata": {},
   "outputs": [],
   "source": [
    "model.compile(optimizer = 'adam', loss = 'mse')"
   ]
  },
  {
   "cell_type": "code",
   "execution_count": 5,
   "id": "20a0c01f-2b81-4227-82fc-0b6e75cacd1d",
   "metadata": {},
   "outputs": [],
   "source": [
    "X = tf.constant([[1, 2, 3, 4],[2, 3, 4, 5]])\n",
    "Y = tf.constant([1, 2])"
   ]
  },
  {
   "cell_type": "code",
   "execution_count": 6,
   "id": "0e3647c1-af51-4065-82d0-a9629c7e1780",
   "metadata": {},
   "outputs": [
    {
     "name": "stdout",
     "output_type": "stream",
     "text": [
      "1/1 [==============================] - 1s 800ms/step - loss: 2.7864\n"
     ]
    },
    {
     "data": {
      "text/plain": [
       "<keras.callbacks.History at 0x17f7078b0>"
      ]
     },
     "execution_count": 6,
     "metadata": {},
     "output_type": "execute_result"
    }
   ],
   "source": [
    "model.fit(X,Y)"
   ]
  },
  {
   "cell_type": "code",
   "execution_count": 7,
   "id": "86a572f8-6f39-44f9-ba53-806bcb0813c6",
   "metadata": {},
   "outputs": [
    {
     "name": "stdout",
     "output_type": "stream",
     "text": [
      "1/1 [==============================] - 0s 138ms/step\n"
     ]
    },
    {
     "data": {
      "text/plain": [
       "array([[0.1302319]], dtype=float32)"
      ]
     },
     "execution_count": 7,
     "metadata": {},
     "output_type": "execute_result"
    }
   ],
   "source": [
    "model.predict(X[0:1,:])"
   ]
  }
 ],
 "metadata": {
  "kernelspec": {
   "display_name": "Python 3 (ipykernel)",
   "language": "python",
   "name": "python3"
  },
  "language_info": {
   "codemirror_mode": {
    "name": "ipython",
    "version": 3
   },
   "file_extension": ".py",
   "mimetype": "text/x-python",
   "name": "python",
   "nbconvert_exporter": "python",
   "pygments_lexer": "ipython3",
   "version": "3.10.10"
  }
 },
 "nbformat": 4,
 "nbformat_minor": 5
}
