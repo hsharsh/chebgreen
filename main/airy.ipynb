{
 "cells": [
  {
   "cell_type": "code",
   "execution_count": 1,
   "id": "70ecae76-a2fa-487b-9c13-141bfb6824b9",
   "metadata": {},
   "outputs": [
    {
     "name": "stdout",
     "output_type": "stream",
     "text": [
      "env: TF_MLC_LOGGING=1\n",
      "env: TF_CPP_MIN_LOG_LEVEL=2\n"
     ]
    }
   ],
   "source": [
    "from chebGreen import ChebGreen\n",
    "import numpy as np\n",
    "\n",
    "%env TF_MLC_LOGGING=1\n",
    "%env TF_CPP_MIN_LOG_LEVEL=2"
   ]
  },
  {
   "cell_type": "code",
   "execution_count": 2,
   "id": "cd72e517-8694-496d-b337-f1717bffd5d2",
   "metadata": {
    "scrolled": true,
    "tags": []
   },
   "outputs": [
    {
     "name": "stdout",
     "output_type": "stream",
     "text": [
      "Generating dataset for example 'airy_equation'\n",
      "### Example = airy_equation @ theta = 5 ###\n",
      "Step = 1/100\n",
      "Step = 2/100\n",
      "Step = 3/100\n",
      "Step = 4/100\n",
      "Step = 5/100\n",
      "Step = 6/100\n",
      "Step = 7/100\n",
      "Step = 8/100\n",
      "Step = 9/100\n",
      "Step = 10/100\n",
      "Step = 11/100\n",
      "Step = 12/100\n",
      "Step = 13/100\n",
      "Step = 14/100\n",
      "Step = 15/100\n",
      "Step = 16/100\n",
      "Step = 17/100\n",
      "Step = 18/100\n",
      "Step = 19/100\n",
      "Step = 20/100\n",
      "Step = 21/100\n",
      "Step = 22/100\n",
      "Step = 23/100\n",
      "Step = 24/100\n",
      "Step = 25/100\n",
      "Step = 26/100\n",
      "Step = 27/100\n",
      "Step = 28/100\n",
      "Step = 29/100\n",
      "Step = 30/100\n",
      "Step = 31/100\n",
      "Step = 32/100\n",
      "Step = 33/100\n",
      "Step = 34/100\n",
      "Step = 35/100\n",
      "Step = 36/100\n",
      "Step = 37/100\n",
      "Step = 38/100\n",
      "Step = 39/100\n",
      "Step = 40/100\n",
      "Step = 41/100\n",
      "Step = 42/100\n",
      "Step = 43/100\n",
      "Step = 44/100\n",
      "Step = 45/100\n",
      "Step = 46/100\n",
      "Step = 47/100\n",
      "Step = 48/100\n",
      "Step = 49/100\n",
      "Step = 50/100\n",
      "Step = 51/100\n",
      "Step = 52/100\n",
      "Step = 53/100\n",
      "Step = 54/100\n",
      "Step = 55/100\n",
      "Step = 56/100\n",
      "Step = 57/100\n",
      "Step = 58/100\n",
      "Step = 59/100\n",
      "Step = 60/100\n",
      "Step = 61/100\n",
      "Step = 62/100\n",
      "Step = 63/100\n",
      "Step = 64/100\n",
      "Step = 65/100\n",
      "Step = 66/100\n",
      "Step = 67/100\n",
      "Step = 68/100\n",
      "Step = 69/100-------------------------------------------------------------------------------\n",
      "\n",
      "Generating/Loading greenlearning models:\n",
      "\n",
      "Step = 70/100\n",
      "Step = 71/100\n",
      "Step = 72/100\n",
      "Step = 73/100\n",
      "Step = 74/100\n",
      "Step = 75/100\n",
      "Step = 76/100\n",
      "Step = 77/100\n",
      "Step = 78/100\n",
      "Step = 79/100\n",
      "Step = 80/100\n",
      "Step = 81/100\n",
      "Step = 82/100\n",
      "Step = 83/100\n",
      "Step = 84/100\n",
      "Step = 85/100\n",
      "Step = 86/100\n",
      "Step = 87/100\n",
      "Step = 88/100\n",
      "Step = 89/100\n",
      "Step = 90/100\n",
      "Step = 91/100\n",
      "Step = 92/100\n",
      "Step = 93/100\n",
      "Step = 94/100\n",
      "Step = 95/100\n",
      "Step = 96/100\n",
      "Step = 97/100\n",
      "Step = 98/100\n",
      "Step = 99/100\n",
      "Step = 100/100\n",
      "Metal device set to: Apple M1 Pro\n"
     ]
    }
   ],
   "source": [
    "airy = ChebGreen([5], generateData = True, script = \"generate_example\", example = \"airy_equation\")"
   ]
  },
  {
   "cell_type": "code",
   "execution_count": null,
   "id": "f1fbea4e-b424-4da0-bb98-617b2a38a58f",
   "metadata": {},
   "outputs": [],
   "source": []
  }
 ],
 "metadata": {
  "kernelspec": {
   "display_name": "Python 3 (ipykernel)",
   "language": "python",
   "name": "python3"
  },
  "language_info": {
   "codemirror_mode": {
    "name": "ipython",
    "version": 3
   },
   "file_extension": ".py",
   "mimetype": "text/x-python",
   "name": "python",
   "nbconvert_exporter": "python",
   "pygments_lexer": "ipython3",
   "version": "3.10.10"
  }
 },
 "nbformat": 4,
 "nbformat_minor": 5
}
