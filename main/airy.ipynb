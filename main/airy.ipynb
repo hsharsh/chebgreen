{
 "cells": [
  {
   "cell_type": "code",
   "execution_count": 1,
   "id": "70ecae76-a2fa-487b-9c13-141bfb6824b9",
   "metadata": {},
   "outputs": [
    {
     "name": "stdout",
     "output_type": "stream",
     "text": [
      "env: TF_MLC_LOGGING=1\n",
      "env: TF_CPP_MIN_LOG_LEVEL=2\n"
     ]
    }
   ],
   "source": [
    "from chebGreen import ChebGreen\n",
    "import numpy as np\n",
    "\n",
    "%env TF_MLC_LOGGING=1\n",
    "%env TF_CPP_MIN_LOG_LEVEL=2"
   ]
  },
  {
   "cell_type": "code",
   "execution_count": 2,
   "id": "cd72e517-8694-496d-b337-f1717bffd5d2",
   "metadata": {
    "tags": []
   },
   "outputs": [
    {
     "name": "stdout",
     "output_type": "stream",
     "text": [
      "Generating dataset for example 'airy_equation'\n",
      "Dataset for for Theta = 1.00. Skipping dataset generation.\n",
      "Dataset for for Theta = 5.00. Skipping dataset generation.\n",
      "Dataset for for Theta = 10.00. Skipping dataset generation.\n",
      "-------------------------------------------------------------------------------\n",
      "\n",
      "Generating chebfun2 models:\n",
      "Using tensorflow 2.9.0\n",
      "Found saved model, Loading model for example 'airy_equation' at Theta = 1.00\n",
      "Metal device set to: Apple M1 Pro\n",
      "Learning a chebfun2 model for example 'airy_equation' at Theta = 1.00\n",
      "Chebfun2 model added for example 'airy_equation' at Theta = 1.00\n",
      "\n",
      "Found saved model, Loading model for example 'airy_equation' at Theta = 5.00\n",
      "Learning a chebfun2 model for example 'airy_equation' at Theta = 5.00\n",
      "Chebfun2 model added for example 'airy_equation' at Theta = 5.00\n",
      "\n",
      "Found saved model, Loading model for example 'airy_equation' at Theta = 10.00\n",
      "Learning a chebfun2 model for example 'airy_equation' at Theta = 10.00\n",
      "Chebfun2 model added for example 'airy_equation' at Theta = 10.00\n",
      "\n"
     ]
    }
   ],
   "source": [
    "airy = ChebGreen([1,5,10], generateData = True, script = \"generate_example\", example = \"airy_equation\")"
   ]
  },
  {
   "cell_type": "code",
   "execution_count": 3,
   "id": "2d814773-76bf-4775-85a3-7f4fa5923a4d",
   "metadata": {},
   "outputs": [
    {
     "data": {
      "text/plain": [
       "{1: chebfun2 object\n",
       "      domain       rank               corner values\n",
       " [0,1] x [0,1]     48       [0.006 0.002 0.001 0.002]\n",
       " vertical scale = 0.005689,\n",
       " 5: chebfun2 object\n",
       "      domain       rank               corner values\n",
       " [0,1] x [0,1]     45       [0.006 0.001 0.001 -0.001]\n",
       " vertical scale = 0.005755,\n",
       " 10: chebfun2 object\n",
       "      domain       rank               corner values\n",
       " [0,1] x [0,1]     46       [0.006 0.001 0.001 -0.007]\n",
       " vertical scale = 0.006450}"
      ]
     },
     "execution_count": 3,
     "metadata": {},
     "output_type": "execute_result"
    }
   ],
   "source": [
    "airy.G"
   ]
  }
 ],
 "metadata": {
  "kernelspec": {
   "display_name": "Python 3 (ipykernel)",
   "language": "python",
   "name": "python3"
  },
  "language_info": {
   "codemirror_mode": {
    "name": "ipython",
    "version": 3
   },
   "file_extension": ".py",
   "mimetype": "text/x-python",
   "name": "python",
   "nbconvert_exporter": "python",
   "pygments_lexer": "ipython3",
   "version": "3.10.10"
  }
 },
 "nbformat": 4,
 "nbformat_minor": 5
}
