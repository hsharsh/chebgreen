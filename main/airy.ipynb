{
 "cells": [
  {
   "cell_type": "code",
   "execution_count": 1,
   "id": "70ecae76-a2fa-487b-9c13-141bfb6824b9",
   "metadata": {},
   "outputs": [
    {
     "name": "stdout",
     "output_type": "stream",
     "text": [
      "env: TF_MLC_LOGGING=1\n",
      "env: TF_CPP_MIN_LOG_LEVEL=2\n"
     ]
    }
   ],
   "source": [
    "from chebGreen import ChebGreen\n",
    "import numpy as np\n",
    "\n",
    "%env TF_MLC_LOGGING=1\n",
    "%env TF_CPP_MIN_LOG_LEVEL=2"
   ]
  },
  {
   "cell_type": "code",
   "execution_count": 2,
   "id": "cd72e517-8694-496d-b337-f1717bffd5d2",
   "metadata": {
    "tags": []
   },
   "outputs": [
    {
     "name": "stdout",
     "output_type": "stream",
     "text": [
      "Generating dataset for example 'airy_equation'\n",
      "Dataset for for Theta = 5.00. Skipping dataset generation.\n",
      "-------------------------------------------------------------------------------\n",
      "\n",
      "Generating chebfun2 models:\n",
      "Using tensorflow 2.9.0\n",
      "Found saved model, Loading model for example 'airy_equation' at Theta = 5.00\n",
      "Metal device set to: Apple M1 Pro\n",
      "Learning a chebfun2 model for example 'airy_equation' at Theta = 5.00\n",
      "Chebfun2 model added for example 'airy_equation' at Theta = 5.00\n",
      "\n"
     ]
    }
   ],
   "source": [
    "airy = ChebGreen([5], generateData = True, script = \"generate_example\", example = \"airy_equation\")"
   ]
  },
  {
   "cell_type": "code",
   "execution_count": 3,
   "id": "2d814773-76bf-4775-85a3-7f4fa5923a4d",
   "metadata": {},
   "outputs": [
    {
     "data": {
      "text/plain": [
       "{5: chebfun2 object\n",
       "      domain       rank               corner values\n",
       " [0,1] x [0,1]     53       [0.004 0.000 0.000 0.004]\n",
       " vertical scale = 0.004007}"
      ]
     },
     "execution_count": 3,
     "metadata": {},
     "output_type": "execute_result"
    }
   ],
   "source": [
    "airy.G"
   ]
  },
  {
   "cell_type": "code",
   "execution_count": 4,
   "id": "4bf4178c-8ecc-402e-b4b9-e0477014e580",
   "metadata": {},
   "outputs": [],
   "source": [
    "from chebGreen.chebpy2 import Quasimatrix"
   ]
  },
  {
   "cell_type": "code",
   "execution_count": 5,
   "id": "9460f595-f31d-4339-bfb3-d413ed118f22",
   "metadata": {},
   "outputs": [],
   "source": [
    "def compute_order_and_signs(R0: Quasimatrix, R1: Quasimatrix) -> tuple([np.array, np.array]):\n",
    "    \"\"\" Given two orthonormal matrices R0 and R1, this function computes the \"correct\" ordering and signs of the columns\n",
    "    (modes) of R1 using R0 as a reference. The assumption is that these are orthonormal matrices, the columns of which\n",
    "    are eigenmodes of systems which are close to each other and hence the eigenmodes will close to each other as well.\n",
    "    We thus find an order such that the modes of the second matrix have the maximum inner product (in magnitude) with\n",
    "    the corresponding mode from the first matrix. If such an ordering doesn't exist the function raises a runtime error.\n",
    "\n",
    "    Once such an ordering is found, one can flip the signs for the modes of R1, if the inner product is not positive.\n",
    "    This is necessary when we want to interpolate.\n",
    "\n",
    "    --------------------------------------------------------------------------------------------------------------------\n",
    "    Args:\n",
    "        R0: Orthonormal matrix, the modes of which are used as the reference to re-order and find signs\n",
    "        R1: Orthonormal matrix for which the modes are supposed to be reordered.\n",
    "\n",
    "    --------------------------------------------------------------------------------------------------------------------\n",
    "    Returns:\n",
    "        New ordering and the signs (sign flips) for matrix R1.\n",
    "    \"\"\"\n",
    "    rank = R0.shape[1]\n",
    "    order = -1*np.ones(rank).astype(int)\n",
    "    signs = np.ones(rank)\n",
    "    \n",
    "    used = set()\n",
    "    # For each mode in R1, Search over all modes of R0 for the best matching mode.\n",
    "    products = R0.T * R1 # Compute all the pairwise innerproducts\n",
    "    print(products.shape)\n",
    "    for i in range(rank):\n",
    "        maxidx, maxval = -1, -1\n",
    "        for j in range(rank):\n",
    "            current = products[i,j]\n",
    "            if current >= maxval and (j not in used):\n",
    "                maxidx = j\n",
    "                maxval = current\n",
    "        order[i] = maxidx\n",
    "        used.add(maxidx)\n",
    "    \n",
    "    # Raise an error if the ordering of modes is not a permutation.\n",
    "    check = set()\n",
    "    for i in range(rank):\n",
    "        check.add(order[i])\n",
    "\n",
    "    if len(check) != rank:\n",
    "        raise RuntimeError('No valid ordering of modes found')\n",
    "    \n",
    "    # Signs are determined according to the correct ordering of modes\n",
    "    for i in range(rank):\n",
    "        if (R0[:,i].T * R1[:,int(order[i])]).item() < 0:\n",
    "            signs[i] = -1\n",
    "    \n",
    "    return order, signs"
   ]
  },
  {
   "cell_type": "code",
   "execution_count": null,
   "id": "fe47e8ea-edae-42e7-9a4f-b3a9c43a3d8b",
   "metadata": {},
   "outputs": [],
   "source": [
    "order,signs = compute_order_and_signs(airy.G[1].cols,airy.G[5].cols)"
   ]
  }
 ],
 "metadata": {
  "kernelspec": {
   "display_name": "Python 3 (ipykernel)",
   "language": "python",
   "name": "python3"
  },
  "language_info": {
   "codemirror_mode": {
    "name": "ipython",
    "version": 3
   },
   "file_extension": ".py",
   "mimetype": "text/x-python",
   "name": "python",
   "nbconvert_exporter": "python",
   "pygments_lexer": "ipython3",
   "version": "3.10.10"
  }
 },
 "nbformat": 4,
 "nbformat_minor": 5
}
