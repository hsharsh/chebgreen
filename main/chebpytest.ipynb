{
 "cells": [
  {
   "cell_type": "code",
   "execution_count": 1,
   "id": "1b328113-a6bb-467f-8548-38d2fa45987c",
   "metadata": {},
   "outputs": [],
   "source": [
    "import chebpy as cp\n",
    "import numpy as np\n",
    "import matplotlib.pyplot as plt\n",
    "\n",
    "%matplotlib inline"
   ]
  },
  {
   "cell_type": "code",
   "execution_count": 2,
   "id": "8a72c6f1-e1e9-44d8-901e-93ebb7e25e51",
   "metadata": {},
   "outputs": [],
   "source": [
    "def green(x,s):\n",
    "    g = 0\n",
    "    g = (x <= s) * (x * (1-s)) + (x > s) * (s * (1-x))\n",
    "    return g"
   ]
  },
  {
   "cell_type": "code",
   "execution_count": 3,
   "id": "f6f6089d-3eec-4e86-af84-2acf978efacf",
   "metadata": {},
   "outputs": [],
   "source": [
    "# g = green(x,s)\n",
    "\n",
    "# plt.figure(figsize = (5,5))\n",
    "# plt.contourf(x,s, g, 20)"
   ]
  },
  {
   "cell_type": "code",
   "execution_count": 4,
   "id": "8165d278-e778-4d30-a069-e58469a5169c",
   "metadata": {},
   "outputs": [
    {
     "data": {
      "text/plain": [
       "mappingproxy({'__module__': 'chebpy.core.settings',\n",
       "              '__doc__': 'Default preferences for chebpy.',\n",
       "              'eps': 2.220446049250313e-16,\n",
       "              'tech': 'Chebtech2',\n",
       "              'domain': array([-1.,  1.]),\n",
       "              'N_plot': 2001,\n",
       "              'maxpow2': 16,\n",
       "              'maxiter': 10,\n",
       "              'sortroots': False,\n",
       "              'mergeroots': True,\n",
       "              '_defaults': <classmethod(<function DefaultPreferences._defaults at 0x112bcc790>)>,\n",
       "              '__dict__': <attribute '__dict__' of 'DefaultPreferences' objects>,\n",
       "              '__weakref__': <attribute '__weakref__' of 'DefaultPreferences' objects>})"
      ]
     },
     "execution_count": 4,
     "metadata": {},
     "output_type": "execute_result"
    }
   ],
   "source": [
    "vars(cp.core.settings.DefaultPreferences)"
   ]
  },
  {
   "cell_type": "code",
   "execution_count": 5,
   "id": "fee31504-4790-413d-aaac-b1daa92f080d",
   "metadata": {},
   "outputs": [],
   "source": [
    "def scaleNodes(x, dom):\n",
    "    # SCALENODES   Scale the Chebyshev nodes X from [-1,1] to DOM.\n",
    "    if dom[0] == -1 and dom[1] == 1:\n",
    "        # Nodes are already on [-1, 1]\n",
    "        return x\n",
    "\n",
    "    # Scale the nodes:\n",
    "    return dom[2]*(x + 1)/2 + dom[1]*(1 - x)/2\n",
    "\n",
    "def chebpts(n, dom = cp.core.settings.DefaultPreferences.domain, type = 2):\n",
    "    #chebpts    Chebyshev points.\n",
    "    #   chebpts(N) returns N Chebyshev points of the 2nd-kind in [-1,1].\n",
    "    #\n",
    "    #   chebpts(N, D), where D is vector of length 2 and N is a scalar integer,\n",
    "    #   scales the nodes and weights for the interval [D(1),D(2)].\n",
    "\n",
    "    ##################################################################################\n",
    "    #   [Mathematical reference]:\n",
    "    #   Jarg Waldvogel, \"Fast construction of the Fejer and Clenshaw-Curtis\n",
    "    #   quadrature rules\", BIT Numerical Mathematics, 46, (2006), pp 195-202.\n",
    "    ##################################################################################\n",
    "\n",
    "    # Create a dummy CHEBTECH of appropriate type to access static methods.\n",
    "    if type == 1:\n",
    "        f = cp.core.chebtech.Chebtech\n",
    "    elif type == 2:\n",
    "        f = cp.core.chebtech.Chebtech2\n",
    "    else:\n",
    "        raise Exception('CHEBFUN:chebpts:type, Unknown point type.') \n",
    "\n",
    "    if np.size(n) == 1:         # Single grid\n",
    "        # Call the static CHEBTECH.CHEBPTS() method:\n",
    "        x = f._chebpts(n)\n",
    "        # Scale the domain:\n",
    "        x = scaleNodes(x, dom)\n",
    "    else:                  # Piecewise grid.\n",
    "        raise NotImplementedError\n",
    "    return x"
   ]
  },
  {
   "cell_type": "code",
   "execution_count": 6,
   "id": "ef08a496-c4ee-4ab9-a80b-1bce3989a872",
   "metadata": {},
   "outputs": [],
   "source": [
    "def points2D(m, n, dom, prefx, prefy):\n",
    "    # Get the sample points that correspond to the right grid for a particular\n",
    "    # technology.\n",
    "    \n",
    "    if prefy == None:\n",
    "        prefy = prefx\n",
    "        \n",
    "    # What tech am I based on?\n",
    "    techx, techy = prefx.tech, prefy.tech\n",
    "    \n",
    "    # Check if there is a correct version of chebpts with interval support. chebpts2 does not support intervals\n",
    "    if techx == \"Chebtech2\":\n",
    "        x = chebpts(m, dom)\n",
    "    else:\n",
    "        raise Exception('CHEBFUN:CHEBFUN2:constructor:points2D:tecType, Unrecognized technology')\n",
    "\n",
    "    if techy == \"Chebtech2\":\n",
    "        y = chebpts(n, dom)\n",
    "    else:\n",
    "        raise Exception('CHEBFUN:CHEBFUN2:constructor:points2D:tecType, Unrecognized technology')\n",
    "\n",
    "    [xx, yy] = np.meshgrid(x,y)\n",
    "    return xx, yy"
   ]
  },
  {
   "cell_type": "code",
   "execution_count": 7,
   "id": "1285ce8e-49f8-42c3-8ce5-8bada64ea8ad",
   "metadata": {},
   "outputs": [],
   "source": [
    "def evaluate(op, xx, yy, flag = 0):\n",
    "    # EVALUATE  Wrap the function handle in a FOR loop if the vectorize flag is\n",
    "    # turned on.\n",
    "\n",
    "    if(flag):\n",
    "        vals = np.zeros((yy.shape[0], xx.shape[1]))\n",
    "        for jj in range(yy.shape[0]):\n",
    "            for kk in range(xx.shape[1]):\n",
    "                vals[jj, kk] = op( xx(0,kk), yy(jj,0))\n",
    "    else:\n",
    "        vals = op(xx,yy)  # Matrix of values at cheb2 pts.\n",
    "    return vals"
   ]
  },
  {
   "cell_type": "code",
   "execution_count": 8,
   "id": "da9ce32d-503c-4b3a-841b-1361560be620",
   "metadata": {},
   "outputs": [],
   "source": [
    "def getTol(xx, yy, vals, dom, pseudoLevel):\n",
    "    # GETTOL     Calculate a tolerance for the Chebfun2 constructor.\n",
    "    #\n",
    "    #  This is the 2D analogue of the tolerance employed in the chebtech\n",
    "    #  constructors. It is based on a finite difference approximation to the\n",
    "    #  gradient, the size of the approximation domain, the internal working\n",
    "    #  tolerance, and an arbitrary (2/3) exponent.\n",
    "\n",
    "    m, n = vals.shape\n",
    "    grid = max(m,n)\n",
    "    dfdx, dfdy = 0, 0\n",
    "\n",
    "    if m > 1 and n > 1:\n",
    "        # Remove some edge values so that df_dx and df_dy have the same size.\n",
    "        dfdx = np.diff(vals[:m-1,:],1,1) / np.diff(xx[:m-1,:],1,1) # xx diffs column-wise.\n",
    "        dfdy = np.diff(vals[:,:n-1],1,0) / np.diff(yy[:,:n-1],1,0) # yy diffs row-wise.\n",
    "    elif m > 1 and n == 1:\n",
    "        # Constant in x-direction\n",
    "        dfdy = np.diff(vals,1,1) / np.diff(yy,1,1);\n",
    "    elif m == 1 and n > 1:\n",
    "        # Constant in y-direction\n",
    "        dfdx = np.diff(vals,1,2) / np.diff(xx,1,2)\n",
    "\n",
    "    # An approximation for the norm of the gradient over the whole domain.\n",
    "    Jac_norm = max(np.max(np.abs(dfdx[:])), np.max(np.abs(dfdy[:])))\n",
    "    vscale = np.max(np.abs(vals[:]))\n",
    "    relTol = grid**(2/3) * pseudoLevel # This should be vscale and hscale invariant\n",
    "    absTol = np.max(np.abs(dom[:])) * max(Jac_norm, vscale) * relTol\n",
    "\n",
    "    return relTol, absTol"
   ]
  },
  {
   "cell_type": "code",
   "execution_count": 9,
   "id": "1f55da06-e263-4c82-85c7-f616977e0837",
   "metadata": {},
   "outputs": [],
   "source": [
    "def Max(A):\n",
    "    return np.max(A), np.argmax(A)"
   ]
  },
  {
   "cell_type": "code",
   "execution_count": 10,
   "id": "993a5c49-15d6-4248-b8ee-530f45108bc9",
   "metadata": {},
   "outputs": [],
   "source": [
    "def completeACA(A, absTol, factor):\n",
    "    # Adaptive Cross Approximation with complete pivoting. This command is\n",
    "    # the continuous analogue of Gaussian elimination with complete pivoting.\n",
    "    # Here, we attempt to adaptively find the numerical rank of the function.\n",
    "\n",
    "    # Set up output variables.\n",
    "    nx, ny = A.shape\n",
    "    width = min(nx, ny)        # Use to tell us how many pivots we can take.\n",
    "    pivotValue = np.empty(int(np.ceil(width/factor)))         # Store an unknown number of Pivot values.\n",
    "    pivotElement = np.empty((int(np.ceil(width/factor)),2)) # Store (j,k) entries of pivot location.\n",
    "    pivotValue[:], pivotElement[:] = np.nan, np.nan\n",
    "    ifail = 1                  # Assume we fail.\n",
    "\n",
    "    # Main algorithm\n",
    "    zRows = 0                  # count number of zero cols/rows.\n",
    "    infNorm, ind = Max(np.abs(A))\n",
    "    \n",
    "    # Check here for errors bc python's default between row and column major is different.\n",
    "    row, col = np.unravel_index(ind, A.shape) \n",
    "    # Error possiblity\n",
    "\n",
    "    # Bias toward diagonal for square matrices (see reasoning below):\n",
    "    if (nx == ny) and (np.max(np.abs(np.diag(A))) - infNorm) > -absTol:\n",
    "        infNorm, ind = Max(np.abs(np.diag(A)))\n",
    "        row = ind\n",
    "        col = ind\n",
    "\n",
    "    scl = infNorm\n",
    "\n",
    "    # The function is the zero function.\n",
    "    if scl == 0:\n",
    "        # Let's pass back the zero matrix that is the same size as A. \n",
    "        # This ensures that chebpy2(np.zeros(5)) has a 5x5 (zero) coefficient \n",
    "        # matrix.  \n",
    "        pivotValue = 0\n",
    "        rows = np.zeros((1, A.shape[1]))\n",
    "        cols = np.zeros((A.shape[0], 1))\n",
    "        ifail = 0\n",
    "    else:\n",
    "        rows = np.zeros((1, A.shape[1]))\n",
    "        cols = np.zeros((A.shape[0], 1))\n",
    "    \n",
    "    while (infNorm > absTol) and (zRows < width/factor) and (zRows < min(nx,ny)):\n",
    "        # Check if zRows+1 is correct here\n",
    "        if zRows == 0:\n",
    "            rows = A[row,:].reshape((1,-1))\n",
    "            cols = A[:,col].reshape((-1,1))\n",
    "        else:\n",
    "            rows = np.vstack([rows,A[row,:].reshape((1,-1))])\n",
    "            cols = np.hstack([cols,A[:,col].reshape((-1,1))])            # Extract the columns.\n",
    "        PivVal = A[row,col]\n",
    "        A = A - cols[:,zRows].reshape(-1,1) @ (rows[zRows,:].reshape(1,-1)/PivVal) # One step of GE.\n",
    "\n",
    "        # Keep track of progress.\n",
    "        pivotValue[zRows] = PivVal                 #pivotValue[zRows] = PivVal             # Store pivot value.\n",
    "        pivotElement[zRows,:] = [row, col]   #pivotElement[zRows,:]=[row col]        # Store pivot location.\n",
    "        zRows = zRows + 1                         # One more row is zero.\n",
    "\n",
    "        # Next pivot.\n",
    "        infNorm , ind = Max(np.abs(A)) # Slightly faster.\n",
    "        row , col = np.unravel_index(ind, A.shape) # Check for col/row major\n",
    "\n",
    "        # Have a bias towards the diagonal of A, so that it can be used as a test\n",
    "        # for nonnegative definite functions. (Complete GE and Cholesky are the\n",
    "        # same as nonnegative definite functions have an absolute maximum on the\n",
    "        # diagonal, except there is the possibility of a tie with an off-diagonal\n",
    "        # absolute maximum. Bias toward diagonal maxima to prevent this.)\n",
    "        if (nx == ny) and ((np.max(np.abs(np.diag(A))) - infNorm) > -absTol):\n",
    "            infNorm, ind = Max(np.abs(np.diag(A)))\n",
    "            row = ind\n",
    "            col = ind\n",
    "    \n",
    "    # print(infNorm)\n",
    "    \n",
    "    if infNorm <= absTol:\n",
    "        ifail = 0                               # We didn't fail.\n",
    "\n",
    "    if zRows >= (width/factor):\n",
    "        ifail = 1                               # We did fail.\n",
    "    \n",
    "    return pivotValue, pivotElement, rows, cols, ifail"
   ]
  },
  {
   "cell_type": "code",
   "execution_count": 11,
   "id": "d6558e25-78b5-4d41-b5d1-35d2dd6462c3",
   "metadata": {},
   "outputs": [],
   "source": [
    "dom = [0,0,1,1]\n",
    "minSample = np.array([17,17])\n",
    "prefx, prefy = cp.core.settings.DefaultPreferences, cp.core.settings.DefaultPreferences\n",
    "pseudoLevel = min(prefx.eps, prefy.eps)\n",
    "factor = 4.0\n",
    "\n",
    "minSample = np.power(2,np.floor(np.log2(minSample-1)))+1\n",
    "grid = minSample\n",
    "xx, yy = points2D(grid[0],grid[1],dom,prefx,prefy)\n",
    "\n",
    "vals = evaluate(green, xx, yy)\n",
    "vscale = np.max(np.abs(vals[:]))\n",
    "relTol, absTol = getTol(xx, yy, vals, dom, pseudoLevel)"
   ]
  },
  {
   "cell_type": "code",
   "execution_count": 12,
   "id": "b4dee06e-5ceb-4e2d-98fb-0ee24ebb9cbc",
   "metadata": {},
   "outputs": [],
   "source": [
    "pivotVal, pivotPos, rowVals, colVals, iFail = completeACA(vals, absTol, factor);"
   ]
  },
  {
   "cell_type": "code",
   "execution_count": 13,
   "id": "c3ea6993-7809-4dc6-a700-48c1dac1d709",
   "metadata": {},
   "outputs": [
    {
     "data": {
      "text/plain": [
       "(17, 5)"
      ]
     },
     "execution_count": 13,
     "metadata": {},
     "output_type": "execute_result"
    }
   ],
   "source": [
    "colVals.shape"
   ]
  },
  {
   "cell_type": "code",
   "execution_count": 14,
   "id": "15b6789e-0292-4c5f-a170-89d3fa74a29d",
   "metadata": {},
   "outputs": [],
   "source": [
    "f = cp.chebfun(colVals, [dom[0], dom[3]])"
   ]
  },
  {
   "cell_type": "code",
   "execution_count": 15,
   "id": "9f60dd67-8476-4c84-a91d-eefb5bd9514b",
   "metadata": {},
   "outputs": [
    {
     "data": {
      "text/plain": [
       "array([[chebfun column (1 smooth piece)\n",
       "               interval       length     endpoint values\n",
       "        [       0,       1]       17  -1.4e-17  1.4e-17\n",
       "        vertical scale = 0.25                           ,\n",
       "        chebfun column (1 smooth piece)\n",
       "               interval       length     endpoint values\n",
       "        [       0,       1]       17  -1.4e-17 -1.7e-18\n",
       "        vertical scale = 0.12                           ,\n",
       "        chebfun column (1 smooth piece)\n",
       "               interval       length     endpoint values\n",
       "        [       0,       1]       17   5.2e-18        0\n",
       "        vertical scale = 0.12                           ,\n",
       "        chebfun column (1 smooth piece)\n",
       "               interval       length     endpoint values\n",
       "        [       0,       1]       17         0  1.7e-18\n",
       "        vertical scale = 0.063                          ,\n",
       "        chebfun column (1 smooth piece)\n",
       "               interval       length     endpoint values\n",
       "        [       0,       1]       17  -8.7e-19 -8.7e-19\n",
       "        vertical scale = 0.063                          ]], dtype=object)"
      ]
     },
     "execution_count": 15,
     "metadata": {},
     "output_type": "execute_result"
    }
   ],
   "source": [
    "f"
   ]
  },
  {
   "cell_type": "code",
   "execution_count": null,
   "id": "69f114c4-a231-439e-b069-268600f29d37",
   "metadata": {},
   "outputs": [],
   "source": []
  }
 ],
 "metadata": {
  "kernelspec": {
   "display_name": "Python 3 (ipykernel)",
   "language": "python",
   "name": "python3"
  },
  "language_info": {
   "codemirror_mode": {
    "name": "ipython",
    "version": 3
   },
   "file_extension": ".py",
   "mimetype": "text/x-python",
   "name": "python",
   "nbconvert_exporter": "python",
   "pygments_lexer": "ipython3",
   "version": "3.10.10"
  }
 },
 "nbformat": 4,
 "nbformat_minor": 5
}
