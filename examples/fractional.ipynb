{
 "cells": [
  {
   "cell_type": "code",
   "execution_count": 1,
   "id": "70ecae76-a2fa-487b-9c13-141bfb6824b9",
   "metadata": {},
   "outputs": [
    {
     "name": "stdout",
     "output_type": "stream",
     "text": [
      "Loading settings from /home/admin-quad/harsh/chebgreen/examples/settings.ini.\n",
      "\n",
      "ChebGreen settings:\n",
      "[MATLAB]\n",
      "nsample = 100\n",
      "lambda = 0.01\n",
      "nf = 500\n",
      "nu = 500\n",
      "noise = 0\n",
      "\n",
      "[GREENLEARNING]\n",
      "trainratio = 0.95\n",
      "epochs_adam = 5000\n",
      "epochs_lbfgs = 0\n",
      "initlearningrate = 0.01\n",
      "finallearningrate = 0.001\n",
      "layerconfig = [50,50,50,50]\n",
      "activation = rational\n",
      "\n",
      "[GENERAL]\n",
      "precision = 64\n",
      "device = cpu\n",
      "\n",
      "MATLAB Path = /usr/local/MATLAB/R2022b/bin/matlab\n",
      "PyTorch device = cpu\n"
     ]
    }
   ],
   "source": [
    "from chebgreen import ChebGreen\n",
    "import numpy as np\n",
    "import matplotlib.pyplot as plt\n",
    "\n",
    "from chebgreen.chebpy2 import Quasimatrix\n",
    "from chebgreen.chebpy2.chebpy import chebfun\n",
    "from chebgreen.chebpy2 import Chebfun2"
   ]
  },
  {
   "cell_type": "code",
   "execution_count": 2,
   "id": "cd72e517-8694-496d-b337-f1717bffd5d2",
   "metadata": {
    "tags": []
   },
   "outputs": [
    {
     "name": "stdout",
     "output_type": "stream",
     "text": [
      "CPU times: user 9 μs, sys: 0 ns, total: 9 μs\n",
      "Wall time: 14.8 μs\n"
     ]
    }
   ],
   "source": [
    "%%time\n",
    "Theta = [0.8,0.9,0.95]\n",
    "theta_ = 0.85\n",
    "domain = [-np.pi/2,np.pi/2,-np.pi/2,np.pi/2]\n",
    "generateData = True\n",
    "script = \"generate_fractional\"\n",
    "example = \"fractional_laplacian\"\n",
    "dirichletBC = False"
   ]
  },
  {
   "cell_type": "code",
   "execution_count": 3,
   "id": "61efb7e3",
   "metadata": {},
   "outputs": [
    {
     "name": "stdout",
     "output_type": "stream",
     "text": [
      "Generating dataset for example 'fractional_laplacian'\n",
      "Dataset found for Theta = 0.80. Skipping dataset generation.\n",
      "Dataset found for Theta = 0.90. Skipping dataset generation.\n",
      "Dataset found for Theta = 0.95. Skipping dataset generation.\n",
      "-------------------------------------------------------------------------------\n",
      "\n",
      "Generating chebfun2 models:\n",
      "Found saved model, Loading model for example 'fractional_laplacian' at Theta = 0.80\n",
      "Learning a chebfun model for example 'fractional_laplacian' at Theta = 0.80\n"
     ]
    },
    {
     "ename": "RuntimeWarning",
     "evalue": "CHEBFUN:CHEBFUN2:constructor:rank, Not a low-rank function.",
     "output_type": "error",
     "traceback": [
      "\u001b[0;31m---------------------------------------------------------------------------\u001b[0m",
      "\u001b[0;31mRuntimeWarning\u001b[0m                            Traceback (most recent call last)",
      "File \u001b[0;32m<timed exec>:1\u001b[0m\n",
      "File \u001b[0;32m~/harsh/.envs/chebgreen/lib/python3.12/site-packages/chebgreen/model.py:74\u001b[0m, in \u001b[0;36mChebGreen.__init__\u001b[0;34m(self, Theta, domain, generateData, script, example, dirichletBC, datapath)\u001b[0m\n\u001b[1;32m     72\u001b[0m \u001b[38;5;28mprint\u001b[39m(\u001b[38;5;124m\"\u001b[39m\u001b[38;5;124m-------------------------------------------------------------------------------\u001b[39m\u001b[38;5;130;01m\\n\u001b[39;00m\u001b[38;5;124m\"\u001b[39m)\n\u001b[1;32m     73\u001b[0m \u001b[38;5;28mprint\u001b[39m(\u001b[38;5;124m\"\u001b[39m\u001b[38;5;124mGenerating chebfun2 models:\u001b[39m\u001b[38;5;124m\"\u001b[39m)\n\u001b[0;32m---> 74\u001b[0m \u001b[38;5;28;43mself\u001b[39;49m\u001b[38;5;241;43m.\u001b[39;49m\u001b[43mgenerateChebfun2Models\u001b[49m\u001b[43m(\u001b[49m\u001b[43mexample\u001b[49m\u001b[43m)\u001b[49m\n\u001b[1;32m     75\u001b[0m \u001b[38;5;28mself\u001b[39m\u001b[38;5;241m.\u001b[39minterpG \u001b[38;5;241m=\u001b[39m {}\n\u001b[1;32m     76\u001b[0m \u001b[38;5;28mself\u001b[39m\u001b[38;5;241m.\u001b[39minterpN \u001b[38;5;241m=\u001b[39m {}\n",
      "File \u001b[0;32m~/harsh/.envs/chebgreen/lib/python3.12/site-packages/chebgreen/model.py:115\u001b[0m, in \u001b[0;36mChebGreen.generateChebfun2Models\u001b[0;34m(self, example)\u001b[0m\n\u001b[1;32m    112\u001b[0m     plt\u001b[38;5;241m.\u001b[39mclose()\n\u001b[1;32m    114\u001b[0m \u001b[38;5;28mprint\u001b[39m(\u001b[38;5;124mf\u001b[39m\u001b[38;5;124m\"\u001b[39m\u001b[38;5;124mLearning a chebfun model for example \u001b[39m\u001b[38;5;130;01m\\'\u001b[39;00m\u001b[38;5;132;01m{\u001b[39;00mexample\u001b[38;5;132;01m}\u001b[39;00m\u001b[38;5;130;01m\\'\u001b[39;00m\u001b[38;5;124m at Theta = \u001b[39m\u001b[38;5;132;01m{\u001b[39;00mtheta\u001b[38;5;132;01m:\u001b[39;00m\u001b[38;5;124m.2f\u001b[39m\u001b[38;5;132;01m}\u001b[39;00m\u001b[38;5;124m\"\u001b[39m)\n\u001b[0;32m--> 115\u001b[0m \u001b[38;5;28mself\u001b[39m\u001b[38;5;241m.\u001b[39mG[\u001b[38;5;28mfloat\u001b[39m(theta)] \u001b[38;5;241m=\u001b[39m (\u001b[43mChebfun2\u001b[49m\u001b[43m(\u001b[49m\u001b[43mmodel\u001b[49m\u001b[38;5;241;43m.\u001b[39;49m\u001b[43mevaluateG\u001b[49m\u001b[43m,\u001b[49m\u001b[43m \u001b[49m\u001b[43mdomain\u001b[49m\u001b[43m \u001b[49m\u001b[38;5;241;43m=\u001b[39;49m\u001b[43m \u001b[49m\u001b[38;5;28;43mself\u001b[39;49m\u001b[38;5;241;43m.\u001b[39;49m\u001b[43mdomain\u001b[49m\u001b[43m,\u001b[49m\u001b[43m \u001b[49m\u001b[43mprefs\u001b[49m\u001b[43m \u001b[49m\u001b[38;5;241;43m=\u001b[39;49m\u001b[43m \u001b[49m\u001b[43mChebpy2Preferences\u001b[49m\u001b[43m(\u001b[49m\u001b[43m)\u001b[49m\u001b[43m,\u001b[49m\u001b[43m \u001b[49m\u001b[43msimplify\u001b[49m\u001b[43m \u001b[49m\u001b[38;5;241;43m=\u001b[39;49m\u001b[43m \u001b[49m\u001b[38;5;28;43;01mTrue\u001b[39;49;00m\u001b[43m)\u001b[49m)\n\u001b[1;32m    116\u001b[0m \u001b[38;5;28mprint\u001b[39m(\u001b[38;5;124mf\u001b[39m\u001b[38;5;124m\"\u001b[39m\u001b[38;5;124mChebfun model added for example \u001b[39m\u001b[38;5;130;01m\\'\u001b[39;00m\u001b[38;5;132;01m{\u001b[39;00mexample\u001b[38;5;132;01m}\u001b[39;00m\u001b[38;5;130;01m\\'\u001b[39;00m\u001b[38;5;124m at Theta = \u001b[39m\u001b[38;5;132;01m{\u001b[39;00mtheta\u001b[38;5;132;01m:\u001b[39;00m\u001b[38;5;124m.2f\u001b[39m\u001b[38;5;132;01m}\u001b[39;00m\u001b[38;5;130;01m\\n\u001b[39;00m\u001b[38;5;124m\"\u001b[39m)\n\u001b[1;32m    118\u001b[0m \u001b[38;5;66;03m# Store the homogeneous solution\u001b[39;00m\n",
      "File \u001b[0;32m~/harsh/.envs/chebgreen/lib/python3.12/site-packages/chebgreen/chebpy2/chebfun2.py:51\u001b[0m, in \u001b[0;36mChebfun2.__init__\u001b[0;34m(self, g, domain, prefs, simplify, vectorize)\u001b[0m\n\u001b[1;32m     49\u001b[0m     \u001b[38;5;28mself\u001b[39m\u001b[38;5;241m.\u001b[39mdomain \u001b[38;5;241m=\u001b[39m np\u001b[38;5;241m.\u001b[39mhstack([\u001b[38;5;28mself\u001b[39m\u001b[38;5;241m.\u001b[39mrows\u001b[38;5;241m.\u001b[39mdomain,\u001b[38;5;28mself\u001b[39m\u001b[38;5;241m.\u001b[39mcols\u001b[38;5;241m.\u001b[39mdomain])\n\u001b[1;32m     50\u001b[0m \u001b[38;5;28;01melse\u001b[39;00m:\n\u001b[0;32m---> 51\u001b[0m     \u001b[38;5;28mself\u001b[39m\u001b[38;5;241m.\u001b[39mcols, \u001b[38;5;28mself\u001b[39m\u001b[38;5;241m.\u001b[39mrows, \u001b[38;5;28mself\u001b[39m\u001b[38;5;241m.\u001b[39mpivotValues, \u001b[38;5;28mself\u001b[39m\u001b[38;5;241m.\u001b[39mpivotLocations \u001b[38;5;241m=\u001b[39m \u001b[38;5;28;43mself\u001b[39;49m\u001b[38;5;241;43m.\u001b[39;49m\u001b[43mconstructor\u001b[49m\u001b[43m(\u001b[49m\u001b[38;5;28;43;01mlambda\u001b[39;49;00m\u001b[43m \u001b[49m\u001b[43mx\u001b[49m\u001b[43m,\u001b[49m\u001b[43my\u001b[49m\u001b[43m:\u001b[49m\u001b[43m \u001b[49m\u001b[43mg\u001b[49m\u001b[43m(\u001b[49m\u001b[43mx\u001b[49m\u001b[43m,\u001b[49m\u001b[43my\u001b[49m\u001b[43m)\u001b[49m\u001b[43m,\u001b[49m\u001b[43m \u001b[49m\u001b[43mvectorize\u001b[49m\u001b[43m)\u001b[49m\n\u001b[1;32m     53\u001b[0m \u001b[38;5;66;03m# Simplify the Chebfun2 object using a singular value decomposition. We truncate to the rank floor(2*n/pi) where n is the number of pivot values.\u001b[39;00m\n\u001b[1;32m     54\u001b[0m \u001b[38;5;28;01mif\u001b[39;00m simplify:\n",
      "File \u001b[0;32m~/harsh/.envs/chebgreen/lib/python3.12/site-packages/chebgreen/chebpy2/chebfun2.py:162\u001b[0m, in \u001b[0;36mChebfun2.constructor\u001b[0;34m(self, g, vectorize)\u001b[0m\n\u001b[1;32m    160\u001b[0m \u001b[38;5;28;01mif\u001b[39;00m (grid \u001b[38;5;241m>\u001b[39m factor\u001b[38;5;241m*\u001b[39m(maxRank\u001b[38;5;241m-\u001b[39m\u001b[38;5;241m1\u001b[39m)\u001b[38;5;241m+\u001b[39m\u001b[38;5;241m1\u001b[39m)\u001b[38;5;241m.\u001b[39many():\n\u001b[1;32m    161\u001b[0m     failure \u001b[38;5;241m=\u001b[39m \u001b[38;5;241m1\u001b[39m\n\u001b[0;32m--> 162\u001b[0m     \u001b[38;5;28;01mraise\u001b[39;00m \u001b[38;5;167;01mRuntimeWarning\u001b[39;00m(\u001b[38;5;124m'\u001b[39m\u001b[38;5;124mCHEBFUN:CHEBFUN2:constructor:rank, Not a low-rank function.\u001b[39m\u001b[38;5;124m'\u001b[39m)\n\u001b[1;32m    164\u001b[0m \u001b[38;5;66;03m# Check if the column and row slices are resolved. Hardcoded for Chebtech2\u001b[39;00m\n\u001b[1;32m    165\u001b[0m colTech \u001b[38;5;241m=\u001b[39m chebpy\u001b[38;5;241m.\u001b[39mcore\u001b[38;5;241m.\u001b[39mchebtech\u001b[38;5;241m.\u001b[39mChebtech2\u001b[38;5;241m.\u001b[39minitvalues(values \u001b[38;5;241m=\u001b[39m np\u001b[38;5;241m.\u001b[39msum(colVals,axis \u001b[38;5;241m=\u001b[39m \u001b[38;5;241m1\u001b[39m), interval \u001b[38;5;241m=\u001b[39m \u001b[38;5;28mself\u001b[39m\u001b[38;5;241m.\u001b[39mdomain[\u001b[38;5;241m2\u001b[39m:])\n",
      "\u001b[0;31mRuntimeWarning\u001b[0m: CHEBFUN:CHEBFUN2:constructor:rank, Not a low-rank function."
     ]
    }
   ],
   "source": [
    "%%time\n",
    "model = ChebGreen(Theta, domain, generateData, script, example, dirichletBC)"
   ]
  },
  {
   "cell_type": "code",
   "execution_count": 4,
   "id": "2d814773-76bf-4775-85a3-7f4fa5923a4d",
   "metadata": {},
   "outputs": [
    {
     "ename": "NameError",
     "evalue": "name 'model' is not defined",
     "output_type": "error",
     "traceback": [
      "\u001b[0;31m---------------------------------------------------------------------------\u001b[0m",
      "\u001b[0;31mNameError\u001b[0m                                 Traceback (most recent call last)",
      "Cell \u001b[0;32mIn[4], line 1\u001b[0m\n\u001b[0;32m----> 1\u001b[0m \u001b[43mmodel\u001b[49m\u001b[38;5;241m.\u001b[39mG\n",
      "\u001b[0;31mNameError\u001b[0m: name 'model' is not defined"
     ]
    }
   ],
   "source": [
    "model.G"
   ]
  },
  {
   "cell_type": "code",
   "execution_count": null,
   "id": "b0b78659-ca4e-49df-abb2-9aebf203e991",
   "metadata": {},
   "outputs": [],
   "source": [
    "model.N"
   ]
  },
  {
   "cell_type": "code",
   "execution_count": null,
   "id": "2c4007c4-594d-4ab9-9bd8-dcd41e216b5e",
   "metadata": {},
   "outputs": [],
   "source": [
    "model.G[0.8]"
   ]
  },
  {
   "cell_type": "code",
   "execution_count": null,
   "id": "438e52ea-2dd6-4568-8e8c-3c4d934fdef6",
   "metadata": {},
   "outputs": [],
   "source": [
    "%%time\n",
    "for t in Theta:\n",
    "    fig = plt.figure()\n",
    "    model.G[t].plot(fig = fig)\n",
    "    error = model.computeEmpiricalError(t)\n",
    "    plt.title(f\"$\\\\theta = {{{t:4.2f}}}$,$\\\\epsilon_{{test}} = {{{error*100:4.2f}}}\\\\%$\")"
   ]
  },
  {
   "cell_type": "code",
   "execution_count": null,
   "id": "35778222-5316-4bb9-92f4-8cf0309e6a78",
   "metadata": {},
   "outputs": [],
   "source": [
    "# vmin, vmax = -0.44,2.8\n",
    "# Gplot = model.G[0.95]\n",
    "\n",
    "# xx = np.linspace(domain[0],domain[1],2000)\n",
    "# yy = np.linspace(domain[2],domain[3],2000)\n",
    "# x, y = np.meshgrid(xx,yy)\n",
    "# Gplot = Gplot[x,y]\n",
    "\n",
    "# fig = plt.figure(figsize = (13,10), frameon=False)\n",
    "# plt.axis('off')\n",
    "# plt.gca().set_aspect('equal', adjustable='box')\n",
    "# levels = np.linspace(vmin, vmax, 50, endpoint = True)\n",
    "# plt.contourf(x,y,Gplot, levels = levels, cmap = 'jet', vmin = vmin, vmax = vmax)\n",
    "# # ticks = np.linspace(vmin, vmax, 10, endpoint=True)\n",
    "# # cbar = plt.colorbar(ticks = ticks, modeltion = 0.046, pad = 0.04)\n",
    "\n",
    "# fig.savefig('model-C.png', dpi = fig.dpi, bbox_inches='tight', pad_inches=0)"
   ]
  },
  {
   "cell_type": "code",
   "execution_count": null,
   "id": "b060d27f-72b0-45a4-b3d5-965a6d6c8b4f",
   "metadata": {},
   "outputs": [],
   "source": [
    "%%time\n",
    "u,s,v = model.G[Theta[0]].svd()"
   ]
  },
  {
   "cell_type": "code",
   "execution_count": null,
   "id": "2abef19d-8b16-4d5c-898b-30a79c35d7dd",
   "metadata": {},
   "outputs": [],
   "source": [
    "fig = plt.figure(figsize = (8,6))\n",
    "plt.plot(s)\n",
    "plt.yscale('log')\n",
    "plt.grid(True)"
   ]
  },
  {
   "cell_type": "code",
   "execution_count": null,
   "id": "e0ded6ba-8875-4617-ad26-2e013b732e8e",
   "metadata": {},
   "outputs": [],
   "source": [
    "# i = slice(10,20)\n",
    "i = slice(0,5)\n",
    "# i = 16\n",
    "fig = plt.figure(figsize = (8,6))\n",
    "u[:,i].plot(fig = fig)\n",
    "# print(np.max(u[:,i].vscale))\n",
    "# plt.title(f'First {i+1} left singular functions for a Laplacian')\n",
    "plt.xlim([0,1])\n",
    "# fig.savefig(f'Laplace-first.png', dpi = fig.dpi)"
   ]
  },
  {
   "cell_type": "code",
   "execution_count": null,
   "id": "14cd8ac3-f982-4f4c-aa55-52c0594a4323",
   "metadata": {},
   "outputs": [],
   "source": [
    "%%time\n",
    "Ginterp, Ninterp = model.generateNewModel(theta_)"
   ]
  },
  {
   "cell_type": "code",
   "execution_count": null,
   "id": "baefa5a0-2445-48c0-b82f-4bd181333f00",
   "metadata": {
    "tags": []
   },
   "outputs": [],
   "source": [
    "validation = ChebGreen([theta_], domain, generateData, script, example, dirichletBC)"
   ]
  },
  {
   "cell_type": "code",
   "execution_count": null,
   "id": "5a5e12b4-0116-4ae1-af1c-4c24642e52d4",
   "metadata": {},
   "outputs": [],
   "source": [
    "fig = plt.figure()\n",
    "Ginterp.plot(fig = fig)\n",
    "error = model.computeEmpiricalError(theta_)\n",
    "plt.title(f\"Interpolated Model $\\\\theta = {{{theta_:4.2f}}}$,$\\\\epsilon_{{test}} = {{{error*100:4.2f}}}\\\\%$\")"
   ]
  },
  {
   "cell_type": "code",
   "execution_count": null,
   "id": "7986e5f5-aadb-4b3e-9a24-5fde3161b7e8",
   "metadata": {},
   "outputs": [],
   "source": [
    "fig = plt.figure()\n",
    "validation.G[theta_].plot(fig = fig)\n",
    "error = validation.computeEmpiricalError(theta_)\n",
    "plt.title(f\"Validation Model $\\\\theta = {{{theta_:4.2f}}}$,$\\\\epsilon_{{test}} = {{{error*100:4.2f}}}\\\\%$\")"
   ]
  },
  {
   "cell_type": "code",
   "execution_count": null,
   "id": "bcae432c-8ce1-4539-83ab-66bc62440392",
   "metadata": {},
   "outputs": [],
   "source": [
    "def compareGreen1D(interpModel, exactModel, vmin = None, vmax = None):\n",
    "    domain = interpModel.domain\n",
    "    xx = np.linspace(domain[2],domain[3],2000)\n",
    "    yy = np.linspace(domain[0],domain[1],2000)\n",
    "    x, s = np.meshgrid(xx,yy)\n",
    "    \n",
    "    if vmin is None:\n",
    "        vmin = min(interpModel.min,exactModel.min)\n",
    "    if vmax is None:\n",
    "        vmax = max(interpModel.max,exactModel.max)\n",
    "        \n",
    "    plt.figure(figsize = (16,6))\n",
    "    plt.subplot(121)\n",
    "    \n",
    "    GInterp = interpModel[x,s]\n",
    "    \n",
    "    levels = np.linspace(vmin, vmax, 50, endpoint = True)\n",
    "    ticks = np.linspace(vmin, vmax, 10, endpoint=True)\n",
    "    \n",
    "    surf = plt.contourf(x, s, GInterp, levels = levels, cmap = 'turbo', vmin = vmin, vmax = vmax)\n",
    "    plt.gca().set_aspect('equal', adjustable='box')\n",
    "    cbar = plt.colorbar(ticks = ticks, fraction = 0.046, pad = 0.04)\n",
    "    cbar.ax.set_yticklabels([\"{:4.2f}\".format(i) for i in ticks])\n",
    "    plt.xlabel('$x$', fontsize = 11)\n",
    "    plt.ylabel('$s$', rotation='horizontal', labelpad=10, fontsize = 11)\n",
    "    plt.title(\"Interpolated\", fontsize = 14)\n",
    "    \n",
    "    GExact = exactModel[x,s]\n",
    "    \n",
    "    plt.subplot(122)\n",
    "    plt.gca().set_aspect('equal', adjustable='box')\n",
    "    surf = plt.contourf(x, s, GExact, levels = levels, cmap = 'turbo', vmin = vmin, vmax = vmax)\n",
    "    cbar = plt.colorbar(ticks = ticks, fraction = 0.046, pad = 0.04)\n",
    "    cbar.ax.set_yticklabels([\"{:4.2f}\".format(i) for i in ticks])\n",
    "    plt.xlabel('x', fontsize = 11)\n",
    "    plt.ylabel('s', rotation='horizontal', labelpad=10, fontsize = 11)\n",
    "    plt.title(\"Data\", fontsize = 14)"
   ]
  },
  {
   "cell_type": "code",
   "execution_count": null,
   "id": "a1db909d-5f2d-4e78-ba05-2a0f4b1adba2",
   "metadata": {},
   "outputs": [],
   "source": [
    "compareGreen1D(Ginterp,validation.G[theta_])"
   ]
  },
  {
   "cell_type": "code",
   "execution_count": null,
   "id": "726824e9",
   "metadata": {},
   "outputs": [],
   "source": [
    "from chebgreen.backend import config\n",
    "from chebgreen.greenlearning.quadrature_weights import get_weights\n",
    "from chebgreen.greenlearning.utils import DataProcessor\n",
    "from copy import deepcopy\n",
    "\n",
    "theta = Theta[0]\n",
    "\n",
    "data = DataProcessor(model.datapath + f\"/{theta:.2f}/data.mat\")\n",
    "data.generateDataset(trainRatio = 0.95)\n",
    "\n",
    "# Ef = data.valDataset[0]\n",
    "# Eu = data.valDataset[1]\n",
    "Ef = data.trainDataset[0].detach().cpu().numpy()\n",
    "Eu = data.trainDataset[1].detach().cpu().numpy()\n",
    "\n",
    "xF, xU = data.xF, data.xU\n",
    "wF = get_weights('trapezoidal', xF).astype(dtype = config(np))\n",
    "wU = get_weights('trapezoidal', xU).astype(dtype = config(np))"
   ]
  },
  {
   "cell_type": "code",
   "execution_count": null,
   "id": "32e715e5",
   "metadata": {},
   "outputs": [],
   "source": [
    "plt.figure()\n",
    "idx = 3\n",
    "plt.plot(Ef[idx,:])"
   ]
  },
  {
   "cell_type": "code",
   "execution_count": null,
   "id": "4b2d53f4",
   "metadata": {},
   "outputs": [],
   "source": []
  }
 ],
 "metadata": {
  "kernelspec": {
   "display_name": "Python 3 (ipykernel)",
   "language": "python",
   "name": "python3"
  },
  "language_info": {
   "codemirror_mode": {
    "name": "ipython",
    "version": 3
   },
   "file_extension": ".py",
   "mimetype": "text/x-python",
   "name": "python",
   "nbconvert_exporter": "python",
   "pygments_lexer": "ipython3",
   "version": "3.12.5"
  }
 },
 "nbformat": 4,
 "nbformat_minor": 5
}
