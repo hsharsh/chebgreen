{
 "cells": [
  {
   "cell_type": "code",
   "execution_count": null,
   "id": "70ecae76-a2fa-487b-9c13-141bfb6824b9",
   "metadata": {},
   "outputs": [],
   "source": [
    "from chebgreen import ChebGreen\n",
    "import numpy as np\n",
    "import matplotlib.pyplot as plt\n",
    "\n",
    "from chebgreen.chebpy2 import Quasimatrix\n",
    "from chebgreen.chebpy2.chebpy import chebfun\n",
    "from chebgreen.chebpy2 import Chebfun2\n",
    "\n",
    "# %env TF_MLC_LOGGING=1\n",
    "# %env TF_CPP_MIN_LOG_LEVEL=2"
   ]
  },
  {
   "cell_type": "code",
   "execution_count": null,
   "id": "cd72e517-8694-496d-b337-f1717bffd5d2",
   "metadata": {
    "tags": []
   },
   "outputs": [],
   "source": [
    "%%time\n",
    "Theta = [1.0,2.0,3.0]\n",
    "domain = [-1,1,-1,1]\n",
    "generateData = True\n",
    "script = \"generate_example\"\n",
    "example = \"advection_diffusion\"\n",
    "dirichletBC = True\n",
    "advecDiff = ChebGreen(Theta, domain, generateData, script, example, dirichletBC)"
   ]
  },
  {
   "cell_type": "code",
   "execution_count": null,
   "id": "1d2b1624-a740-4dfe-ac3c-19fa7c8885eb",
   "metadata": {},
   "outputs": [],
   "source": [
    "advecDiff.G"
   ]
  },
  {
   "cell_type": "code",
   "execution_count": null,
   "id": "2d814773-76bf-4775-85a3-7f4fa5923a4d",
   "metadata": {},
   "outputs": [],
   "source": [
    "%%time\n",
    "for t in Theta:\n",
    "    fig = plt.figure()\n",
    "    advecDiff.G[t].plot(fig = fig)\n",
    "    error = advecDiff.computeEmpiricalError(t)\n",
    "    plt.title(f\"$\\\\theta = {{{t:4.2f}}}$,$\\\\epsilon_{{test}} = {{{error*100:4.2f}}}\\\\%$\")"
   ]
  },
  {
   "cell_type": "code",
   "execution_count": null,
   "id": "b060d27f-72b0-45a4-b3d5-965a6d6c8b4f",
   "metadata": {},
   "outputs": [],
   "source": [
    "%%time\n",
    "U, S, V = [],[],[]\n",
    "for t in Theta:\n",
    "    u,s,v = advecDiff.G[t].svd()\n",
    "    U.append(u)\n",
    "    S.append(s)\n",
    "    V.append(v)"
   ]
  },
  {
   "cell_type": "code",
   "execution_count": null,
   "id": "45f051ac-af09-4457-947a-c20144913e3c",
   "metadata": {},
   "outputs": [],
   "source": [
    "t = 0\n",
    "u,s,v = U[t],S[t],V[t]"
   ]
  },
  {
   "cell_type": "code",
   "execution_count": null,
   "id": "2abef19d-8b16-4d5c-898b-30a79c35d7dd",
   "metadata": {},
   "outputs": [],
   "source": [
    "fig = plt.figure(figsize = (8,6))\n",
    "plt.semilogy(s)"
   ]
  },
  {
   "cell_type": "code",
   "execution_count": null,
   "id": "04eba001-7880-4e57-911b-064781ece3b3",
   "metadata": {},
   "outputs": [],
   "source": [
    "# i = slice(10,20)\n",
    "i = slice(0,5)\n",
    "# i = 16\n",
    "fig = plt.figure(figsize = (8,6))\n",
    "u[:,i].plot(fig = fig)\n",
    "# print(np.max(u[:,i].vscale))\n",
    "# plt.title(f'First {i+1} left singular functions for a Laplacian')\n",
    "plt.xlim([-1,1])\n",
    "# fig.savefig(f'Laplace-first.png', dpi = fig.dpi)"
   ]
  },
  {
   "cell_type": "code",
   "execution_count": null,
   "id": "14cd8ac3-f982-4f4c-aa55-52c0594a4323",
   "metadata": {},
   "outputs": [],
   "source": [
    "%%time\n",
    "theta_ = 2.5\n",
    "Ginterp, Ninterp = advecDiff.generateNewModel(theta_)"
   ]
  },
  {
   "cell_type": "code",
   "execution_count": null,
   "id": "17cc76ce-d545-4718-8f91-ccf9692612ed",
   "metadata": {},
   "outputs": [],
   "source": [
    "Ginterp"
   ]
  },
  {
   "cell_type": "code",
   "execution_count": null,
   "id": "486253d6-4fc4-4162-89f4-f66595b4df9b",
   "metadata": {},
   "outputs": [],
   "source": [
    "%%time\n",
    "u,s,v = Ginterp.svd()"
   ]
  },
  {
   "cell_type": "code",
   "execution_count": null,
   "id": "bcd7eef7-2138-44a5-b09c-c73b717ce0d8",
   "metadata": {},
   "outputs": [],
   "source": [
    "fig = plt.figure(figsize = (8,6))\n",
    "plt.semilogy(s)"
   ]
  },
  {
   "cell_type": "code",
   "execution_count": null,
   "id": "20f4ef52-8813-4041-9167-29cb1ab814b1",
   "metadata": {},
   "outputs": [],
   "source": [
    "# i = slice(10,20)\n",
    "i = slice(0,5)\n",
    "# i = 16\n",
    "fig = plt.figure(figsize = (8,6))\n",
    "u[:,i].plot(fig = fig)\n",
    "# print(np.max(u[:,i].vscale))\n",
    "# plt.title(f'First {i+1} left singular functions for a Laplacian')\n",
    "plt.xlim([-1,1])\n",
    "# fig.savefig(f'Laplace-first.png', dpi = fig.dpi)"
   ]
  },
  {
   "cell_type": "code",
   "execution_count": null,
   "id": "baefa5a0-2445-48c0-b82f-4bd181333f00",
   "metadata": {
    "tags": []
   },
   "outputs": [],
   "source": [
    "validation = ChebGreen([theta_], domain, generateData, script, example, dirichletBC)"
   ]
  },
  {
   "cell_type": "code",
   "execution_count": null,
   "id": "366d023a-5291-4a08-be44-f531db0c7a77",
   "metadata": {},
   "outputs": [],
   "source": [
    "%%time\n",
    "fig = plt.figure()\n",
    "Ginterp.plot(fig = fig)\n",
    "error = advecDiff.computeEmpiricalError(theta_)\n",
    "plt.title(f\"Interpolated Model $\\\\theta = {{{theta_:4.2f}}}$,$\\\\epsilon_{{test}} = {{{error*100:4.2f}}}\\\\%$\")"
   ]
  },
  {
   "cell_type": "code",
   "execution_count": null,
   "id": "108bdec0-4930-4e4b-801c-c29e65165d7c",
   "metadata": {},
   "outputs": [],
   "source": [
    "%%time\n",
    "fig = plt.figure()\n",
    "validation.G[theta_].plot(fig = fig)\n",
    "error = validation.computeEmpiricalError(theta_)\n",
    "plt.title(f\"Validation Model $\\\\theta = {{{theta_:4.2f}}}$,$\\\\epsilon_{{test}} = {{{error*100:4.2f}}}\\\\%$\")"
   ]
  },
  {
   "cell_type": "code",
   "execution_count": null,
   "id": "bcae432c-8ce1-4539-83ab-66bc62440392",
   "metadata": {},
   "outputs": [],
   "source": [
    "def compareGreen1D(interpModel, exactModel, vmin = None, vmax = None):\n",
    "    domain = interpModel.domain\n",
    "    xx = np.linspace(domain[2],domain[3],2000)\n",
    "    yy = np.linspace(domain[0],domain[1],2000)\n",
    "    x, s = np.meshgrid(xx,yy)\n",
    "    \n",
    "    if vmin is None:\n",
    "        vmin = min(interpModel.min,exactModel.min)\n",
    "    if vmax is None:\n",
    "        vmax = max(interpModel.max,exactModel.max)\n",
    "        \n",
    "    plt.figure(figsize = (16,6))\n",
    "    plt.subplot(121)\n",
    "    \n",
    "    GInterp = interpModel[x,s]\n",
    "    \n",
    "    levels = np.linspace(vmin, vmax, 50, endpoint = True)\n",
    "    ticks = np.linspace(vmin, vmax, 10, endpoint=True)\n",
    "    \n",
    "    surf = plt.contourf(x, s, GInterp, levels = levels, cmap = 'turbo', vmin = vmin, vmax = vmax)\n",
    "    plt.gca().set_aspect('equal', adjustable='box')\n",
    "    cbar = plt.colorbar(ticks = ticks, fraction = 0.046, pad = 0.04)\n",
    "    cbar.ax.set_yticklabels([\"{:4.2f}\".format(i) for i in ticks])\n",
    "    plt.xlabel('$x$', fontsize = 11)\n",
    "    plt.ylabel('$s$', rotation='horizontal', labelpad=10, fontsize = 11)\n",
    "    plt.title(\"Interpolated\", fontsize = 14)\n",
    "    \n",
    "    GExact = exactModel[x,s]\n",
    "    \n",
    "    plt.subplot(122)\n",
    "    plt.gca().set_aspect('equal', adjustable='box')\n",
    "    surf = plt.contourf(x, s, GExact, levels = levels, cmap = 'turbo', vmin = vmin, vmax = vmax)\n",
    "    cbar = plt.colorbar(ticks = ticks, fraction = 0.046, pad = 0.04)\n",
    "    cbar.ax.set_yticklabels([\"{:4.2f}\".format(i) for i in ticks])\n",
    "    plt.xlabel('x', fontsize = 11)\n",
    "    plt.ylabel('s', rotation='horizontal', labelpad=10, fontsize = 11)\n",
    "    plt.title(\"Data\", fontsize = 14)"
   ]
  },
  {
   "cell_type": "code",
   "execution_count": null,
   "id": "a1db909d-5f2d-4e78-ba05-2a0f4b1adba2",
   "metadata": {},
   "outputs": [],
   "source": [
    "compareGreen1D(Ginterp,validation.G[theta_])"
   ]
  },
  {
   "cell_type": "code",
   "execution_count": null,
   "id": "f9bbadf8-6e86-4bcf-9b50-28e337fc198a",
   "metadata": {},
   "outputs": [],
   "source": []
  }
 ],
 "metadata": {
  "kernelspec": {
   "display_name": "Python 3 (ipykernel)",
   "language": "python",
   "name": "python3"
  },
  "language_info": {
   "codemirror_mode": {
    "name": "ipython",
    "version": 3
   },
   "file_extension": ".py",
   "mimetype": "text/x-python",
   "name": "python",
   "nbconvert_exporter": "python",
   "pygments_lexer": "ipython3",
   "version": "3.12.3"
  }
 },
 "nbformat": 4,
 "nbformat_minor": 5
}
