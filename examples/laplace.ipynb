{
 "cells": [
  {
   "cell_type": "code",
   "execution_count": null,
   "id": "dad96881-11e0-4559-9387-322ddb8736fc",
   "metadata": {
    "tags": []
   },
   "outputs": [],
   "source": [
    "from chebGreen.greenlearning.utils import DataProcessor\n",
    "from chebGreen.greenlearning.model import *\n",
    "from chebGreen.backend import plt\n",
    "from chebGreen.utils import runCustomScript\n",
    "\n",
    "# %env TF_MLC_LOGGING=1\n",
    "# %env TF_CPP_MIN_LOG_LEVEL=2"
   ]
  },
  {
   "cell_type": "code",
   "execution_count": null,
   "id": "3ae332dc-7b17-46d5-9707-2c7719dba30e",
   "metadata": {
    "tags": []
   },
   "outputs": [],
   "source": [
    "%%time\n",
    "example = 'laplace'\n",
    "script = 'generate_example'\n",
    "theta = None\n",
    "Nsample = 500\n",
    "lmbda = 0.01\n",
    "Nf = 500\n",
    "Nu = 500\n",
    "noise_level = 0\n",
    "runCustomScript(script,example,theta,Nsample,lmbda,Nf,Nu,noise_level)"
   ]
  },
  {
   "cell_type": "code",
   "execution_count": null,
   "id": "32435d4c-1a0c-438d-ae89-3ca7fb4cfefd",
   "metadata": {
    "tags": []
   },
   "outputs": [],
   "source": [
    "data = DataProcessor(f\"datasets/{example}/data.mat\")\n",
    "data.generateDataset(trainRatio = 0.95)"
   ]
  },
  {
   "cell_type": "code",
   "execution_count": null,
   "id": "bf1236b2-56ac-4719-b6d5-2d7c66f3f35d",
   "metadata": {},
   "outputs": [],
   "source": [
    "F = data.trainDataset[0].cpu().numpy()\n",
    "U = data.trainDataset[1].cpu().numpy()"
   ]
  },
  {
   "cell_type": "code",
   "execution_count": null,
   "id": "f2b04c1d-e10d-485d-ac9a-419b60be612e",
   "metadata": {},
   "outputs": [],
   "source": [
    "A = F.T"
   ]
  },
  {
   "cell_type": "code",
   "execution_count": null,
   "id": "35852cb8-29f1-45ca-9428-3d62673a05cd",
   "metadata": {},
   "outputs": [],
   "source": [
    "u, s, v = np.linalg.svd(A)"
   ]
  },
  {
   "cell_type": "code",
   "execution_count": null,
   "id": "22a1caa7-e5e3-4809-870f-f55862dcd7a5",
   "metadata": {},
   "outputs": [],
   "source": [
    "plt.figure()\n",
    "plt.plot(A[:,0])"
   ]
  },
  {
   "cell_type": "code",
   "execution_count": null,
   "id": "e2fad605-e734-454a-aa2c-b33e872e152c",
   "metadata": {},
   "outputs": [],
   "source": [
    "np.linalg.matrix_rank(A)"
   ]
  },
  {
   "cell_type": "code",
   "execution_count": null,
   "id": "c0c02ea7-02c9-4e1a-80f1-b379f4700271",
   "metadata": {},
   "outputs": [],
   "source": [
    "plt.figure()\n",
    "plt.plot(u[:,3])"
   ]
  },
  {
   "cell_type": "code",
   "execution_count": null,
   "id": "c40da084-50fc-4548-9bc4-91fab0d9c588",
   "metadata": {},
   "outputs": [],
   "source": [
    "plt.figure()\n",
    "plt.plot(F[0,:])"
   ]
  },
  {
   "cell_type": "code",
   "execution_count": null,
   "id": "ccf39d48-8216-4498-9ae8-f678fc2cb266",
   "metadata": {},
   "outputs": [],
   "source": [
    "plt.figure()\n",
    "plt.plot(U[0,:])"
   ]
  },
  {
   "cell_type": "code",
   "execution_count": null,
   "id": "6992906b-ac12-49f1-8f98-2c734c75c2d6",
   "metadata": {},
   "outputs": [],
   "source": [
    "model = GreenNN()\n",
    "dimension = 1\n",
    "domain = [0,1,0,1]\n",
    "layerConfig = [50,50,50,50]\n",
    "activation = 'rational'\n",
    "dirichletBC = True\n",
    "model.build(dimension, domain, layerConfig, activation, dirichletBC)"
   ]
  },
  {
   "cell_type": "code",
   "execution_count": null,
   "id": "0e3647c1-af51-4065-82d0-a9629c7e1780",
   "metadata": {
    "tags": []
   },
   "outputs": [],
   "source": [
    "%%time\n",
    "lossHistory = model.train(data, epochs = {'adam':int(5000), 'lbfgs':int(0)})"
   ]
  },
  {
   "cell_type": "code",
   "execution_count": null,
   "id": "842861cf-1433-47c5-90db-60056431dc4f",
   "metadata": {},
   "outputs": [],
   "source": [
    "xF, xU = data.xF, data.xU\n",
    "x, y = np.meshgrid(xU, xF)\n",
    "G = model.evaluateG(x,y)\n",
    "N = model.evaluateN(data.xF)"
   ]
  },
  {
   "cell_type": "code",
   "execution_count": null,
   "id": "c93a26ed-0cd1-4fc2-9356-5ffb622f7276",
   "metadata": {},
   "outputs": [],
   "source": [
    "plt.figure()\n",
    "plt.semilogy(range(len(lossHistory['training'])), lossHistory['training'], 'b', alpha = 0.5)\n",
    "plt.semilogy(range(len(lossHistory['validation'])), lossHistory['validation'], 'r--', alpha = 0.5)\n",
    "plt.xlabel('Epoch')\n",
    "plt.ylabel('Loss')\n",
    "plt.legend(['Training','Validation'])"
   ]
  },
  {
   "cell_type": "code",
   "execution_count": null,
   "id": "a41af6fd-4503-460a-9651-c4b1d46ea589",
   "metadata": {},
   "outputs": [],
   "source": [
    "fig = plt.figure(figsize = (8,6))\n",
    "plt.contourf(x,y,G, 50, cmap = 'turbo', vmin = np.min(G), vmax = np.max(G))\n",
    "plt.colorbar()"
   ]
  },
  {
   "cell_type": "code",
   "execution_count": null,
   "id": "fcad7b22-5cab-4a1b-95e1-8f45dd0d2a92",
   "metadata": {},
   "outputs": [],
   "source": [
    "model.saveModels(f'savedModels/{example}')"
   ]
  },
  {
   "cell_type": "code",
   "execution_count": null,
   "id": "1c536522-d088-4796-b3d0-f9c55387a292",
   "metadata": {},
   "outputs": [],
   "source": [
    "savedModel = GreenNN()\n",
    "savedModel.build(dimension, domain, layerConfig, activation, dirichletBC, loadPath = f'savedModels/{example}')"
   ]
  },
  {
   "cell_type": "code",
   "execution_count": null,
   "id": "989db497-8dcb-4544-8e21-82503c1bd212",
   "metadata": {},
   "outputs": [],
   "source": [
    "from chebGreen.chebpy2 import Chebfun2\n",
    "from chebGreen.chebpy2.chebpy.core.algorithms import chebpts2\n",
    "from chebGreen.chebpy2.chebpy.api import chebfun"
   ]
  },
  {
   "cell_type": "code",
   "execution_count": null,
   "id": "9969293d-ee6b-4ba7-b21a-ad2b4d5e31c9",
   "metadata": {},
   "outputs": [],
   "source": [
    "%%time\n",
    "cheb2prefs = Chebpy2Preferences()\n",
    "cheb2prefs.prefx.eps = 1e-6\n",
    "cheb2prefs.prefx.eps = 1e-6\n",
    "g = Chebfun2(savedModel.evaluateG, domain = domain, prefs = cheb2prefs, simplify = False)"
   ]
  },
  {
   "cell_type": "code",
   "execution_count": null,
   "id": "19f46505-6292-4289-8015-35c769699d5d",
   "metadata": {},
   "outputs": [],
   "source": [
    "def vec2cheb(f, x):\n",
    "    f = f.reshape((-1))\n",
    "    x = x.reshape((-1))\n",
    "    domain = [np.min(x), np.max(x)] # Compute the bounds of the domain\n",
    "    \n",
    "    # Function is resampled at twice as many sampled points to maintain accuracy in a different basis.\n",
    "    N = 2 * f.shape[0] # Check if this is fine\n",
    "    \n",
    "    # Compute the Chebyshev nodes and scale them to the domain\n",
    "    xc = (chebpts2(N) + 1) * ((domain[1] - domain[0])/2) + domain[0]\n",
    "\n",
    "    # Compute the interpolated value of the function at the Chebyshev nodes\n",
    "    fc = np.interp(xc, x, f).reshape((-1,1))\n",
    "\n",
    "    return chebfun(fc, domain)"
   ]
  },
  {
   "cell_type": "code",
   "execution_count": null,
   "id": "b58b7871-76a1-462e-bc7e-3187a5417f36",
   "metadata": {},
   "outputs": [],
   "source": [
    "def computeEmpiricalError(data, G, N = None):\n",
    "    RE, UC, U0 = [],[],[]\n",
    "    if N is None:\n",
    "        print('Assuming a zero homogeneous solution.')\n",
    "    for i in range(data.valDataset[1].cpu().numpy().shape[0]):\n",
    "        xF, xU = data.xF, data.xU\n",
    "        f, u  = data.valDataset[0].cpu().numpy()[i,:], data.valDataset[1].cpu().numpy()[i,:]\n",
    "        f0, u0 = vec2cheb(f,xF), vec2cheb(u,xU)\n",
    "        if N is None:\n",
    "            uc = G.T.integralTransform(f0)\n",
    "        else:\n",
    "            uc = G.T.integralTransform(f0) + N\n",
    "        re = (uc - u0).abs()/u0.abs().sum()\n",
    "        RE.append(re)\n",
    "    \n",
    "    error = np.mean([re.sum() for re in RE])\n",
    "    return error"
   ]
  },
  {
   "cell_type": "code",
   "execution_count": null,
   "id": "f0ada4ac-3c13-4786-bd3f-bd5a4ba3a395",
   "metadata": {},
   "outputs": [],
   "source": [
    "error = computeEmpiricalError(data, g, N = None)"
   ]
  },
  {
   "cell_type": "code",
   "execution_count": null,
   "id": "0b0d3292-f5f0-4e45-894a-d6bbb7a9afae",
   "metadata": {},
   "outputs": [],
   "source": [
    "%%time\n",
    "example = 'laplace'\n",
    "script = 'generate_example'\n",
    "theta = None\n",
    "Nsample = 100\n",
    "lmbda = 0.01\n",
    "Nf = 500\n",
    "Nu = 500\n",
    "noise_level = 0\n",
    "runCustomScript(script,example,theta,Nsample,lmbda,Nf,Nu,noise_level)"
   ]
  },
  {
   "cell_type": "code",
   "execution_count": null,
   "id": "463a8fb3-7705-4407-aeb9-75746521e67b",
   "metadata": {},
   "outputs": [],
   "source": [
    "data = DataProcessor(f\"datasets/{example}/data.mat\")\n",
    "data.generateDataset(trainRatio = 0.1)"
   ]
  },
  {
   "cell_type": "code",
   "execution_count": null,
   "id": "42f39bd9-acad-4d33-a63c-778be04cb9f9",
   "metadata": {},
   "outputs": [],
   "source": [
    "%%time\n",
    "error = computeEmpiricalError(data, g, N = None)"
   ]
  },
  {
   "cell_type": "code",
   "execution_count": null,
   "id": "e8998935-f737-43ef-9433-a8acdf07c973",
   "metadata": {},
   "outputs": [],
   "source": [
    "error"
   ]
  },
  {
   "cell_type": "code",
   "execution_count": null,
   "id": "d76a5500-7a75-49d4-9057-22dfde812071",
   "metadata": {},
   "outputs": [],
   "source": [
    "xx = np.linspace(domain[2],domain[3],2000)\n",
    "yy = np.linspace(domain[0],domain[1],2000)\n",
    "x, y = np.meshgrid(xx,yy)\n",
    "G = savedModel.evaluateG(x,y)\n",
    "N = savedModel.evaluateN(xx)"
   ]
  },
  {
   "cell_type": "code",
   "execution_count": null,
   "id": "d1eb42f8-ff86-4dd4-8453-593eed9e7461",
   "metadata": {},
   "outputs": [],
   "source": [
    "def green(x,s):\n",
    "    g = 0\n",
    "    g = (x <= s) * (x * (1-s)) + (x > s) * (s * (1-x))\n",
    "    # np.random.seed(42)\n",
    "    # g = g + np.random.normal(loc = 0.0, scale = 0.25 * eps * factor, size=x.shape)\n",
    "    return g"
   ]
  },
  {
   "cell_type": "code",
   "execution_count": null,
   "id": "5ee637cb-1d44-4fc9-86f1-7ee70cd1093f",
   "metadata": {},
   "outputs": [],
   "source": [
    "fig = plt.figure(figsize = (8,7))\n",
    "\n",
    "vmin, vmax = np.min(G), np.max(G)\n",
    "\n",
    "levels = np.linspace(vmin, vmax, 50, endpoint = True)\n",
    "plt.contourf(x,y,G, levels = levels, cmap = 'turbo', vmin = vmin, vmax = vmax)\n",
    "\n",
    "ticks = np.linspace(vmin, vmax, 10, endpoint=True)\n",
    "cbar = plt.colorbar(ticks = ticks, fraction = 0.046, pad = 0.04)\n",
    "cbar.ax.set_yticklabels([\"{:4.2f}\".format(i) for i in ticks])\n",
    "\n",
    "plt.xlabel(f'$x$', fontsize = 14)\n",
    "plt.ylabel(f'$s$', rotation='horizontal', labelpad=11, fontsize = 14)\n",
    "# plt.title(\"Data\", fontsize = 14)\n",
    "# fig.savefig(f'G.png', dpi = fig.dpi)"
   ]
  },
  {
   "cell_type": "code",
   "execution_count": null,
   "id": "b493b0f5-dc01-4800-b86e-0eca52cb2909",
   "metadata": {},
   "outputs": [],
   "source": [
    "Gexact = green(x,y)\n",
    "\n",
    "fig = plt.figure(figsize = (8,7))\n",
    "\n",
    "vmin, vmax = np.min(Gexact), np.max(Gexact)\n",
    "\n",
    "levels = np.linspace(vmin, vmax, 50, endpoint = True)\n",
    "plt.contourf(x,y,Gexact, levels = levels, cmap = 'turbo', vmin = vmin, vmax = vmax)\n",
    "\n",
    "ticks = np.linspace(vmin, vmax, 10, endpoint=True)\n",
    "cbar = plt.colorbar(ticks = ticks, fraction = 0.046, pad = 0.04)\n",
    "cbar.ax.set_yticklabels([\"{:4.2f}\".format(i) for i in ticks])\n",
    "\n",
    "plt.xlabel(f'$x$', fontsize = 14)\n",
    "plt.ylabel(f'$s$', rotation='horizontal', labelpad=11, fontsize = 14)\n",
    "# plt.title(\"Data\", fontsize = 14)"
   ]
  },
  {
   "cell_type": "code",
   "execution_count": null,
   "id": "7af68c9c-7589-486d-bbfd-35ec269c57b8",
   "metadata": {},
   "outputs": [],
   "source": [
    "fig = plt.figure(figsize = (8,7))\n",
    "plt.plot(xx,N)\n",
    "plt.xlabel(f'$x$', fontsize = 14)\n",
    "plt.ylabel(f'$u_{{hom}}$', rotation='horizontal', labelpad=11, fontsize = 14)\n",
    "plt.xlim([0,1])\n",
    "fig.savefig(f'u_hom.png', dpi = fig.dpi)"
   ]
  },
  {
   "cell_type": "code",
   "execution_count": null,
   "id": "504c28c0-b21a-4613-a7d1-b74361e6fa30",
   "metadata": {},
   "outputs": [],
   "source": [
    "np.sqrt(np.linalg.norm(G-Gexact)/np.linalg.norm(Gexact))"
   ]
  },
  {
   "cell_type": "code",
   "execution_count": null,
   "id": "3be2dd81-ba44-4f49-b93e-da7d03a3b56e",
   "metadata": {},
   "outputs": [],
   "source": [
    "fig = plt.figure(figsize = (8,6))\n",
    "plt.contourf(x,y,np.abs(G-Gexact), 50, cmap = 'turbo')\n",
    "plt.colorbar()"
   ]
  },
  {
   "cell_type": "code",
   "execution_count": null,
   "id": "af4a5a24-8211-4394-a5e0-2f7a63ce5aca",
   "metadata": {},
   "outputs": [],
   "source": []
  }
 ],
 "metadata": {
  "kernelspec": {
   "display_name": "Python 3 (ipykernel)",
   "language": "python",
   "name": "python3"
  },
  "language_info": {
   "codemirror_mode": {
    "name": "ipython",
    "version": 3
   },
   "file_extension": ".py",
   "mimetype": "text/x-python",
   "name": "python",
   "nbconvert_exporter": "python",
   "pygments_lexer": "ipython3",
   "version": "3.12.3"
  }
 },
 "nbformat": 4,
 "nbformat_minor": 5
}
