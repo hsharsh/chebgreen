{
 "cells": [
  {
   "cell_type": "code",
   "execution_count": 1,
   "id": "70ecae76-a2fa-487b-9c13-141bfb6824b9",
   "metadata": {},
   "outputs": [
    {
     "name": "stdout",
     "output_type": "stream",
     "text": [
      "Loading settings from /Users/hsharsh/chebgreen/examples/settings.ini.\n",
      "\n",
      "ChebGreen settings:\n",
      "[MATLAB]\n",
      "nsample = 100\n",
      "lambda = 0.01\n",
      "nf = 500\n",
      "nu = 500\n",
      "noise = 0.5\n",
      "\n",
      "[GREENLEARNING]\n",
      "trainratio = 0.95\n",
      "epochs_adam = 2000\n",
      "epochs_lbfgs = 0\n",
      "initlearningrate = 0.01\n",
      "finallearningrate = 0.001\n",
      "layerconfig = [50,50,50,50]\n",
      "activation = rational\n",
      "\n",
      "[GENERAL]\n",
      "precision = 32\n",
      "device = mps\n",
      "\n",
      "MATLAB Path = /Applications/MATLAB_R2023b.app/bin/matlab\n",
      "PyTorch device = mps\n"
     ]
    }
   ],
   "source": [
    "from chebgreen import ChebGreen\n",
    "import numpy as np\n",
    "import matplotlib.pyplot as plt\n",
    "\n",
    "from chebgreen.chebpy2 import Quasimatrix\n",
    "from chebgreen.chebpy2.chebpy import chebfun\n",
    "from chebgreen.chebpy2 import Chebfun2"
   ]
  },
  {
   "cell_type": "code",
   "execution_count": 2,
   "id": "cd72e517-8694-496d-b337-f1717bffd5d2",
   "metadata": {
    "tags": []
   },
   "outputs": [],
   "source": [
    "Theta = [1.0,5.0,10.0]\n",
    "# Theta = [5.0]\n",
    "theta_ = 7.0\n",
    "domain = [0,1,0,1]\n",
    "generateData = True\n",
    "script = \"generate_example\"\n",
    "example = \"airy_equation\"\n",
    "dirichletBC = True"
   ]
  },
  {
   "cell_type": "code",
   "execution_count": 3,
   "id": "e7b13486",
   "metadata": {},
   "outputs": [
    {
     "name": "stdout",
     "output_type": "stream",
     "text": [
      "Generating dataset for example 'airy_equation'\n",
      "### Example = airy_equation @ theta = 5 ###\n",
      "Number of samples: 100\n",
      "Length scale: 0.01\n",
      "Nf: 500\n",
      "Nu: 500\n",
      "Noise: 50%\n",
      "---------------------------------------\n",
      "Step = 1/100\n",
      "Step = 2/100\n",
      "Step = 3/100\n",
      "Step = 4/100\n",
      "Step = 5/100\n",
      "Step = 6/100\n",
      "Step = 7/100\n",
      "Step = 8/100\n",
      "Step = 9/100\n",
      "Step = 10/100\n",
      "Step = 11/100\n",
      "Step = 12/100\n",
      "Step = 13/100\n",
      "Step = 14/100\n",
      "Step = 15/100\n",
      "Step = 16/100\n",
      "Step = 17/100\n",
      "Step = 18/100\n",
      "Step = 19/100\n",
      "Step = 20/100\n",
      "Step = 21/100\n",
      "Step = 22/100\n",
      "Step = 23/100\n",
      "Step = 24/100\n",
      "Step = 25/100\n",
      "Step = 26/100\n",
      "Step = 27/100\n",
      "Step = 28/100\n",
      "Step = 29/100\n",
      "Step = 30/100\n",
      "Step = 31/100\n",
      "Step = 32/100\n",
      "Step = 33/100\n",
      "Step = 34/100\n",
      "Step = 35/100\n",
      "Step = 36/100\n",
      "Step = 37/100\n",
      "Step = 38/100\n",
      "Step = 39/100\n",
      "Step = 40/100\n",
      "Step = 41/100\n",
      "Step = 42/100\n",
      "Step = 43/100\n",
      "Step = 44/100\n",
      "Step = 45/100\n",
      "Step = 46/100\n",
      "Step = 47/100\n",
      "Step = 48/100\n",
      "Step = 49/100\n",
      "Step = 50/100\n",
      "Step = 51/100\n",
      "Step = 52/100\n",
      "Step = 53/100\n",
      "Step = 54/100\n",
      "Step = 55/100\n",
      "Step = 56/100\n",
      "Step = 57/100\n",
      "Step = 58/100\n",
      "Step = 59/100\n",
      "Step = 60/100\n",
      "Step = 61/100\n",
      "Step = 62/100\n",
      "Step = 63/100\n",
      "Step = 64/100\n",
      "Step = 65/100\n",
      "Step = 66/100\n",
      "Step = 67/100\n",
      "Step = 68/100\n",
      "Step = 69/100\n",
      "Step = 70/100\n",
      "Step = 71/100\n",
      "Step = 72/100\n",
      "Step = 73/100\n",
      "Step = 74/100\n",
      "Step = 75/100\n",
      "Step = 76/100\n",
      "Step = 77/100\n",
      "Step = 78/100\n",
      "Step = 79/100\n",
      "Step = 80/100\n",
      "Step = 81/100\n",
      "Step = 82/100\n",
      "Step = 83/100\n",
      "Step = 84/100\n",
      "Step = 85/100\n",
      "Step = 86/100\n",
      "Step = 87/100\n",
      "Step = 88/100\n",
      "Step = 89/100\n",
      "Step = 90/100\n",
      "Step = 91/100\n",
      "Step = 92/100\n",
      "Step = 93/100\n",
      "Step = 94/100\n",
      "Step = 95/100\n",
      "Step = 96/100\n",
      "Step = 97/100\n",
      "Step = 98/100\n",
      "Step = 99/100\n",
      "Step = 100/100\n",
      "Forcing functions represented by 433 chebyshev points.\n",
      "-------------------------------------------------------------------------------\n",
      "\n",
      "Generating chebfun2 models:\n",
      "Training greenlearning model for example 'airy_equation' at Theta = 5.00\n",
      "Training with Adam:\n",
      "Loss at epoch 100: Training = 1.493E-01, Validation = 1.403E-01\n",
      "Loss at epoch 200: Training = 1.471E-01, Validation = 1.397E-01\n",
      "Loss at epoch 300: Training = 1.469E-01, Validation = 1.398E-01\n",
      "Loss at epoch 400: Training = 1.468E-01, Validation = 1.396E-01\n",
      "Loss at epoch 500: Training = 1.467E-01, Validation = 1.397E-01\n",
      "Loss at epoch 600: Training = 1.466E-01, Validation = 1.397E-01\n",
      "Loss at epoch 700: Training = 1.466E-01, Validation = 1.396E-01\n",
      "Loss at epoch 800: Training = 1.465E-01, Validation = 1.396E-01\n",
      "Loss at epoch 900: Training = 1.464E-01, Validation = 1.396E-01\n",
      "Loss at epoch 1000: Training = 1.464E-01, Validation = 1.396E-01\n",
      "Loss at epoch 1100: Training = 1.463E-01, Validation = 1.395E-01\n",
      "Loss at epoch 1200: Training = 1.463E-01, Validation = 1.395E-01\n",
      "Loss at epoch 1300: Training = 1.463E-01, Validation = 1.395E-01\n",
      "Loss at epoch 1400: Training = 1.463E-01, Validation = 1.395E-01\n",
      "Loss at epoch 1500: Training = 1.463E-01, Validation = 1.395E-01\n",
      "Loss at epoch 1600: Training = 1.463E-01, Validation = 1.395E-01\n",
      "Loss at epoch 1700: Training = 1.463E-01, Validation = 1.396E-01\n",
      "Loss at epoch 1800: Training = 1.462E-01, Validation = 1.396E-01\n",
      "Loss at epoch 1900: Training = 1.462E-01, Validation = 1.396E-01\n",
      "Loss at epoch 2000: Training = 1.462E-01, Validation = 1.396E-01\n",
      "Training with LBFGS:\n",
      "Learning a chebfun model for example 'airy_equation' at Theta = 5.00\n",
      "Chebfun model added for example 'airy_equation' at Theta = 5.00\n",
      "\n",
      "CPU times: user 1min 56s, sys: 12.9 s, total: 2min 9s\n",
      "Wall time: 7min 16s\n"
     ]
    }
   ],
   "source": [
    "%%time\n",
    "model = ChebGreen(Theta, domain, generateData, script, example, dirichletBC)"
   ]
  },
  {
   "cell_type": "code",
   "execution_count": 4,
   "id": "2d814773-76bf-4775-85a3-7f4fa5923a4d",
   "metadata": {},
   "outputs": [
    {
     "data": {
      "text/plain": [
       "{5.0: chebfun2 object\n",
       "      domain       rank               corner values\n",
       " [0.000,1.000] x [0.000,1.000]     43       [-0.000 -0.000 -0.000 -0.000]\n",
       " vertical scale = 0.138882}"
      ]
     },
     "execution_count": 4,
     "metadata": {},
     "output_type": "execute_result"
    }
   ],
   "source": [
    "model.G"
   ]
  },
  {
   "cell_type": "code",
   "execution_count": 5,
   "id": "ba53d72c-47dd-44fc-8e2e-2c5abc3b6f09",
   "metadata": {},
   "outputs": [
    {
     "data": {
      "text/plain": [
       "{5.0: chebfun (1 smooth piece)\n",
       "        interval       length     endpoint values\n",
       " [       0,       1]       12   0.00037 -0.00097\n",
       " vertical scale = 0.00097}"
      ]
     },
     "execution_count": 5,
     "metadata": {},
     "output_type": "execute_result"
    }
   ],
   "source": [
    "model.N"
   ]
  },
  {
   "cell_type": "code",
   "execution_count": 6,
   "id": "648134fa-8947-4bd3-a1db-5f2a914cf61b",
   "metadata": {},
   "outputs": [
    {
     "name": "stdout",
     "output_type": "stream",
     "text": [
      "CPU times: user 9.91 s, sys: 89.1 ms, total: 10 s\n",
      "Wall time: 10 s\n"
     ]
    },
    {
     "data": {
      "image/png": "[encoded data removed]",
      "text/plain": [
       "<Figure size 640x480 with 2 Axes>"
      ]
     },
     "metadata": {},
     "output_type": "display_data"
    }
   ],
   "source": [
    "%%time\n",
    "for t in Theta:\n",
    "    fig = plt.figure()\n",
    "    model.G[t].plot(fig = fig)\n",
    "    error = model.computeEmpiricalError(t)\n",
    "    plt.title(f\"$\\\\theta = {{{t:4.2f}}}$,$\\\\epsilon_{{test}} = {{{error*100:4.2f}}}\\\\%$\")"
   ]
  },
  {
   "cell_type": "code",
   "execution_count": 7,
   "id": "b060d27f-72b0-45a4-b3d5-965a6d6c8b4f",
   "metadata": {},
   "outputs": [
    {
     "ename": "KeyError",
     "evalue": "1",
     "output_type": "error",
     "traceback": [
      "\u001b[0;31m---------------------------------------------------------------------------\u001b[0m",
      "\u001b[0;31mKeyError\u001b[0m                                  Traceback (most recent call last)",
      "File \u001b[0;32m<timed exec>:1\u001b[0m\n",
      "\u001b[0;31mKeyError\u001b[0m: 1"
     ]
    }
   ],
   "source": [
    "%%time\n",
    "u,s,v = model.G[1].svd()"
   ]
  },
  {
   "cell_type": "code",
   "execution_count": 8,
   "id": "2abef19d-8b16-4d5c-898b-30a79c35d7dd",
   "metadata": {},
   "outputs": [
    {
     "ename": "NameError",
     "evalue": "name 's' is not defined",
     "output_type": "error",
     "traceback": [
      "\u001b[0;31m---------------------------------------------------------------------------\u001b[0m",
      "\u001b[0;31mNameError\u001b[0m                                 Traceback (most recent call last)",
      "Cell \u001b[0;32mIn[8], line 2\u001b[0m\n\u001b[1;32m      1\u001b[0m fig \u001b[38;5;241m=\u001b[39m plt\u001b[38;5;241m.\u001b[39mfigure(figsize \u001b[38;5;241m=\u001b[39m (\u001b[38;5;241m8\u001b[39m,\u001b[38;5;241m6\u001b[39m))\n\u001b[0;32m----> 2\u001b[0m plt\u001b[38;5;241m.\u001b[39mplot(\u001b[43ms\u001b[49m)\n\u001b[1;32m      3\u001b[0m plt\u001b[38;5;241m.\u001b[39myscale(\u001b[38;5;124m'\u001b[39m\u001b[38;5;124mlog\u001b[39m\u001b[38;5;124m'\u001b[39m)\n\u001b[1;32m      4\u001b[0m plt\u001b[38;5;241m.\u001b[39mgrid(\u001b[38;5;28;01mTrue\u001b[39;00m)\n",
      "\u001b[0;31mNameError\u001b[0m: name 's' is not defined"
     ]
    },
    {
     "data": {
      "text/plain": [
       "<Figure size 800x600 with 0 Axes>"
      ]
     },
     "metadata": {},
     "output_type": "display_data"
    }
   ],
   "source": [
    "fig = plt.figure(figsize = (8,6))\n",
    "plt.plot(s)\n",
    "plt.yscale('log')\n",
    "plt.grid(True)"
   ]
  },
  {
   "cell_type": "code",
   "execution_count": null,
   "id": "e0ded6ba-8875-4617-ad26-2e013b732e8e",
   "metadata": {},
   "outputs": [],
   "source": [
    "# i = slice(10,20)\n",
    "i = slice(0,5)\n",
    "# i = 16\n",
    "fig = plt.figure(figsize = (8,6))\n",
    "u[:,i].plot(fig = fig)\n",
    "# print(np.max(u[:,i].vscale))\n",
    "# plt.title(f'First {i+1} left singular functions for a Laplacian')\n",
    "plt.xlim([0,1])\n",
    "# fig.savefig(f'Laplace-first.png', dpi = fig.dpi)"
   ]
  },
  {
   "cell_type": "code",
   "execution_count": null,
   "id": "14cd8ac3-f982-4f4c-aa55-52c0594a4323",
   "metadata": {},
   "outputs": [],
   "source": [
    "%%time\n",
    "Ginterp, Ninterp = model.generateNewModel(theta_)"
   ]
  },
  {
   "cell_type": "code",
   "execution_count": null,
   "id": "baefa5a0-2445-48c0-b82f-4bd181333f00",
   "metadata": {
    "tags": []
   },
   "outputs": [],
   "source": [
    "validation = ChebGreen([theta_], domain, generateData, script, example, dirichletBC)"
   ]
  },
  {
   "cell_type": "code",
   "execution_count": null,
   "id": "c4da9a24-1f68-455d-95bd-c4d386d98245",
   "metadata": {},
   "outputs": [],
   "source": [
    "# vmin, vmax = -0.24,0.03\n",
    "# Gplot = validation.G[theta_]\n",
    "\n",
    "# xx = np.linspace(domain[0],domain[1],2000)\n",
    "# yy = np.linspace(domain[2],domain[3],2000)\n",
    "# x, y = np.meshgrid(xx,yy)\n",
    "# Gplot = Gplot[x,y]\n",
    "\n",
    "# fig = plt.figure(figsize = (13,10), frameon=False)\n",
    "# plt.axis('off')\n",
    "# plt.gca().set_aspect('equal', adjustable='box')\n",
    "# levels = np.linspace(vmin, vmax, 50, endpoint = True)\n",
    "# plt.contourf(x,y,Gplot, levels = levels, cmap = 'jet', vmin = vmin, vmax = vmax)\n",
    "# # ticks = np.linspace(vmin, vmax, 6, endpoint=True)\n",
    "# # cbar = plt.colorbar(ticks = ticks, fraction = 0.046, pad = 0.04)\n",
    "\n",
    "# fig.savefig('E.png', dpi = fig.dpi, bbox_inches='tight', pad_inches=0)"
   ]
  },
  {
   "cell_type": "code",
   "execution_count": null,
   "id": "d1804a94-b974-4a63-8342-8f71e9ab62b9",
   "metadata": {},
   "outputs": [],
   "source": [
    "fig = plt.figure()\n",
    "Ginterp.plot(fig = fig)\n",
    "error = model.computeEmpiricalError(theta_)\n",
    "plt.title(f\"Interpolated Model $\\\\theta = {{{theta_:4.2f}}}$,$\\\\epsilon_{{test}} = {{{error*100:4.2f}}}\\\\%$\")\n",
    "# fig.savefig(f'poisson_greenlearning.png', dpi = fig.dpi)"
   ]
  },
  {
   "cell_type": "code",
   "execution_count": null,
   "id": "6425e5fd-d2f0-4882-aa46-55d89028ea77",
   "metadata": {},
   "outputs": [],
   "source": [
    "fig = plt.figure()\n",
    "validation.G[theta_].plot(fig = fig)\n",
    "error = validation.computeEmpiricalError(theta_)\n",
    "plt.title(f\"Validation Model $\\\\theta = {{{theta_:4.2f}}}$,$\\\\epsilon_{{test}} = {{{error*100:4.2f}}}\\\\%$\")"
   ]
  },
  {
   "cell_type": "code",
   "execution_count": null,
   "id": "bcae432c-8ce1-4539-83ab-66bc62440392",
   "metadata": {},
   "outputs": [],
   "source": [
    "def compareGreen1D(interpModel, exactModel, vmin = None, vmax = None):\n",
    "    domain = interpModel.domain\n",
    "    xx = np.linspace(domain[2],domain[3],2000)\n",
    "    yy = np.linspace(domain[0],domain[1],2000)\n",
    "    x, s = np.meshgrid(xx,yy)\n",
    "    \n",
    "    if vmin is None:\n",
    "        vmin = min(interpModel.min,exactModel.min)\n",
    "    if vmax is None:\n",
    "        vmax = max(interpModel.max,exactModel.max)\n",
    "        \n",
    "    plt.figure(figsize = (16,6))\n",
    "    plt.subplot(121)\n",
    "    \n",
    "    GInterp = interpModel[x,s]\n",
    "    \n",
    "    levels = np.linspace(vmin, vmax, 50, endpoint = True)\n",
    "    ticks = np.linspace(vmin, vmax, 10, endpoint=True)\n",
    "    \n",
    "    surf = plt.contourf(x, s, GInterp, levels = levels, cmap = 'turbo', vmin = vmin, vmax = vmax)\n",
    "    plt.gca().set_aspect('equal', adjustable='box')\n",
    "    cbar = plt.colorbar(ticks = ticks, fraction = 0.046, pad = 0.04)\n",
    "    cbar.ax.set_yticklabels([\"{:4.2f}\".format(i) for i in ticks])\n",
    "    plt.xlabel('$x$', fontsize = 11)\n",
    "    plt.ylabel('$s$', rotation='horizontal', labelpad=10, fontsize = 11)\n",
    "    plt.title(\"Interpolated\", fontsize = 14)\n",
    "    \n",
    "    GExact = exactModel[x,s]\n",
    "    \n",
    "    plt.subplot(122)\n",
    "    plt.gca().set_aspect('equal', adjustable='box')\n",
    "    surf = plt.contourf(x, s, GExact, levels = levels, cmap = 'turbo', vmin = vmin, vmax = vmax)\n",
    "    cbar = plt.colorbar(ticks = ticks, fraction = 0.046, pad = 0.04)\n",
    "    cbar.ax.set_yticklabels([\"{:4.2f}\".format(i) for i in ticks])\n",
    "    plt.xlabel('x', fontsize = 11)\n",
    "    plt.ylabel('s', rotation='horizontal', labelpad=10, fontsize = 11)\n",
    "    plt.title(\"Data\", fontsize = 14)"
   ]
  },
  {
   "cell_type": "code",
   "execution_count": null,
   "id": "a1db909d-5f2d-4e78-ba05-2a0f4b1adba2",
   "metadata": {},
   "outputs": [],
   "source": [
    "compareGreen1D(Ginterp,validation.G[7])"
   ]
  }
 ],
 "metadata": {
  "kernelspec": {
   "display_name": "Python 3 (ipykernel)",
   "language": "python",
   "name": "python3"
  },
  "language_info": {
   "codemirror_mode": {
    "name": "ipython",
    "version": 3
   },
   "file_extension": ".py",
   "mimetype": "text/x-python",
   "name": "python",
   "nbconvert_exporter": "python",
   "pygments_lexer": "ipython3",
   "version": "3.12.3"
  }
 },
 "nbformat": 4,
 "nbformat_minor": 5
}
