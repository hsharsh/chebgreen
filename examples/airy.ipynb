{
 "cells": [
  {
   "cell_type": "code",
   "execution_count": null,
   "id": "70ecae76-a2fa-487b-9c13-141bfb6824b9",
   "metadata": {},
   "outputs": [],
   "source": [
    "from chebGreen import ChebGreen\n",
    "import numpy as np\n",
    "import matplotlib.pyplot as plt\n",
    "\n",
    "from chebGreen.chebpy2 import Quasimatrix\n",
    "from chebGreen.chebpy2.chebpy import chebfun\n",
    "from chebGreen.chebpy2 import Chebfun2\n",
    "# %env TF_MLC_LOGGING=1\n",
    "# %env TF_CPP_MIN_LOG_LEVEL=2"
   ]
  },
  {
   "cell_type": "code",
   "execution_count": null,
   "id": "cd72e517-8694-496d-b337-f1717bffd5d2",
   "metadata": {
    "tags": []
   },
   "outputs": [],
   "source": [
    "%%time\n",
    "Theta = [1,5,10]\n",
    "domain = [0,1,0,1]\n",
    "generateData = True\n",
    "script = \"generate_example\"\n",
    "example = \"airy_equation\"\n",
    "dirichletBC = True\n",
    "airy = ChebGreen(Theta, domain, generateData, script, example, dirichletBC)"
   ]
  },
  {
   "cell_type": "code",
   "execution_count": null,
   "id": "2d814773-76bf-4775-85a3-7f4fa5923a4d",
   "metadata": {},
   "outputs": [],
   "source": [
    "airy.G"
   ]
  },
  {
   "cell_type": "code",
   "execution_count": null,
   "id": "ba53d72c-47dd-44fc-8e2e-2c5abc3b6f09",
   "metadata": {},
   "outputs": [],
   "source": [
    "airy.N"
   ]
  },
  {
   "cell_type": "code",
   "execution_count": null,
   "id": "648134fa-8947-4bd3-a1db-5f2a914cf61b",
   "metadata": {},
   "outputs": [],
   "source": [
    "%%time\n",
    "for t in Theta:\n",
    "    fig = plt.figure()\n",
    "    airy.G[t].plot(fig = fig)\n",
    "    error = airy.computeEmpiricalError(t)\n",
    "    plt.title(f\"$\\\\theta = {{{t:4.2f}}}$,$\\\\epsilon_{{test}} = {{{error*100:4.2f}}}\\\\%$\")"
   ]
  },
  {
   "cell_type": "code",
   "execution_count": null,
   "id": "b060d27f-72b0-45a4-b3d5-965a6d6c8b4f",
   "metadata": {},
   "outputs": [],
   "source": [
    "%%time\n",
    "u,s,v = airy.G[1].svd()"
   ]
  },
  {
   "cell_type": "code",
   "execution_count": null,
   "id": "2abef19d-8b16-4d5c-898b-30a79c35d7dd",
   "metadata": {},
   "outputs": [],
   "source": [
    "fig = plt.figure(figsize = (8,6))\n",
    "plt.semilogy(s)"
   ]
  },
  {
   "cell_type": "code",
   "execution_count": null,
   "id": "e0ded6ba-8875-4617-ad26-2e013b732e8e",
   "metadata": {},
   "outputs": [],
   "source": [
    "# i = slice(10,20)\n",
    "i = slice(0,5)\n",
    "# i = 16\n",
    "fig = plt.figure(figsize = (8,6))\n",
    "u[:,i].plot(fig = fig)\n",
    "# print(np.max(u[:,i].vscale))\n",
    "# plt.title(f'First {i+1} left singular functions for a Laplacian')\n",
    "plt.xlim([0,1])\n",
    "# fig.savefig(f'Laplace-first.png', dpi = fig.dpi)"
   ]
  },
  {
   "cell_type": "code",
   "execution_count": null,
   "id": "14cd8ac3-f982-4f4c-aa55-52c0594a4323",
   "metadata": {},
   "outputs": [],
   "source": [
    "%%time\n",
    "theta_ = 7.0\n",
    "Ginterp, Ninterp = airy.generateNewModel(theta_)"
   ]
  },
  {
   "cell_type": "code",
   "execution_count": null,
   "id": "baefa5a0-2445-48c0-b82f-4bd181333f00",
   "metadata": {
    "tags": []
   },
   "outputs": [],
   "source": [
    "validation = ChebGreen([7], generateData = True, script = \"generate_example\", example = \"airy_equation\")"
   ]
  },
  {
   "cell_type": "code",
   "execution_count": null,
   "id": "c4da9a24-1f68-455d-95bd-c4d386d98245",
   "metadata": {},
   "outputs": [],
   "source": [
    "# vmin, vmax = -0.24,0.03\n",
    "# Gplot = validation.G[theta_]\n",
    "\n",
    "# xx = np.linspace(domain[0],domain[1],2000)\n",
    "# yy = np.linspace(domain[2],domain[3],2000)\n",
    "# x, y = np.meshgrid(xx,yy)\n",
    "# Gplot = Gplot[x,y]\n",
    "\n",
    "# fig = plt.figure(figsize = (13,10), frameon=False)\n",
    "# plt.axis('off')\n",
    "# plt.gca().set_aspect('equal', adjustable='box')\n",
    "# levels = np.linspace(vmin, vmax, 50, endpoint = True)\n",
    "# plt.contourf(x,y,Gplot, levels = levels, cmap = 'jet', vmin = vmin, vmax = vmax)\n",
    "# # ticks = np.linspace(vmin, vmax, 6, endpoint=True)\n",
    "# # cbar = plt.colorbar(ticks = ticks, fraction = 0.046, pad = 0.04)\n",
    "\n",
    "# fig.savefig('E.png', dpi = fig.dpi, bbox_inches='tight', pad_inches=0)"
   ]
  },
  {
   "cell_type": "code",
   "execution_count": null,
   "id": "d1804a94-b974-4a63-8342-8f71e9ab62b9",
   "metadata": {},
   "outputs": [],
   "source": [
    "fig = plt.figure()\n",
    "Ginterp.plot(fig = fig)\n",
    "error = airy.computeEmpiricalError(theta_)\n",
    "plt.title(f\"Interpolated Model $\\\\theta = {{{theta_:4.2f}}}$,$\\\\epsilon_{{test}} = {{{error*100:4.2f}}}\\\\%$\")\n",
    "# fig.savefig(f'poisson_greenlearning.png', dpi = fig.dpi)"
   ]
  },
  {
   "cell_type": "code",
   "execution_count": null,
   "id": "6425e5fd-d2f0-4882-aa46-55d89028ea77",
   "metadata": {},
   "outputs": [],
   "source": [
    "fig = plt.figure()\n",
    "validation.G[theta_].plot(fig = fig)\n",
    "error = validation.computeEmpiricalError(theta_)\n",
    "plt.title(f\"Validation Model $\\\\theta = {{{theta_:4.2f}}}$,$\\\\epsilon_{{test}} = {{{error*100:4.2f}}}\\\\%$\")"
   ]
  },
  {
   "cell_type": "code",
   "execution_count": null,
   "id": "bcae432c-8ce1-4539-83ab-66bc62440392",
   "metadata": {},
   "outputs": [],
   "source": [
    "def compareGreen1D(interpModel, exactModel, vmin = None, vmax = None):\n",
    "    domain = interpModel.domain\n",
    "    xx = np.linspace(domain[2],domain[3],2000)\n",
    "    yy = np.linspace(domain[0],domain[1],2000)\n",
    "    x, s = np.meshgrid(xx,yy)\n",
    "    \n",
    "    if vmin is None:\n",
    "        vmin = min(interpModel.min,exactModel.min)\n",
    "    if vmax is None:\n",
    "        vmax = max(interpModel.max,exactModel.max)\n",
    "        \n",
    "    plt.figure(figsize = (16,6))\n",
    "    plt.subplot(121)\n",
    "    \n",
    "    GInterp = interpModel[x,s]\n",
    "    \n",
    "    levels = np.linspace(vmin, vmax, 50, endpoint = True)\n",
    "    ticks = np.linspace(vmin, vmax, 10, endpoint=True)\n",
    "    \n",
    "    surf = plt.contourf(x, s, GInterp, levels = levels, cmap = 'turbo', vmin = vmin, vmax = vmax)\n",
    "    plt.gca().set_aspect('equal', adjustable='box')\n",
    "    cbar = plt.colorbar(ticks = ticks, fraction = 0.046, pad = 0.04)\n",
    "    cbar.ax.set_yticklabels([\"{:4.2f}\".format(i) for i in ticks])\n",
    "    plt.xlabel('$x$', fontsize = 11)\n",
    "    plt.ylabel('$s$', rotation='horizontal', labelpad=10, fontsize = 11)\n",
    "    plt.title(\"Interpolated\", fontsize = 14)\n",
    "    \n",
    "    GExact = exactModel[x,s]\n",
    "    \n",
    "    plt.subplot(122)\n",
    "    plt.gca().set_aspect('equal', adjustable='box')\n",
    "    surf = plt.contourf(x, s, GExact, levels = levels, cmap = 'turbo', vmin = vmin, vmax = vmax)\n",
    "    cbar = plt.colorbar(ticks = ticks, fraction = 0.046, pad = 0.04)\n",
    "    cbar.ax.set_yticklabels([\"{:4.2f}\".format(i) for i in ticks])\n",
    "    plt.xlabel('x', fontsize = 11)\n",
    "    plt.ylabel('s', rotation='horizontal', labelpad=10, fontsize = 11)\n",
    "    plt.title(\"Data\", fontsize = 14)"
   ]
  },
  {
   "cell_type": "code",
   "execution_count": null,
   "id": "a1db909d-5f2d-4e78-ba05-2a0f4b1adba2",
   "metadata": {},
   "outputs": [],
   "source": [
    "compareGreen1D(Ginterp,validation.G[7])"
   ]
  },
  {
   "cell_type": "code",
   "execution_count": null,
   "id": "904e9870-28cd-4255-abef-87f456318e0e",
   "metadata": {},
   "outputs": [],
   "source": []
  }
 ],
 "metadata": {
  "kernelspec": {
   "display_name": "Python 3 (ipykernel)",
   "language": "python",
   "name": "python3"
  },
  "language_info": {
   "codemirror_mode": {
    "name": "ipython",
    "version": 3
   },
   "file_extension": ".py",
   "mimetype": "text/x-python",
   "name": "python",
   "nbconvert_exporter": "python",
   "pygments_lexer": "ipython3",
   "version": "3.12.3"
  }
 },
 "nbformat": 4,
 "nbformat_minor": 5
}
