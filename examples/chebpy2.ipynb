{
 "cells": [
  {
   "cell_type": "code",
   "execution_count": null,
   "id": "6f244286-4c13-4dc8-959c-c9ec4a2f7f4d",
   "metadata": {},
   "outputs": [],
   "source": [
    "from chebGreen.chebpy2 import Chebfun2, Chebpy2Preferences\n",
    "import numpy as np\n",
    "import matplotlib.pyplot as plt"
   ]
  },
  {
   "cell_type": "code",
   "execution_count": null,
   "id": "73615c4e-69c1-4dc6-a20e-2f5b2a35c00b",
   "metadata": {},
   "outputs": [],
   "source": [
    "eps = 1e-6\n",
    "factor = 1e-2"
   ]
  },
  {
   "cell_type": "code",
   "execution_count": null,
   "id": "ddae1c35-b370-41ff-8529-b8ec743eaace",
   "metadata": {},
   "outputs": [],
   "source": [
    "def green(x,s):\n",
    "    np.random.seed(42)\n",
    "    g = 0\n",
    "    g = (x <= s) * (x * (1-s)) + (x > s) * (s * (1-x))\n",
    "    # g = g + np.random.normal(loc = 0.0, scale = 0.25 * eps * factor, size=x.shape)\n",
    "    return g"
   ]
  },
  {
   "cell_type": "code",
   "execution_count": null,
   "id": "7c22ee5e-f622-4d09-a91b-a591cde1f766",
   "metadata": {},
   "outputs": [],
   "source": [
    "cheb2prefs = Chebpy2Preferences()\n",
    "cheb2prefs.prefx.eps = eps\n",
    "cheb2prefs.prefx.eps = eps"
   ]
  },
  {
   "cell_type": "code",
   "execution_count": null,
   "id": "c67f0919-f13f-4a05-8736-5ca9f1ddd5e5",
   "metadata": {},
   "outputs": [],
   "source": [
    "%%time\n",
    "g = Chebfun2(green, domain = [0, 1, 0, 1], prefs = cheb2prefs)"
   ]
  },
  {
   "cell_type": "code",
   "execution_count": null,
   "id": "b49c4bd1-5bd1-49ea-8217-c31aa2af9ff4",
   "metadata": {},
   "outputs": [],
   "source": [
    "xx = np.linspace(0,1,2000)\n",
    "yy = np.linspace(0,1,2000)\n",
    "x, y = np.meshgrid(xx,yy)"
   ]
  },
  {
   "cell_type": "code",
   "execution_count": null,
   "id": "d2ada013-cdd6-4f3b-8dd3-e200fc2e33ff",
   "metadata": {},
   "outputs": [],
   "source": [
    "%%time\n",
    "G = g[x,y]"
   ]
  },
  {
   "cell_type": "code",
   "execution_count": null,
   "id": "f534a3ae-fc90-4f65-ad67-682ccb22aa68",
   "metadata": {},
   "outputs": [],
   "source": [
    "fig = plt.figure(figsize = (8,6))\n",
    "plt.contourf(x, y, G, 50, cmap = 'turbo', vmin = np.min(G), vmax = np.max(G))\n",
    "plt.colorbar()"
   ]
  },
  {
   "cell_type": "code",
   "execution_count": null,
   "id": "6837e26e-188b-4d34-95b4-321240c07fb9",
   "metadata": {},
   "outputs": [],
   "source": [
    "g"
   ]
  },
  {
   "cell_type": "code",
   "execution_count": null,
   "id": "50e3ff66-9e19-4091-b1c0-fdf576f87906",
   "metadata": {},
   "outputs": [],
   "source": [
    "%%time\n",
    "u,s,v = g.svd()"
   ]
  },
  {
   "cell_type": "code",
   "execution_count": null,
   "id": "a2f57c8e-0d60-4936-b2c3-8090ff0d28fb",
   "metadata": {},
   "outputs": [],
   "source": [
    "i = slice(0,-1)\n",
    "fig = plt.figure(figsize = (8,6))\n",
    "g.cols[:,i].plot(fig = fig)\n",
    "print(np.max(g.cols[:,i].vscale))\n",
    "plt.title(f'Columns of the C, in a CDR decomposition of G')\n",
    "plt.xlim([0,1])\n",
    "# fig.savefig(f'Laplace-first.png', dpi = fig.dpi)"
   ]
  },
  {
   "cell_type": "code",
   "execution_count": null,
   "id": "542feb3e-8ca7-42af-b38a-ae457f7a404d",
   "metadata": {},
   "outputs": [],
   "source": [
    "i = 15\n",
    "fig = plt.figure(figsize = (8,6))\n",
    "g.cols[:,i].plot()\n",
    "print(np.max(g.cols[:,i].vscale))\n",
    "plt.title(f'{i}th column of the C, in a CDR decomposition of G')\n",
    "plt.xlim([0,1])\n",
    "# fig.savefig(f'Laplace-first.png', dpi = fig.dpi)"
   ]
  },
  {
   "cell_type": "code",
   "execution_count": null,
   "id": "48cec4be-f06d-4e61-8863-7694e25e5ac9",
   "metadata": {},
   "outputs": [],
   "source": [
    "%%time\n",
    "u,s,v = g.svd()"
   ]
  },
  {
   "cell_type": "code",
   "execution_count": null,
   "id": "29931e27-2968-42d4-b144-5234cc8c664e",
   "metadata": {},
   "outputs": [],
   "source": [
    "u.shape"
   ]
  },
  {
   "cell_type": "code",
   "execution_count": null,
   "id": "076082e7-db70-4b66-aece-be1f45c1fccd",
   "metadata": {},
   "outputs": [],
   "source": [
    "i = 30\n",
    "fig = plt.figure(figsize = (8,6))\n",
    "u[:,:i].plot(fig = fig)\n",
    "print(np.max(u[:,:i].vscale))\n",
    "plt.title(f'First {i+1} left singular functions for a Laplacian')\n",
    "plt.xlim([0,1])\n",
    "# fig.savefig(f'Laplace-first.png', dpi = fig.dpi)"
   ]
  },
  {
   "cell_type": "code",
   "execution_count": null,
   "id": "7919cba1-e33b-45a5-b0aa-59c5d9efa822",
   "metadata": {},
   "outputs": [],
   "source": [
    "u[0,:i]"
   ]
  },
  {
   "cell_type": "code",
   "execution_count": null,
   "id": "dc931050-0a42-4c2e-a54b-cb3b162cc415",
   "metadata": {},
   "outputs": [],
   "source": [
    "Gtheory = green(x,y)\n",
    "np.linalg.norm(G-Gtheory)/np.linalg.norm(Gtheory)"
   ]
  },
  {
   "cell_type": "code",
   "execution_count": null,
   "id": "ffaf06c0-9adb-4607-aef9-7480b78d5bae",
   "metadata": {},
   "outputs": [],
   "source": [
    "fig = plt.figure(figsize = (8,6))\n",
    "plt.contourf(x, y, G, 50, cmap = 'turbo', vmin = np.min(G), vmax = np.max(G))\n",
    "plt.colorbar()"
   ]
  },
  {
   "cell_type": "code",
   "execution_count": null,
   "id": "4f84814a-e9dc-48f7-85d3-223bd36fec46",
   "metadata": {},
   "outputs": [],
   "source": [
    "error = np.abs(G-Gtheory)\n",
    "fig = plt.figure(figsize = (8,6))\n",
    "plt.contourf(x, y, error, 50, cmap = 'turbo', vmin = np.min(error), vmax = np.max(error))\n",
    "plt.colorbar()"
   ]
  },
  {
   "cell_type": "code",
   "execution_count": null,
   "id": "5089aafe-0ba0-44ee-8219-ac1b8194c1e9",
   "metadata": {},
   "outputs": [],
   "source": []
  }
 ],
 "metadata": {
  "kernelspec": {
   "display_name": "Python 3 (ipykernel)",
   "language": "python",
   "name": "python3"
  },
  "language_info": {
   "codemirror_mode": {
    "name": "ipython",
    "version": 3
   },
   "file_extension": ".py",
   "mimetype": "text/x-python",
   "name": "python",
   "nbconvert_exporter": "python",
   "pygments_lexer": "ipython3",
   "version": "3.12.3"
  }
 },
 "nbformat": 4,
 "nbformat_minor": 5
}
