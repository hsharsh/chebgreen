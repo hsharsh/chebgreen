{
 "cells": [
  {
   "cell_type": "code",
   "execution_count": null,
   "id": "788aa495-0096-4ce0-81f0-91f196300999",
   "metadata": {},
   "outputs": [],
   "source": [
    "from chebgreen.greenlearning.model import *\n",
    "from chebgreen.chebpy2 import Chebfun2, Chebpy2Preferences\n",
    "import matplotlib.pyplot as plt\n",
    "\n",
    "# %env TF_MLC_LOGGING=1 \n",
    "# %env TF_CPP_MIN_LOG_LEVEL=2"
   ]
  },
  {
   "cell_type": "code",
   "execution_count": null,
   "id": "c8b5fefd-8a40-4906-bacf-d74c89be2dd5",
   "metadata": {},
   "outputs": [],
   "source": [
    "from chebgreen.chebpy2.chebpy.core.algorithms import chebpts2"
   ]
  },
  {
   "cell_type": "code",
   "execution_count": null,
   "id": "0bcba4fa-dcfa-410a-b613-4aa472ea14b6",
   "metadata": {},
   "outputs": [],
   "source": [
    "model = GreenNN()\n",
    "dimension = 1\n",
    "domain = [0,1,0,1]\n",
    "layerConfig = [25,25]\n",
    "activation = 'rational'\n",
    "homogeneousBC = True\n",
    "# loadPath = 'savedModels/laplace'\n",
    "loadPath = 'savedModels/laplace'\n",
    "model.build(dimension, domain, layerConfig, activation, homogeneousBC, loadPath)"
   ]
  },
  {
   "cell_type": "code",
   "execution_count": null,
   "id": "e6f7187e-89b5-4dfb-bdf9-3a8dc1921d9b",
   "metadata": {},
   "outputs": [],
   "source": [
    "%%time\n",
    "cheb2prefs = Chebpy2Preferences()\n",
    "cheb2prefs.prefx.eps = 1e-6\n",
    "cheb2prefs.prefx.eps = 1e-6\n",
    "g = Chebfun2(model.evaluateG, domain = domain, prefs = cheb2prefs, simplify = False)"
   ]
  },
  {
   "cell_type": "code",
   "execution_count": null,
   "id": "d62ada24-5d90-4cfd-8db4-1707cc8ece5b",
   "metadata": {},
   "outputs": [],
   "source": [
    "g"
   ]
  },
  {
   "cell_type": "code",
   "execution_count": null,
   "id": "4302409d-8413-444c-8f1e-1e88564151e5",
   "metadata": {},
   "outputs": [],
   "source": [
    "%%time\n",
    "u,s,v = g.svd()"
   ]
  },
  {
   "cell_type": "code",
   "execution_count": null,
   "id": "5814d8e0-135f-412b-9681-c3b0591a1f1d",
   "metadata": {},
   "outputs": [],
   "source": [
    "g.plot()"
   ]
  },
  {
   "cell_type": "code",
   "execution_count": null,
   "id": "6e024988-2542-48c5-8172-d07662ce1894",
   "metadata": {},
   "outputs": [],
   "source": [
    "g"
   ]
  },
  {
   "cell_type": "code",
   "execution_count": null,
   "id": "1d7935a3-3bcd-4e6f-a011-6da8918e78ae",
   "metadata": {},
   "outputs": [],
   "source": [
    "%%time\n",
    "u,s,v = g.svd()"
   ]
  },
  {
   "cell_type": "code",
   "execution_count": null,
   "id": "d94125ae-ed59-4da9-99e9-4f7b07fcee5e",
   "metadata": {},
   "outputs": [],
   "source": [
    "u[:,:10].plot()"
   ]
  },
  {
   "cell_type": "code",
   "execution_count": null,
   "id": "3d14900b-cb14-45d9-882b-b4d67f413b05",
   "metadata": {},
   "outputs": [],
   "source": [
    "v[:10,:].plot()"
   ]
  },
  {
   "cell_type": "code",
   "execution_count": null,
   "id": "7dfdb912-8640-4a72-a741-2f6a2c08dd66",
   "metadata": {},
   "outputs": [],
   "source": [
    "def green(x,s):\n",
    "    np.random.seed(42)\n",
    "    g = 0\n",
    "    g = (x <= s) * (x * (1-s)) + (x > s) * (s * (1-x))\n",
    "    # g = g + np.random.normal(loc = 0.0, scale = 0.25 * eps * factor, size=x.shape)\n",
    "    return g"
   ]
  },
  {
   "cell_type": "code",
   "execution_count": null,
   "id": "82272593-3bb6-4ef3-a761-6db44ccc6434",
   "metadata": {},
   "outputs": [],
   "source": [
    "cheb2prefs = Chebpy2Preferences()\n",
    "cheb2prefs.prefx.eps = 1e-6\n",
    "cheb2prefs.prefx.eps = 1e-6"
   ]
  },
  {
   "cell_type": "code",
   "execution_count": null,
   "id": "b8367333-546a-45e6-b37d-654bfc1cc8f7",
   "metadata": {},
   "outputs": [],
   "source": [
    "%%time\n",
    "h = Chebfun2(green, domain = [0, 1, 0, 1], prefs = cheb2prefs)"
   ]
  },
  {
   "cell_type": "code",
   "execution_count": null,
   "id": "c9ecb148-d91a-4115-b3a5-13028327330e",
   "metadata": {},
   "outputs": [],
   "source": [
    "%%time\n",
    "_, exact, _ = h.svd()"
   ]
  },
  {
   "cell_type": "code",
   "execution_count": null,
   "id": "84eb02c1-678c-4db2-b01d-228fa7d07dc0",
   "metadata": {},
   "outputs": [],
   "source": [
    "fig = plt.figure(figsize = (10,8))\n",
    "plt.loglog(np.linspace(1,s.shape[0],s.shape[0]),s,'b-x',markersize = 4, alpha = 0.5)\n",
    "plt.loglog(np.linspace(1,exact.shape[0],exact.shape[0]),exact,'ro',markersize = 4, alpha = 0.3)\n",
    "# plt.xlim([1,100])\n",
    "plt.legend(['Computed','Exact'])\n",
    "# fig.savefig(f'svd-laplace-relu', dpi = 200)"
   ]
  },
  {
   "cell_type": "code",
   "execution_count": null,
   "id": "34931c72-9887-41f5-8a8e-a8576acae77f",
   "metadata": {},
   "outputs": [],
   "source": [
    "K=100\n",
    "plt.tight_layout()\n",
    "plt.subplots_adjust(left = 0.05, wspace=0.3, hspace=0.3)\n",
    "f, (ax1, ax2,ax3) = plt.subplots(1, 3, figsize = (24,6))\n",
    "u[:,:K].plot(fig = f, ax = ax1)\n",
    "ax1.set_xlim([0,1])\n",
    "ax1.set_xlabel('$s$')\n",
    "\n",
    "ax2.loglog(np.linspace(1,s.shape[0],s.shape[0]),s,'b-x',markersize = 4, alpha = 0.5)\n",
    "ax2.loglog(np.linspace(1,exact.shape[0],exact.shape[0]),exact,'ro',markersize = 4, alpha = 0.3)\n",
    "ax2.set_xlim([1,100])\n",
    "ax2.legend(['Computed','Exact'])\n",
    "ax2.set_ylim([1e-7,1])\n",
    "\n",
    "ax2.set_xlabel('$k$')\n",
    "v[:K,:].plot(fig = f, ax = ax3)\n",
    "ax3.set_xlim([0,1])\n",
    "ax3.set_xlabel('$x$')\n",
    "# f.savefig(f'chebGreen.png', dpi = fig.dpi)"
   ]
  },
  {
   "cell_type": "code",
   "execution_count": null,
   "id": "23f97096-2d0c-43ea-b8eb-9f483d66db3a",
   "metadata": {},
   "outputs": [],
   "source": [
    "def compareGreen1D(interpModel, exactModel, vmin = None, vmax = None):\n",
    "    domain = interpModel.domain\n",
    "    xx = np.linspace(domain[2],domain[3],2000)\n",
    "    yy = np.linspace(domain[0],domain[1],2000)\n",
    "    x, s = np.meshgrid(xx,yy)\n",
    "    \n",
    "    if vmin is None:\n",
    "        vmin = min(interpModel.min,exactModel.min)\n",
    "    if vmax is None:\n",
    "        vmax = max(interpModel.max,exactModel.max)\n",
    "        \n",
    "    plt.figure(figsize = (16,6))\n",
    "    plt.subplot(121)\n",
    "    \n",
    "    GInterp = interpModel[x,s]\n",
    "    \n",
    "    levels = np.linspace(vmin, vmax, 50, endpoint = True)\n",
    "    ticks = np.linspace(vmin, vmax, 10, endpoint=True)\n",
    "    \n",
    "    surf = plt.contourf(x, s, GInterp, levels = levels, cmap = 'turbo', vmin = vmin, vmax = vmax)\n",
    "    plt.gca().set_aspect('equal', adjustable='box')\n",
    "    cbar = plt.colorbar(ticks = ticks, fraction = 0.046, pad = 0.04)\n",
    "    cbar.ax.set_yticklabels([\"{:4.2f}\".format(i) for i in ticks])\n",
    "    plt.xlabel('$x$', fontsize = 11)\n",
    "    plt.ylabel('$s$', rotation='horizontal', labelpad=10, fontsize = 11)\n",
    "    plt.title(\"Interpolated\", fontsize = 14)\n",
    "    \n",
    "    GExact = exactModel[x,s]\n",
    "    \n",
    "    plt.subplot(122)\n",
    "    plt.gca().set_aspect('equal', adjustable='box')\n",
    "    surf = plt.contourf(x, s, GExact, levels = levels, cmap = 'turbo', vmin = vmin, vmax = vmax)\n",
    "    cbar = plt.colorbar(ticks = ticks, fraction = 0.046, pad = 0.04)\n",
    "    cbar.ax.set_yticklabels([\"{:4.2f}\".format(i) for i in ticks])\n",
    "    plt.xlabel('x', fontsize = 11)\n",
    "    plt.ylabel('s', rotation='horizontal', labelpad=10, fontsize = 11)\n",
    "    plt.title(\"Data\", fontsize = 14)"
   ]
  },
  {
   "cell_type": "code",
   "execution_count": null,
   "id": "6bc8cbed-8fec-4c82-a348-98814ce0aa14",
   "metadata": {},
   "outputs": [],
   "source": [
    "i = slice(15,20)\n",
    "fig = plt.figure(figsize = (8,6))\n",
    "g.cols[:,i].plot()\n",
    "print(np.max(g.cols[:,i].vscale))\n",
    "plt.title(f'Columns of the C, in a CDR decomposition of G')\n",
    "plt.xlim([0,1])\n",
    "# fig.savefig(f'Laplace-first.png', dpi = fig.dpi)"
   ]
  },
  {
   "cell_type": "code",
   "execution_count": null,
   "id": "7a1c4132-233a-4c0c-ac6a-1c3d2b4b1368",
   "metadata": {},
   "outputs": [],
   "source": [
    "%%time\n",
    "u,s,v = g.svd()"
   ]
  },
  {
   "cell_type": "code",
   "execution_count": null,
   "id": "a9b732f5-1213-40d9-9c16-16acc276ff11",
   "metadata": {},
   "outputs": [],
   "source": [
    "# i = slice(10,20)\n",
    "i = slice(0,10)\n",
    "# i = 16\n",
    "fig = plt.figure(figsize = (8,6))\n",
    "u[:,i].plot()\n",
    "print(np.max(u[:,i].vscale))\n",
    "# plt.title(f'First {i+1} left singular functions for a Laplacian')\n",
    "plt.xlim([0,1])\n",
    "# fig.savefig(f'Laplace-first.png', dpi = fig.dpi)"
   ]
  },
  {
   "cell_type": "code",
   "execution_count": null,
   "id": "c4832a8a-016d-468d-8420-e0b441c21f86",
   "metadata": {},
   "outputs": [],
   "source": [
    "plt.figure()\n",
    "plt.plot(s)"
   ]
  },
  {
   "cell_type": "code",
   "execution_count": null,
   "id": "437ef8b5-dd1d-482c-8503-26ddaa15f6a5",
   "metadata": {},
   "outputs": [],
   "source": [
    "xx = np.linspace(domain[0],domain[1],2000)\n",
    "yy = np.linspace(domain[2],domain[3],2000)\n",
    "x, y = np.meshgrid(xx,yy)"
   ]
  },
  {
   "cell_type": "code",
   "execution_count": null,
   "id": "4fb42ea5-5d47-47ed-befa-24d76c9515ad",
   "metadata": {},
   "outputs": [],
   "source": [
    "%%time\n",
    "Gneural = model.evaluateG(x,y)\n",
    "\n",
    "fig = plt.figure(figsize = (8,6))\n",
    "plt.contourf(x,y,Gneural, 50, cmap = 'turbo', vmin = np.min(Gneural), vmax = np.max(Gneural))\n",
    "plt.colorbar()\n",
    "# fig.savefig(f'poisson_greenlearning.png', dpi = fig.dpi)"
   ]
  },
  {
   "cell_type": "code",
   "execution_count": null,
   "id": "1773f18f-d641-4948-b2d6-4520055a0304",
   "metadata": {},
   "outputs": [],
   "source": [
    "%%time\n",
    "xx = np.linspace(domain[2],domain[3],2000)\n",
    "yy = np.linspace(domain[0],domain[1],2000)\n",
    "x, y = np.meshgrid(xx,yy)\n",
    "\n",
    "G = g[x,y]\n",
    "fig = plt.figure(figsize = (8,7))\n",
    "vmin, vmax = np.min(G), np.max(G)\n",
    "levels = np.linspace(vmin, vmax, 50, endpoint = True)\n",
    "plt.contourf(x,y,G, levels = levels, cmap = 'jet', vmin = vmin, vmax = vmax)\n",
    "\n",
    "ticks = np.linspace(vmin, vmax, 10, endpoint=True)\n",
    "cbar = plt.colorbar(ticks = ticks, fraction = 0.046, pad = 0.04)\n",
    "cbar.ax.set_yticklabels([\"{:4.2f}\".format(i) for i in ticks])\n",
    "\n",
    "plt.xlabel(f'$x$', fontsize = 14)\n",
    "plt.ylabel(f'$s$', rotation='horizontal', labelpad=11, fontsize = 14)\n",
    "fig.savefig(f'poissonchebfun.png', dpi = fig.dpi)"
   ]
  },
  {
   "cell_type": "code",
   "execution_count": null,
   "id": "80387177-8b4c-47fb-a9ef-a916180f6eee",
   "metadata": {},
   "outputs": [],
   "source": [
    "vmin, vmax = 0,0.25\n",
    "Gplot = g\n",
    "\n",
    "xx = np.linspace(domain[0],domain[1],2000)\n",
    "yy = np.linspace(domain[2],domain[3],2000)\n",
    "x, y = np.meshgrid(xx,yy)\n",
    "Gplot = Gplot[x,y]\n",
    "\n",
    "fig = plt.figure(figsize = (13,10), frameon=False)\n",
    "plt.axis('off')\n",
    "plt.gca().set_aspect('equal', adjustable='box')\n",
    "levels = np.linspace(vmin, vmax, 50, endpoint = True)\n",
    "plt.contourf(x,y,Gplot, levels = levels, cmap = 'jet', vmin = vmin, vmax = vmax)\n",
    "# ticks = np.linspace(vmin, vmax, 6, endpoint=True)\n",
    "# cbar = plt.colorbar(ticks = ticks, fraction = 0.046, pad = 0.04)\n",
    "\n",
    "fig.savefig('contlaplace-chebGreen.png', dpi = fig.dpi, bbox_inches='tight', pad_inches=0)"
   ]
  },
  {
   "cell_type": "code",
   "execution_count": null,
   "id": "f3fa7961-f032-4be7-a66d-46148f3eb875",
   "metadata": {},
   "outputs": [],
   "source": [
    "vmin, vmax = 0,0.25\n",
    "Gplot = green\n",
    "\n",
    "xx = np.linspace(domain[0],domain[1],2000)\n",
    "yy = np.linspace(domain[2],domain[3],2000)\n",
    "x, y = np.meshgrid(xx,yy)\n",
    "Gplot = Gplot(x,y)\n",
    "\n",
    "fig = plt.figure(figsize = (13,10), frameon=False)\n",
    "plt.axis('off')\n",
    "plt.gca().set_aspect('equal', adjustable='box')\n",
    "levels = np.linspace(vmin, vmax, 50, endpoint = True)\n",
    "plt.contourf(x,y,Gplot, levels = levels, cmap = 'jet', vmin = vmin, vmax = vmax)\n",
    "# ticks = np.linspace(vmin, vmax, 6, endpoint=True)\n",
    "# cbar = plt.colorbar(ticks = ticks, fraction = 0.046, pad = 0.04)\n",
    "\n",
    "fig.savefig('contlaplace-true.png', dpi = fig.dpi, bbox_inches='tight', pad_inches=0)"
   ]
  },
  {
   "cell_type": "code",
   "execution_count": null,
   "id": "7f63786b-595a-4ec0-8a88-085dabf29497",
   "metadata": {},
   "outputs": [],
   "source": [
    "N = 10\n",
    "x = chebpts2(N)\n",
    "fig = plt.figure(figsize = (10,3))\n",
    "plt.plot(x, x * 0, 'k.-')\n",
    "for xx in x:\n",
    "    if xx == -1:\n",
    "        plt.annotate(f'${{{xx:.2f}}}$', xy=(xx, 0), xytext=(-30, 10), textcoords='offset points')\n",
    "    elif xx == 1:\n",
    "        plt.annotate(f'${{{xx:.2f}}}$', xy=(xx, 0), xytext=(0, 10), textcoords='offset points')\n",
    "    else:\n",
    "        plt.annotate(f'${{{xx:.2f}}}$', xy=(xx, 0), xytext=(-10, 10), textcoords='offset points')\n",
    "plt.annotate(f'$x$', xy=(0, 0), xytext=(0, -15), textcoords='offset points')\n",
    "plt.axis('off')\n",
    "\n",
    "fig.savefig(f'chebpts.png', dpi = 200, bbox_inches='tight', pad_inches=0)"
   ]
  },
  {
   "cell_type": "code",
   "execution_count": null,
   "id": "6f3bc626-5ff5-4cab-bceb-68e2b3e63716",
   "metadata": {},
   "outputs": [],
   "source": [
    "def normL2(G, meshweights):\n",
    "    meshweights = meshweights.reshape((-1,1))\n",
    "    return np.sqrt(np.sum(meshweights * (G*G) * meshweights.T))\n",
    "\n",
    "def errorL2(G_emp, G, meshweights):\n",
    "    return normL2(G_emp-G, meshweights)/normL2(G, meshweights)"
   ]
  },
  {
   "cell_type": "code",
   "execution_count": null,
   "id": "3ac84393-ecfc-44e5-bbde-56d6ff9321d4",
   "metadata": {},
   "outputs": [],
   "source": [
    "def get_weights(x):\n",
    "    \"\"\"Trapezoidal weights for trapezoidal rule integration.\"\"\"\n",
    "    diff = np.diff(x, axis = 0)\n",
    "    weights = np.zeros(x.shape, dtype = np.float64)\n",
    "    weights[1:-1] = diff[1:] + diff[:-1]\n",
    "    weights[0] = diff[0]\n",
    "    weights[-1] = diff[-1]\n",
    "    weights = weights / 2\n",
    "    return weights"
   ]
  },
  {
   "cell_type": "code",
   "execution_count": null,
   "id": "9987b9a3-c93b-47c1-a677-7ec0c7c985d6",
   "metadata": {},
   "outputs": [],
   "source": [
    "x = np.linspace(0,1,11)"
   ]
  },
  {
   "cell_type": "code",
   "execution_count": null,
   "id": "861e1098-7fb3-456b-b351-32a73c0673c8",
   "metadata": {},
   "outputs": [],
   "source": [
    "get_weights(x)"
   ]
  },
  {
   "cell_type": "code",
   "execution_count": null,
   "id": "23625937-a68c-4fd7-82ec-5f0e9e3c4e1d",
   "metadata": {},
   "outputs": [],
   "source": [
    "xx = np.linspace(domain[2],domain[3],2000)\n",
    "yy = np.linspace(domain[0],domain[1],2000)\n",
    "x, y = np.meshgrid(xx,yy)"
   ]
  },
  {
   "cell_type": "code",
   "execution_count": null,
   "id": "26ef5d63-b7b0-432b-956b-fc899d09d999",
   "metadata": {},
   "outputs": [],
   "source": [
    "G = g[x,y]"
   ]
  },
  {
   "cell_type": "code",
   "execution_count": null,
   "id": "682e7be3-f614-44dd-a879-f0e26375ac65",
   "metadata": {},
   "outputs": [],
   "source": [
    "Gexact = green(x,y)"
   ]
  },
  {
   "cell_type": "code",
   "execution_count": null,
   "id": "564db460-d3ca-4eb5-83f7-96ad44803288",
   "metadata": {},
   "outputs": [],
   "source": [
    "meshweights = get_weights(xx)"
   ]
  },
  {
   "cell_type": "code",
   "execution_count": null,
   "id": "66c106d2-ed24-4d16-9b71-bc66b04b3c48",
   "metadata": {},
   "outputs": [],
   "source": [
    "errorL2(G,Gexact,meshweights)"
   ]
  },
  {
   "cell_type": "code",
   "execution_count": null,
   "id": "20782528-b5fb-4488-9bd0-872a7c7bf0fe",
   "metadata": {},
   "outputs": [],
   "source": []
  }
 ],
 "metadata": {
  "kernelspec": {
   "display_name": "Python 3 (ipykernel)",
   "language": "python",
   "name": "python3"
  },
  "language_info": {
   "codemirror_mode": {
    "name": "ipython",
    "version": 3
   },
   "file_extension": ".py",
   "mimetype": "text/x-python",
   "name": "python",
   "nbconvert_exporter": "python",
   "pygments_lexer": "ipython3",
   "version": "3.11.7"
  }
 },
 "nbformat": 4,
 "nbformat_minor": 5
}
