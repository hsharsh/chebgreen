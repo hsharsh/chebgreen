{
 "cells": [
  {
   "cell_type": "code",
   "execution_count": 1,
   "id": "dad96881-11e0-4559-9387-322ddb8736fc",
   "metadata": {},
   "outputs": [
    {
     "name": "stdout",
     "output_type": "stream",
     "text": [
      "env: TF_MLC_LOGGING=1\n",
      "env: TF_CPP_MIN_LOG_LEVEL=2\n"
     ]
    }
   ],
   "source": [
    "from chebGreen.greenlearning.utils import DataProcessor\n",
    "from chebGreen.greenlearning.model import *\n",
    "import matplotlib.pyplot as plt\n",
    "\n",
    "%env TF_MLC_LOGGING=1\n",
    "%env TF_CPP_MIN_LOG_LEVEL=2"
   ]
  },
  {
   "cell_type": "code",
   "execution_count": 2,
   "id": "e7c9e53c-3626-4ac1-a5ed-82dfc584c556",
   "metadata": {},
   "outputs": [],
   "source": [
    "example = 'laplace'\n",
    "script = 'generate_example'"
   ]
  },
  {
   "cell_type": "code",
   "execution_count": 3,
   "id": "3ae332dc-7b17-46d5-9707-2c7719dba30e",
   "metadata": {
    "scrolled": true,
    "tags": []
   },
   "outputs": [],
   "source": [
    "# import os\n",
    "# matlab_path = \"/Applications/MATLAB_R2023a.app/bin/matlab\"\n",
    "# examplematlab = \"\\'\"+example+\"\\'\"\n",
    "# matlabcmd = f\"{matlab_path} -nodisplay -nosplash -nodesktop -r \\\"{script}({examplematlab}); exit;\\\" | tail -n +11\"\n",
    "# with open(\"temp.sh\", 'w') as f:\n",
    "#     f.write(matlabcmd)\n",
    "#     f.close()\n",
    "# os.system(f\"bash temp.sh\")\n",
    "# os.remove(\"temp.sh\")"
   ]
  },
  {
   "cell_type": "code",
   "execution_count": 4,
   "id": "32435d4c-1a0c-438d-ae89-3ca7fb4cfefd",
   "metadata": {},
   "outputs": [
    {
     "name": "stdout",
     "output_type": "stream",
     "text": [
      "Metal device set to: Apple M1 Pro\n"
     ]
    }
   ],
   "source": [
    "data = DataProcessor(\"datasets/laplace/data.mat\")\n",
    "data.generateDataset(trainRatio = 0.95, batch_size = 1024)"
   ]
  },
  {
   "cell_type": "code",
   "execution_count": 5,
   "id": "6992906b-ac12-49f1-8f98-2c734c75c2d6",
   "metadata": {},
   "outputs": [
    {
     "name": "stdout",
     "output_type": "stream",
     "text": [
      "Using tensorflow 2.9.0\n"
     ]
    }
   ],
   "source": [
    "model = GreenNN()\n",
    "model.build()"
   ]
  },
  {
   "cell_type": "code",
   "execution_count": 7,
   "id": "0e3647c1-af51-4065-82d0-a9629c7e1780",
   "metadata": {
    "scrolled": true,
    "tags": []
   },
   "outputs": [
    {
     "name": "stdout",
     "output_type": "stream",
     "text": [
      "Loss at epoch 100: Training = 2.735E-03, Validation = 4.669E-03\n",
      "Loss at epoch 200: Training = 5.456E-04, Validation = 7.068E-04\n",
      "Loss at epoch 300: Training = 2.837E-04, Validation = 3.100E-04\n",
      "Loss at epoch 400: Training = 1.895E-04, Validation = 1.957E-04\n",
      "Loss at epoch 500: Training = 1.474E-04, Validation = 1.490E-04\n",
      "Loss at epoch 600: Training = 1.229E-04, Validation = 1.225E-04\n",
      "Loss at epoch 700: Training = 1.073E-04, Validation = 1.064E-04\n",
      "Loss at epoch 800: Training = 9.657E-05, Validation = 9.588E-05\n",
      "Loss at epoch 900: Training = 8.873E-05, Validation = 8.857E-05\n",
      "Loss at epoch 1000: Training = 8.279E-05, Validation = 8.319E-05\n",
      "Loss at epoch 1100: Training = 7.820E-05, Validation = 7.909E-05\n",
      "Loss at epoch 1200: Training = 7.458E-05, Validation = 7.588E-05\n",
      "Loss at epoch 1300: Training = 7.170E-05, Validation = 7.332E-05\n",
      "Loss at epoch 1400: Training = 6.938E-05, Validation = 7.124E-05\n",
      "Loss at epoch 1500: Training = 6.749E-05, Validation = 6.954E-05\n",
      "Loss at epoch 1600: Training = 6.595E-05, Validation = 6.814E-05\n",
      "Loss at epoch 1700: Training = 6.467E-05, Validation = 6.697E-05\n",
      "Loss at epoch 1800: Training = 6.362E-05, Validation = 6.601E-05\n",
      "Loss at epoch 1900: Training = 6.274E-05, Validation = 6.520E-05\n",
      "Loss at epoch 2000: Training = 6.201E-05, Validation = 6.452E-05\n",
      "Loss at epoch 2100: Training = 6.139E-05, Validation = 6.395E-05\n",
      "Loss at epoch 2200: Training = 6.088E-05, Validation = 6.347E-05\n",
      "Loss at epoch 2300: Training = 6.045E-05, Validation = 6.307E-05\n",
      "Loss at epoch 2400: Training = 6.008E-05, Validation = 6.273E-05\n",
      "Loss at epoch 2500: Training = 5.977E-05, Validation = 6.244E-05\n",
      "Loss at epoch 2600: Training = 5.951E-05, Validation = 6.220E-05\n",
      "Loss at epoch 2700: Training = 5.929E-05, Validation = 6.199E-05\n",
      "Loss at epoch 2800: Training = 5.911E-05, Validation = 6.181E-05\n",
      "Loss at epoch 2900: Training = 5.895E-05, Validation = 6.167E-05\n",
      "Loss at epoch 3000: Training = 5.882E-05, Validation = 6.154E-05\n",
      "Loss at epoch 3100: Training = 5.870E-05, Validation = 6.143E-05\n",
      "Loss at epoch 3200: Training = 5.861E-05, Validation = 6.134E-05\n",
      "Loss at epoch 3300: Training = 5.852E-05, Validation = 6.126E-05\n",
      "Loss at epoch 3400: Training = 5.845E-05, Validation = 6.120E-05\n",
      "Loss at epoch 3500: Training = 5.840E-05, Validation = 6.114E-05\n",
      "Loss at epoch 3600: Training = 5.835E-05, Validation = 6.109E-05\n",
      "Loss at epoch 3700: Training = 5.830E-05, Validation = 6.106E-05\n",
      "Loss at epoch 3800: Training = 5.827E-05, Validation = 6.102E-05\n",
      "Loss at epoch 3900: Training = 5.824E-05, Validation = 6.099E-05\n",
      "Loss at epoch 4000: Training = 5.821E-05, Validation = 6.096E-05\n",
      "Loss at epoch 4100: Training = 5.819E-05, Validation = 6.094E-05\n",
      "Loss at epoch 4200: Training = 5.817E-05, Validation = 6.093E-05\n",
      "Loss at epoch 4300: Training = 5.816E-05, Validation = 6.091E-05\n",
      "Loss at epoch 4400: Training = 5.815E-05, Validation = 6.090E-05\n",
      "Loss at epoch 4500: Training = 5.814E-05, Validation = 6.089E-05\n",
      "Loss at epoch 4600: Training = 5.813E-05, Validation = 6.088E-05\n",
      "Loss at epoch 4700: Training = 5.812E-05, Validation = 6.088E-05\n",
      "Loss at epoch 4800: Training = 5.812E-05, Validation = 6.087E-05\n",
      "Loss at epoch 4900: Training = 5.811E-05, Validation = 6.087E-05\n",
      "Loss at epoch 5000: Training = 5.811E-05, Validation = 6.086E-05\n",
      "Loss at epoch 5100: Training = 5.810E-05, Validation = 6.086E-05\n",
      "Loss at epoch 5200: Training = 5.810E-05, Validation = 6.086E-05\n",
      "Loss at epoch 5300: Training = 5.810E-05, Validation = 6.086E-05\n",
      "Loss at epoch 5400: Training = 5.810E-05, Validation = 6.086E-05\n",
      "Loss at epoch 5500: Training = 5.810E-05, Validation = 6.085E-05\n",
      "Loss at epoch 5600: Training = 5.809E-05, Validation = 6.085E-05\n",
      "Loss at epoch 5700: Training = 5.809E-05, Validation = 6.085E-05\n",
      "Loss at epoch 5800: Training = 5.809E-05, Validation = 6.085E-05\n",
      "Loss at epoch 5900: Training = 5.809E-05, Validation = 6.085E-05\n",
      "Loss at epoch 6000: Training = 5.809E-05, Validation = 6.085E-05\n",
      "Loss at epoch 6100: Training = 5.809E-05, Validation = 6.085E-05\n",
      "Loss at epoch 6200: Training = 5.809E-05, Validation = 6.085E-05\n",
      "Loss at epoch 6300: Training = 5.809E-05, Validation = 6.085E-05\n",
      "Loss at epoch 6400: Training = 5.809E-05, Validation = 6.085E-05\n",
      "Loss at epoch 6500: Training = 5.809E-05, Validation = 6.085E-05\n",
      "Loss at epoch 6600: Training = 5.809E-05, Validation = 6.085E-05\n",
      "Loss at epoch 6700: Training = 5.809E-05, Validation = 6.085E-05\n",
      "Loss at epoch 6800: Training = 5.809E-05, Validation = 6.085E-05\n",
      "Loss at epoch 6900: Training = 5.809E-05, Validation = 6.085E-05\n",
      "Loss at epoch 7000: Training = 5.809E-05, Validation = 6.085E-05\n",
      "Loss at epoch 7100: Training = 5.809E-05, Validation = 6.085E-05\n",
      "Loss at epoch 7200: Training = 5.809E-05, Validation = 6.085E-05\n",
      "Loss at epoch 7300: Training = 5.809E-05, Validation = 6.085E-05\n",
      "Loss at epoch 7400: Training = 5.809E-05, Validation = 6.085E-05\n",
      "Loss at epoch 7500: Training = 5.809E-05, Validation = 6.085E-05\n",
      "Loss at epoch 7600: Training = 5.809E-05, Validation = 6.085E-05\n",
      "Loss at epoch 7700: Training = 5.809E-05, Validation = 6.085E-05\n",
      "Loss at epoch 7800: Training = 5.809E-05, Validation = 6.085E-05\n",
      "Loss at epoch 7900: Training = 5.809E-05, Validation = 6.085E-05\n",
      "Loss at epoch 8000: Training = 5.809E-05, Validation = 6.085E-05\n",
      "Loss at epoch 8100: Training = 5.809E-05, Validation = 6.085E-05\n",
      "Loss at epoch 8200: Training = 5.809E-05, Validation = 6.085E-05\n",
      "Loss at epoch 8300: Training = 5.809E-05, Validation = 6.085E-05\n",
      "Loss at epoch 8400: Training = 5.809E-05, Validation = 6.085E-05\n",
      "Loss at epoch 8500: Training = 5.809E-05, Validation = 6.085E-05\n",
      "Loss at epoch 8600: Training = 5.809E-05, Validation = 6.085E-05\n",
      "Loss at epoch 8700: Training = 5.809E-05, Validation = 6.085E-05\n",
      "Loss at epoch 8800: Training = 5.809E-05, Validation = 6.085E-05\n",
      "Loss at epoch 8900: Training = 5.809E-05, Validation = 6.085E-05\n",
      "Loss at epoch 9000: Training = 5.809E-05, Validation = 6.085E-05\n",
      "Loss at epoch 9100: Training = 5.809E-05, Validation = 6.085E-05\n",
      "Loss at epoch 9200: Training = 5.809E-05, Validation = 6.085E-05\n",
      "Loss at epoch 9300: Training = 5.809E-05, Validation = 6.085E-05\n",
      "Loss at epoch 9400: Training = 5.809E-05, Validation = 6.085E-05\n",
      "Loss at epoch 9500: Training = 5.809E-05, Validation = 6.085E-05\n",
      "Loss at epoch 9600: Training = 5.809E-05, Validation = 6.085E-05\n",
      "Loss at epoch 9700: Training = 5.809E-05, Validation = 6.085E-05\n",
      "Loss at epoch 9800: Training = 5.809E-05, Validation = 6.085E-05\n",
      "Loss at epoch 9900: Training = 5.809E-05, Validation = 6.085E-05\n",
      "Loss at epoch 10000: Training = 5.809E-05, Validation = 6.085E-05\n",
      "CPU times: user 8min 47s, sys: 5min 12s, total: 13min 59s\n",
      "Wall time: 8min 6s\n"
     ]
    }
   ],
   "source": [
    "%%time\n",
    "lossHistory = model.train(data, epochs = {'adam':10000})"
   ]
  },
  {
   "cell_type": "code",
   "execution_count": 8,
   "id": "b46b57a2-42d7-4e6c-b202-8ff225b1a77f",
   "metadata": {},
   "outputs": [
    {
     "data": {
      "text/plain": [
       "<matplotlib.legend.Legend at 0x2e428add0>"
      ]
     },
     "execution_count": 8,
     "metadata": {},
     "output_type": "execute_result"
    },
    {
     "data": {
      "image/png": "[encoded data removed]",
      "text/plain": [
       "<Figure size 640x480 with 1 Axes>"
      ]
     },
     "metadata": {},
     "output_type": "display_data"
    }
   ],
   "source": [
    "plt.figure()\n",
    "plt.semilogy(range(len(lossHistory['training'])), lossHistory['training'], 'b', alpha = 0.5)\n",
    "plt.semilogy(range(len(lossHistory['validation'])), lossHistory['validation'], 'r--', alpha = 0.5)\n",
    "plt.xlabel('Epoch')\n",
    "plt.ylabel('Loss')\n",
    "plt.legend(['Training','Validation'])"
   ]
  },
  {
   "cell_type": "code",
   "execution_count": 9,
   "id": "9f681f69-f1e5-4e9b-b0e2-6aa86e1cbf3c",
   "metadata": {},
   "outputs": [
    {
     "ename": "AttributeError",
     "evalue": "EagerTensor object has no attribute 'reshape'. \n        If you are looking for numpy-related methods, please run the following:\n        from tensorflow.python.ops.numpy_ops import np_config\n        np_config.enable_numpy_behavior()\n      ",
     "output_type": "error",
     "traceback": [
      "\u001b[0;31m---------------------------------------------------------------------------\u001b[0m",
      "\u001b[0;31mAttributeError\u001b[0m                            Traceback (most recent call last)",
      "Cell \u001b[0;32mIn[9], line 3\u001b[0m\n\u001b[1;32m      1\u001b[0m xF, xU \u001b[38;5;241m=\u001b[39m data\u001b[38;5;241m.\u001b[39mxF, data\u001b[38;5;241m.\u001b[39mxU\n\u001b[1;32m      2\u001b[0m x, y \u001b[38;5;241m=\u001b[39m np\u001b[38;5;241m.\u001b[39mmeshgrid(xU, xF)\n\u001b[0;32m----> 3\u001b[0m G \u001b[38;5;241m=\u001b[39m \u001b[43mmodel\u001b[49m\u001b[38;5;241;43m.\u001b[39;49m\u001b[43mevaluateG\u001b[49m\u001b[43m(\u001b[49m\u001b[43mx\u001b[49m\u001b[43m,\u001b[49m\u001b[43my\u001b[49m\u001b[43m)\u001b[49m\n\u001b[1;32m      5\u001b[0m fig \u001b[38;5;241m=\u001b[39m plt\u001b[38;5;241m.\u001b[39mfigure(figsize \u001b[38;5;241m=\u001b[39m (\u001b[38;5;241m8\u001b[39m,\u001b[38;5;241m6\u001b[39m))\n\u001b[1;32m      6\u001b[0m plt\u001b[38;5;241m.\u001b[39mcontourf(x,y,G, \u001b[38;5;241m50\u001b[39m, cmap \u001b[38;5;241m=\u001b[39m \u001b[38;5;124m'\u001b[39m\u001b[38;5;124mturbo\u001b[39m\u001b[38;5;124m'\u001b[39m, vmin \u001b[38;5;241m=\u001b[39m np\u001b[38;5;241m.\u001b[39mmin(G), vmax \u001b[38;5;241m=\u001b[39m np\u001b[38;5;241m.\u001b[39mmax(G))\n",
      "File \u001b[0;32m~/continousegf/main/chebGreen/greenlearning/model.py:94\u001b[0m, in \u001b[0;36mGreenNN.evaluateG\u001b[0;34m(self, x, s)\u001b[0m\n\u001b[1;32m     90\u001b[0m \u001b[38;5;28;01mif\u001b[39;00m x\u001b[38;5;241m.\u001b[39mdtype \u001b[38;5;241m==\u001b[39m config(np):\n\u001b[1;32m     91\u001b[0m     X \u001b[38;5;241m=\u001b[39m tf\u001b[38;5;241m.\u001b[39mconstant(np\u001b[38;5;241m.\u001b[39mvstack([x\u001b[38;5;241m.\u001b[39mravel(), s\u001b[38;5;241m.\u001b[39mravel()])\u001b[38;5;241m.\u001b[39mT, dtype \u001b[38;5;241m=\u001b[39m config(tf))\n\u001b[1;32m     93\u001b[0m G \u001b[38;5;241m=\u001b[39m (\u001b[43mapproximateDistanceFunction\u001b[49m\u001b[43m(\u001b[49m\u001b[43mX\u001b[49m\u001b[43m[\u001b[49m\u001b[43m:\u001b[49m\u001b[43m,\u001b[49m\u001b[38;5;241;43m0\u001b[39;49m\u001b[43m]\u001b[49m\u001b[43m,\u001b[49m\u001b[43m \u001b[49m\u001b[43mX\u001b[49m\u001b[43m[\u001b[49m\u001b[43m:\u001b[49m\u001b[43m,\u001b[49m\u001b[38;5;241;43m1\u001b[39;49m\u001b[43m]\u001b[49m\u001b[43m,\u001b[49m\n\u001b[0;32m---> 94\u001b[0m \u001b[43m                                    \u001b[49m\u001b[38;5;28;43mself\u001b[39;49m\u001b[38;5;241;43m.\u001b[39;49m\u001b[43mdomain\u001b[49m\u001b[38;5;241;43m.\u001b[39;49m\u001b[43mastype\u001b[49m\u001b[43m(\u001b[49m\u001b[43mconfig\u001b[49m\u001b[43m(\u001b[49m\u001b[43mnp\u001b[49m\u001b[43m)\u001b[49m\u001b[43m)\u001b[49m\u001b[43m)\u001b[49m\u001b[38;5;241;43m.\u001b[39;49m\u001b[43mreshape\u001b[49m((\u001b[38;5;241m-\u001b[39m\u001b[38;5;241m1\u001b[39m,\u001b[38;5;241m1\u001b[39m))\u001b[38;5;241m*\u001b[39m\u001b[38;5;28mself\u001b[39m\u001b[38;5;241m.\u001b[39mG(X))\u001b[38;5;241m.\u001b[39mnumpy()\u001b[38;5;241m.\u001b[39mreshape(shape)\n\u001b[1;32m     95\u001b[0m \u001b[38;5;28;01mreturn\u001b[39;00m G\n",
      "File \u001b[0;32m~/miniconda/envs/mactf2/lib/python3.10/site-packages/tensorflow/python/framework/ops.py:440\u001b[0m, in \u001b[0;36mTensor.__getattr__\u001b[0;34m(self, name)\u001b[0m\n\u001b[1;32m    436\u001b[0m \u001b[38;5;28;01mdef\u001b[39;00m \u001b[38;5;21m__getattr__\u001b[39m(\u001b[38;5;28mself\u001b[39m, name):\n\u001b[1;32m    437\u001b[0m   \u001b[38;5;28;01mif\u001b[39;00m name \u001b[38;5;129;01min\u001b[39;00m {\u001b[38;5;124m\"\u001b[39m\u001b[38;5;124mT\u001b[39m\u001b[38;5;124m\"\u001b[39m, \u001b[38;5;124m\"\u001b[39m\u001b[38;5;124mastype\u001b[39m\u001b[38;5;124m\"\u001b[39m, \u001b[38;5;124m\"\u001b[39m\u001b[38;5;124mravel\u001b[39m\u001b[38;5;124m\"\u001b[39m, \u001b[38;5;124m\"\u001b[39m\u001b[38;5;124mtranspose\u001b[39m\u001b[38;5;124m\"\u001b[39m, \u001b[38;5;124m\"\u001b[39m\u001b[38;5;124mreshape\u001b[39m\u001b[38;5;124m\"\u001b[39m, \u001b[38;5;124m\"\u001b[39m\u001b[38;5;124mclip\u001b[39m\u001b[38;5;124m\"\u001b[39m, \u001b[38;5;124m\"\u001b[39m\u001b[38;5;124msize\u001b[39m\u001b[38;5;124m\"\u001b[39m,\n\u001b[1;32m    438\u001b[0m               \u001b[38;5;124m\"\u001b[39m\u001b[38;5;124mtolist\u001b[39m\u001b[38;5;124m\"\u001b[39m, \u001b[38;5;124m\"\u001b[39m\u001b[38;5;124mdata\u001b[39m\u001b[38;5;124m\"\u001b[39m}:\n\u001b[1;32m    439\u001b[0m     \u001b[38;5;66;03m# TODO(wangpeng): Export the enable_numpy_behavior knob\u001b[39;00m\n\u001b[0;32m--> 440\u001b[0m     \u001b[38;5;28;01mraise\u001b[39;00m \u001b[38;5;167;01mAttributeError\u001b[39;00m(\n\u001b[1;32m    441\u001b[0m         \u001b[38;5;124mf\u001b[39m\u001b[38;5;124m\"\u001b[39m\u001b[38;5;132;01m{\u001b[39;00m\u001b[38;5;28mtype\u001b[39m(\u001b[38;5;28mself\u001b[39m)\u001b[38;5;241m.\u001b[39m\u001b[38;5;18m__name__\u001b[39m\u001b[38;5;132;01m}\u001b[39;00m\u001b[38;5;124m object has no attribute \u001b[39m\u001b[38;5;124m'\u001b[39m\u001b[38;5;132;01m{\u001b[39;00mname\u001b[38;5;132;01m}\u001b[39;00m\u001b[38;5;124m'\u001b[39m\u001b[38;5;124m. \u001b[39m\u001b[38;5;124m\"\u001b[39m \u001b[38;5;241m+\u001b[39m \u001b[38;5;124m\"\"\"\u001b[39m\n\u001b[1;32m    442\u001b[0m \u001b[38;5;124m      If you are looking for numpy-related methods, please run the following:\u001b[39m\n\u001b[1;32m    443\u001b[0m \u001b[38;5;124m      from tensorflow.python.ops.numpy_ops import np_config\u001b[39m\n\u001b[1;32m    444\u001b[0m \u001b[38;5;124m      np_config.enable_numpy_behavior()\u001b[39m\n\u001b[1;32m    445\u001b[0m \u001b[38;5;124m    \u001b[39m\u001b[38;5;124m\"\"\"\u001b[39m)\n\u001b[1;32m    446\u001b[0m   \u001b[38;5;28mself\u001b[39m\u001b[38;5;241m.\u001b[39m\u001b[38;5;21m__getattribute__\u001b[39m(name)\n",
      "\u001b[0;31mAttributeError\u001b[0m: EagerTensor object has no attribute 'reshape'. \n        If you are looking for numpy-related methods, please run the following:\n        from tensorflow.python.ops.numpy_ops import np_config\n        np_config.enable_numpy_behavior()\n      "
     ]
    }
   ],
   "source": [
    "xF, xU = data.xF, data.xU\n",
    "x, y = np.meshgrid(xU, xF)\n",
    "G = model.evaluateG(x,y)\n",
    "\n",
    "fig = plt.figure(figsize = (8,6))\n",
    "plt.contourf(x,y,G, 50, cmap = 'turbo', vmin = np.min(G), vmax = np.max(G))\n",
    "plt.colorbar()"
   ]
  },
  {
   "cell_type": "code",
   "execution_count": 10,
   "id": "8473f468-a9a5-425b-b05e-0939fdbf3e42",
   "metadata": {},
   "outputs": [
    {
     "name": "stdout",
     "output_type": "stream",
     "text": [
      "WARNING:tensorflow:Compiled the loaded model, but the compiled metrics have yet to be built. `model.compile_metrics` will be empty until you train or evaluate the model.\n",
      "INFO:tensorflow:Assets written to: savedModels/laplace/G/assets\n",
      "WARNING:tensorflow:Compiled the loaded model, but the compiled metrics have yet to be built. `model.compile_metrics` will be empty until you train or evaluate the model.\n",
      "INFO:tensorflow:Assets written to: savedModels/laplace/N/assets\n"
     ]
    }
   ],
   "source": [
    "model.saveModels('savedModels/laplace')"
   ]
  },
  {
   "cell_type": "code",
   "execution_count": null,
   "id": "af4a5a24-8211-4394-a5e0-2f7a63ce5aca",
   "metadata": {},
   "outputs": [],
   "source": []
  }
 ],
 "metadata": {
  "kernelspec": {
   "display_name": "Python 3 (ipykernel)",
   "language": "python",
   "name": "python3"
  },
  "language_info": {
   "codemirror_mode": {
    "name": "ipython",
    "version": 3
   },
   "file_extension": ".py",
   "mimetype": "text/x-python",
   "name": "python",
   "nbconvert_exporter": "python",
   "pygments_lexer": "ipython3",
   "version": "3.10.10"
  }
 },
 "nbformat": 4,
 "nbformat_minor": 5
}
