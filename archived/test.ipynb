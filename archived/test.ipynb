{
 "cells": [
  {
   "cell_type": "code",
   "execution_count": 1,
   "id": "d92f7465-a0eb-4ea3-a6d3-dfaa34586197",
   "metadata": {},
   "outputs": [
    {
     "name": "stdout",
     "output_type": "stream",
     "text": [
      "Generating dataset for example 'airy_equation'\n",
      "Dataset found for Theta = 1.00. Skipping dataset generation.\n",
      "Dataset found for Theta = 5.00. Skipping dataset generation.\n",
      "Dataset found for Theta = 10.00. Skipping dataset generation.\n",
      "-------------------------------------------------------------------------------\n",
      "\n",
      "Generating chebfun2 models:\n",
      "Found saved model, Loading model for example 'airy_equation' at Theta = 1.00\n",
      "Learning a chebfun model for example 'airy_equation' at Theta = 1.00\n",
      "Chebfun model added for example 'airy_equation' at Theta = 1.00\n",
      "\n",
      "Found saved model, Loading model for example 'airy_equation' at Theta = 5.00\n",
      "Learning a chebfun model for example 'airy_equation' at Theta = 5.00\n",
      "Chebfun model added for example 'airy_equation' at Theta = 5.00\n",
      "\n",
      "Found saved model, Loading model for example 'airy_equation' at Theta = 10.00\n",
      "Learning a chebfun model for example 'airy_equation' at Theta = 10.00\n",
      "Chebfun model added for example 'airy_equation' at Theta = 10.00\n",
      "\n",
      "Generating dataset for example 'airy_equation'\n",
      "Dataset found for Theta = 7.00. Skipping dataset generation.\n",
      "-------------------------------------------------------------------------------\n",
      "\n",
      "Generating chebfun2 models:\n",
      "Found saved model, Loading model for example 'airy_equation' at Theta = 7.00\n",
      "Learning a chebfun model for example 'airy_equation' at Theta = 7.00\n",
      "Chebfun model added for example 'airy_equation' at Theta = 7.00\n",
      "\n"
     ]
    }
   ],
   "source": [
    "from chebGreen import ChebGreen\n",
    "import numpy as np\n",
    "import matplotlib.pyplot as plt\n",
    "\n",
    "from chebGreen.chebpy2 import Quasimatrix\n",
    "from chebGreen.chebpy2.chebpy import chebfun\n",
    "from chebGreen.chebpy2 import Chebfun2\n",
    "\n",
    "from chebGreen.utils import runCustomScript, computeEmpiricalError\n",
    "from chebGreen.greenlearning.utils import DataProcessor\n",
    "from pathlib import Path\n",
    "import shutil, time\n",
    "\n",
    "Theta = [1,5,10]\n",
    "theta_ = 7\n",
    "domain = [0,1,0,1]\n",
    "generateData = True\n",
    "script = \"generate_example\"\n",
    "example = \"airy_equation\"\n",
    "dirichletBC = True\n",
    "\n",
    "model = ChebGreen(Theta, domain, generateData, script, example, dirichletBC)\n",
    "\n",
    "Ginterp, Ninterp = model.generateNewModel(theta_)\n",
    "\n",
    "validation = ChebGreen([theta_], domain, generateData, script, example, dirichletBC)\n",
    "\n",
    "# Compute error for paper\n",
    "Nsample = 100\n",
    "lmbda = 0.01\n",
    "Nf = 500\n",
    "Nu = 500\n",
    "noise_level = 0\n",
    "seed = 42\n",
    "saveSuffix = \"validation\""
   ]
  },
  {
   "cell_type": "code",
   "execution_count": 2,
   "id": "26275053-753c-4741-94a7-32e480fd9bab",
   "metadata": {},
   "outputs": [],
   "source": [
    "datapath = f\"datasets/{example}-{saveSuffix}/{theta_:.2f}.mat\""
   ]
  },
  {
   "cell_type": "code",
   "execution_count": 3,
   "id": "984aea5b-5a66-4be8-b099-1ab43a9a6e50",
   "metadata": {},
   "outputs": [],
   "source": [
    "data = DataProcessor(datapath)\n",
    "data.generateDataset(trainRatio = 0)"
   ]
  },
  {
   "cell_type": "code",
   "execution_count": 4,
   "id": "328a1066-4009-410c-befa-9b19f448e856",
   "metadata": {},
   "outputs": [],
   "source": [
    "i = 11\n",
    "data.valDataset = ((data.valDataset[0])[i:i+1,:], (data.valDataset[1])[i:i+1,:])"
   ]
  },
  {
   "cell_type": "code",
   "execution_count": 5,
   "id": "2ddce5de-7011-42fc-9b50-ecedaafbdf45",
   "metadata": {},
   "outputs": [],
   "source": [
    "error, uc, u0 = model.computeEmpiricalError(theta_, data)"
   ]
  }
 ],
 "metadata": {
  "kernelspec": {
   "display_name": "Python 3 (ipykernel)",
   "language": "python",
   "name": "python3"
  },
  "language_info": {
   "codemirror_mode": {
    "name": "ipython",
    "version": 3
   },
   "file_extension": ".py",
   "mimetype": "text/x-python",
   "name": "python",
   "nbconvert_exporter": "python",
   "pygments_lexer": "ipython3",
   "version": "3.12.3"
  }
 },
 "nbformat": 4,
 "nbformat_minor": 5
}
